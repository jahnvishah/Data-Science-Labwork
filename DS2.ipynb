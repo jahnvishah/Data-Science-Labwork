{
  "nbformat": 4,
  "nbformat_minor": 0,
  "metadata": {
    "colab": {
      "name": "DS__2.ipynb",
      "provenance": [],
      "collapsed_sections": []
    },
    "kernelspec": {
      "name": "python3",
      "display_name": "Python 3"
    },
    "language_info": {
      "name": "python"
    }
  },
  "cells": [
    {
      "cell_type": "markdown",
      "source": [
        "Jahnvi Shah\n",
        "<br>2018130047\n",
        "\n",
        "##Experiment 2\n",
        "\n",
        "**Objective**: To implement and use Principal Component Analysis using Python Platform "
      ],
      "metadata": {
        "id": "OOG7PBWhHWoT"
      }
    },
    {
      "cell_type": "markdown",
      "source": [
        "General Steps:\n",
        "\n",
        "1. Load the dataset (Use pandas)\n",
        "\n",
        "2. Data Preprocessing (Handling NA values)\n",
        "\n",
        "3. Exploratory Data Analysis (understanding the relationships between the variables with help of plot, scatter-plot, energy-plot etc) Use matplotlib (What variables to include, sample size)\n",
        "\n",
        "4. Apply Normalization and Generate Covariance Matrix\n",
        "\n",
        "5. Apply PCA\n",
        "\n",
        "6. Build the model, summarize it and evaluate the model and Summarize\n",
        "\n",
        "7. Tuning the model"
      ],
      "metadata": {
        "id": "TRik3R6yIJeV"
      }
    },
    {
      "cell_type": "markdown",
      "source": [
        "##PCA"
      ],
      "metadata": {
        "id": "GYGRhdmUGf-5"
      }
    },
    {
      "cell_type": "markdown",
      "source": [
        "There are many ways to achieve dimensionality reduction, but most of these techniques fall into one of two classes:\n",
        "\n",
        "1) Feature Elimination\n",
        "<br>2) Feature Extraction\n",
        "\n",
        "Mathematically the main objective of PCA is to:\n",
        "\n",
        "1. Find an orthonormal basis for the data.\n",
        "\n",
        "2. Sort dimensions in the order of importance.\n",
        "\n",
        "3. Discard the low significance dimensions.\n",
        "\n",
        "4. Focus on uncorrelated and Gaussian components."
      ],
      "metadata": {
        "id": "8cGEqApgJP09"
      }
    },
    {
      "cell_type": "markdown",
      "source": [
        "When X1 and X2 are dependent on each other, then these variables end up interacting with each other. In other words, there is a correlation present amongst them. When two independent variables are very strongly interacting with each other, that is the correlation coefficient is close to 1 then we are providing the same information to the algorithm in two dimensions, which is nothing but redundancy. This unnecessarily increases the dimensionality of the features of the mathematical space. When we have too many dimensions more than required then we are exposing ourselves to the Curse of Dimensionality."
      ],
      "metadata": {
        "id": "d2RlGvALIt9d"
      }
    },
    {
      "cell_type": "code",
      "source": [
        "import math\n",
        "import numpy as np\n",
        "import pandas as pd\n",
        "import matplotlib.pyplot as plt\n",
        "import seaborn as sns\n",
        "from sklearn.model_selection import train_test_split\n",
        "from sklearn.linear_model import LinearRegression\n",
        "from sklearn.metrics import accuracy_score, classification_report, confusion_matrix, mean_squared_error, roc_curve, roc_auc_score, auc, r2_score"
      ],
      "metadata": {
        "id": "5sK7MpLzHWGI"
      },
      "execution_count": null,
      "outputs": []
    },
    {
      "cell_type": "markdown",
      "source": [
        "###1. Load the dataset (Using pandas)"
      ],
      "metadata": {
        "id": "-2cgTEFdJU47"
      }
    },
    {
      "cell_type": "code",
      "source": [
        "# importing dataset\n",
        "from google.colab import drive\n",
        "drive.mount('/content/drive', force_remount=True) \n",
        "df = pd.read_csv('drive/MyDrive/Datasets/Car/auto-mpg.csv', na_values = \"?\", comment = \"\\t\", skipinitialspace = True) \n",
        "\n",
        "data=pd.DataFrame(df)"
      ],
      "metadata": {
        "colab": {
          "base_uri": "https://localhost:8080/"
        },
        "id": "MU73OagQJV5U",
        "outputId": "4f4c098d-e865-4dec-e4d1-d9ffa5f74d2f"
      },
      "execution_count": null,
      "outputs": [
        {
          "output_type": "stream",
          "name": "stdout",
          "text": [
            "Mounted at /content/drive\n"
          ]
        }
      ]
    },
    {
      "cell_type": "code",
      "source": [
        "data.info()"
      ],
      "metadata": {
        "colab": {
          "base_uri": "https://localhost:8080/"
        },
        "id": "jkn0TrWRJV7h",
        "outputId": "4179a472-7849-410f-a369-28fb667bbcb9"
      },
      "execution_count": null,
      "outputs": [
        {
          "output_type": "stream",
          "name": "stdout",
          "text": [
            "<class 'pandas.core.frame.DataFrame'>\n",
            "RangeIndex: 398 entries, 0 to 397\n",
            "Data columns (total 9 columns):\n",
            " #   Column        Non-Null Count  Dtype  \n",
            "---  ------        --------------  -----  \n",
            " 0   mpg           398 non-null    float64\n",
            " 1   cylinders     398 non-null    int64  \n",
            " 2   displacement  398 non-null    float64\n",
            " 3   horsepower    392 non-null    float64\n",
            " 4   weight        398 non-null    int64  \n",
            " 5   acceleration  398 non-null    float64\n",
            " 6   model year    398 non-null    int64  \n",
            " 7   origin        398 non-null    int64  \n",
            " 8   car name      398 non-null    object \n",
            "dtypes: float64(4), int64(4), object(1)\n",
            "memory usage: 28.1+ KB\n"
          ]
        }
      ]
    },
    {
      "cell_type": "code",
      "source": [
        "data.describe()"
      ],
      "metadata": {
        "colab": {
          "base_uri": "https://localhost:8080/",
          "height": 300
        },
        "id": "2dI9aBNQO3Az",
        "outputId": "a8c85466-872b-4d20-cb89-48d1afa87967"
      },
      "execution_count": null,
      "outputs": [
        {
          "output_type": "execute_result",
          "data": {
            "text/plain": [
              "              mpg   cylinders  displacement  horsepower       weight  \\\n",
              "count  398.000000  398.000000    398.000000  392.000000   398.000000   \n",
              "mean    23.514573    5.454774    193.425879  104.469388  2970.424623   \n",
              "std      7.815984    1.701004    104.269838   38.491160   846.841774   \n",
              "min      9.000000    3.000000     68.000000   46.000000  1613.000000   \n",
              "25%     17.500000    4.000000    104.250000   75.000000  2223.750000   \n",
              "50%     23.000000    4.000000    148.500000   93.500000  2803.500000   \n",
              "75%     29.000000    8.000000    262.000000  126.000000  3608.000000   \n",
              "max     46.600000    8.000000    455.000000  230.000000  5140.000000   \n",
              "\n",
              "       acceleration  model year      origin  \n",
              "count    398.000000  398.000000  398.000000  \n",
              "mean      15.568090   76.010050    1.572864  \n",
              "std        2.757689    3.697627    0.802055  \n",
              "min        8.000000   70.000000    1.000000  \n",
              "25%       13.825000   73.000000    1.000000  \n",
              "50%       15.500000   76.000000    1.000000  \n",
              "75%       17.175000   79.000000    2.000000  \n",
              "max       24.800000   82.000000    3.000000  "
            ],
            "text/html": [
              "\n",
              "  <div id=\"df-68c80ff3-1135-4fab-b594-f0ab792cf056\">\n",
              "    <div class=\"colab-df-container\">\n",
              "      <div>\n",
              "<style scoped>\n",
              "    .dataframe tbody tr th:only-of-type {\n",
              "        vertical-align: middle;\n",
              "    }\n",
              "\n",
              "    .dataframe tbody tr th {\n",
              "        vertical-align: top;\n",
              "    }\n",
              "\n",
              "    .dataframe thead th {\n",
              "        text-align: right;\n",
              "    }\n",
              "</style>\n",
              "<table border=\"1\" class=\"dataframe\">\n",
              "  <thead>\n",
              "    <tr style=\"text-align: right;\">\n",
              "      <th></th>\n",
              "      <th>mpg</th>\n",
              "      <th>cylinders</th>\n",
              "      <th>displacement</th>\n",
              "      <th>horsepower</th>\n",
              "      <th>weight</th>\n",
              "      <th>acceleration</th>\n",
              "      <th>model year</th>\n",
              "      <th>origin</th>\n",
              "    </tr>\n",
              "  </thead>\n",
              "  <tbody>\n",
              "    <tr>\n",
              "      <th>count</th>\n",
              "      <td>398.000000</td>\n",
              "      <td>398.000000</td>\n",
              "      <td>398.000000</td>\n",
              "      <td>392.000000</td>\n",
              "      <td>398.000000</td>\n",
              "      <td>398.000000</td>\n",
              "      <td>398.000000</td>\n",
              "      <td>398.000000</td>\n",
              "    </tr>\n",
              "    <tr>\n",
              "      <th>mean</th>\n",
              "      <td>23.514573</td>\n",
              "      <td>5.454774</td>\n",
              "      <td>193.425879</td>\n",
              "      <td>104.469388</td>\n",
              "      <td>2970.424623</td>\n",
              "      <td>15.568090</td>\n",
              "      <td>76.010050</td>\n",
              "      <td>1.572864</td>\n",
              "    </tr>\n",
              "    <tr>\n",
              "      <th>std</th>\n",
              "      <td>7.815984</td>\n",
              "      <td>1.701004</td>\n",
              "      <td>104.269838</td>\n",
              "      <td>38.491160</td>\n",
              "      <td>846.841774</td>\n",
              "      <td>2.757689</td>\n",
              "      <td>3.697627</td>\n",
              "      <td>0.802055</td>\n",
              "    </tr>\n",
              "    <tr>\n",
              "      <th>min</th>\n",
              "      <td>9.000000</td>\n",
              "      <td>3.000000</td>\n",
              "      <td>68.000000</td>\n",
              "      <td>46.000000</td>\n",
              "      <td>1613.000000</td>\n",
              "      <td>8.000000</td>\n",
              "      <td>70.000000</td>\n",
              "      <td>1.000000</td>\n",
              "    </tr>\n",
              "    <tr>\n",
              "      <th>25%</th>\n",
              "      <td>17.500000</td>\n",
              "      <td>4.000000</td>\n",
              "      <td>104.250000</td>\n",
              "      <td>75.000000</td>\n",
              "      <td>2223.750000</td>\n",
              "      <td>13.825000</td>\n",
              "      <td>73.000000</td>\n",
              "      <td>1.000000</td>\n",
              "    </tr>\n",
              "    <tr>\n",
              "      <th>50%</th>\n",
              "      <td>23.000000</td>\n",
              "      <td>4.000000</td>\n",
              "      <td>148.500000</td>\n",
              "      <td>93.500000</td>\n",
              "      <td>2803.500000</td>\n",
              "      <td>15.500000</td>\n",
              "      <td>76.000000</td>\n",
              "      <td>1.000000</td>\n",
              "    </tr>\n",
              "    <tr>\n",
              "      <th>75%</th>\n",
              "      <td>29.000000</td>\n",
              "      <td>8.000000</td>\n",
              "      <td>262.000000</td>\n",
              "      <td>126.000000</td>\n",
              "      <td>3608.000000</td>\n",
              "      <td>17.175000</td>\n",
              "      <td>79.000000</td>\n",
              "      <td>2.000000</td>\n",
              "    </tr>\n",
              "    <tr>\n",
              "      <th>max</th>\n",
              "      <td>46.600000</td>\n",
              "      <td>8.000000</td>\n",
              "      <td>455.000000</td>\n",
              "      <td>230.000000</td>\n",
              "      <td>5140.000000</td>\n",
              "      <td>24.800000</td>\n",
              "      <td>82.000000</td>\n",
              "      <td>3.000000</td>\n",
              "    </tr>\n",
              "  </tbody>\n",
              "</table>\n",
              "</div>\n",
              "      <button class=\"colab-df-convert\" onclick=\"convertToInteractive('df-68c80ff3-1135-4fab-b594-f0ab792cf056')\"\n",
              "              title=\"Convert this dataframe to an interactive table.\"\n",
              "              style=\"display:none;\">\n",
              "        \n",
              "  <svg xmlns=\"http://www.w3.org/2000/svg\" height=\"24px\"viewBox=\"0 0 24 24\"\n",
              "       width=\"24px\">\n",
              "    <path d=\"M0 0h24v24H0V0z\" fill=\"none\"/>\n",
              "    <path d=\"M18.56 5.44l.94 2.06.94-2.06 2.06-.94-2.06-.94-.94-2.06-.94 2.06-2.06.94zm-11 1L8.5 8.5l.94-2.06 2.06-.94-2.06-.94L8.5 2.5l-.94 2.06-2.06.94zm10 10l.94 2.06.94-2.06 2.06-.94-2.06-.94-.94-2.06-.94 2.06-2.06.94z\"/><path d=\"M17.41 7.96l-1.37-1.37c-.4-.4-.92-.59-1.43-.59-.52 0-1.04.2-1.43.59L10.3 9.45l-7.72 7.72c-.78.78-.78 2.05 0 2.83L4 21.41c.39.39.9.59 1.41.59.51 0 1.02-.2 1.41-.59l7.78-7.78 2.81-2.81c.8-.78.8-2.07 0-2.86zM5.41 20L4 18.59l7.72-7.72 1.47 1.35L5.41 20z\"/>\n",
              "  </svg>\n",
              "      </button>\n",
              "      \n",
              "  <style>\n",
              "    .colab-df-container {\n",
              "      display:flex;\n",
              "      flex-wrap:wrap;\n",
              "      gap: 12px;\n",
              "    }\n",
              "\n",
              "    .colab-df-convert {\n",
              "      background-color: #E8F0FE;\n",
              "      border: none;\n",
              "      border-radius: 50%;\n",
              "      cursor: pointer;\n",
              "      display: none;\n",
              "      fill: #1967D2;\n",
              "      height: 32px;\n",
              "      padding: 0 0 0 0;\n",
              "      width: 32px;\n",
              "    }\n",
              "\n",
              "    .colab-df-convert:hover {\n",
              "      background-color: #E2EBFA;\n",
              "      box-shadow: 0px 1px 2px rgba(60, 64, 67, 0.3), 0px 1px 3px 1px rgba(60, 64, 67, 0.15);\n",
              "      fill: #174EA6;\n",
              "    }\n",
              "\n",
              "    [theme=dark] .colab-df-convert {\n",
              "      background-color: #3B4455;\n",
              "      fill: #D2E3FC;\n",
              "    }\n",
              "\n",
              "    [theme=dark] .colab-df-convert:hover {\n",
              "      background-color: #434B5C;\n",
              "      box-shadow: 0px 1px 3px 1px rgba(0, 0, 0, 0.15);\n",
              "      filter: drop-shadow(0px 1px 2px rgba(0, 0, 0, 0.3));\n",
              "      fill: #FFFFFF;\n",
              "    }\n",
              "  </style>\n",
              "\n",
              "      <script>\n",
              "        const buttonEl =\n",
              "          document.querySelector('#df-68c80ff3-1135-4fab-b594-f0ab792cf056 button.colab-df-convert');\n",
              "        buttonEl.style.display =\n",
              "          google.colab.kernel.accessAllowed ? 'block' : 'none';\n",
              "\n",
              "        async function convertToInteractive(key) {\n",
              "          const element = document.querySelector('#df-68c80ff3-1135-4fab-b594-f0ab792cf056');\n",
              "          const dataTable =\n",
              "            await google.colab.kernel.invokeFunction('convertToInteractive',\n",
              "                                                     [key], {});\n",
              "          if (!dataTable) return;\n",
              "\n",
              "          const docLinkHtml = 'Like what you see? Visit the ' +\n",
              "            '<a target=\"_blank\" href=https://colab.research.google.com/notebooks/data_table.ipynb>data table notebook</a>'\n",
              "            + ' to learn more about interactive tables.';\n",
              "          element.innerHTML = '';\n",
              "          dataTable['output_type'] = 'display_data';\n",
              "          await google.colab.output.renderOutput(dataTable, element);\n",
              "          const docLink = document.createElement('div');\n",
              "          docLink.innerHTML = docLinkHtml;\n",
              "          element.appendChild(docLink);\n",
              "        }\n",
              "      </script>\n",
              "    </div>\n",
              "  </div>\n",
              "  "
            ]
          },
          "metadata": {},
          "execution_count": 37
        }
      ]
    },
    {
      "cell_type": "markdown",
      "source": [
        "###2. Data Preprocessing"
      ],
      "metadata": {
        "id": "eqoQFVdxJVAZ"
      }
    },
    {
      "cell_type": "code",
      "source": [
        "print(data.isna().sum())"
      ],
      "metadata": {
        "colab": {
          "base_uri": "https://localhost:8080/"
        },
        "id": "nNKYN5SYLHCq",
        "outputId": "83761701-98ae-4395-8053-cc6cb7bcf15d"
      },
      "execution_count": null,
      "outputs": [
        {
          "output_type": "stream",
          "name": "stdout",
          "text": [
            "mpg             0\n",
            "cylinders       0\n",
            "displacement    0\n",
            "horsepower      6\n",
            "weight          0\n",
            "acceleration    0\n",
            "model year      0\n",
            "origin          0\n",
            "car name        0\n",
            "dtype: int64\n"
          ]
        }
      ]
    },
    {
      "cell_type": "code",
      "source": [
        "#replacing NA values of hoursepower column with mean value\n",
        "data[\"horsepower\"] = data[\"horsepower\"].fillna(data[\"horsepower\"].mean())\n",
        "\n",
        "print(data.isna().sum())"
      ],
      "metadata": {
        "colab": {
          "base_uri": "https://localhost:8080/"
        },
        "id": "wio52HyPfo9D",
        "outputId": "45347456-7ee9-432b-daa5-c9c0026bd79d"
      },
      "execution_count": null,
      "outputs": [
        {
          "output_type": "stream",
          "name": "stdout",
          "text": [
            "mpg             0\n",
            "cylinders       0\n",
            "displacement    0\n",
            "horsepower      0\n",
            "weight          0\n",
            "acceleration    0\n",
            "model year      0\n",
            "origin          0\n",
            "car name        0\n",
            "dtype: int64\n"
          ]
        }
      ]
    },
    {
      "cell_type": "code",
      "source": [
        "# drop car name column\n",
        "data.drop(['car name'], inplace = True, axis = 1)\n",
        "data.head()"
      ],
      "metadata": {
        "colab": {
          "base_uri": "https://localhost:8080/",
          "height": 206
        },
        "id": "9UiKV80IY6U7",
        "outputId": "052aa3d4-4b1d-451d-fd78-48d48c1afb26"
      },
      "execution_count": null,
      "outputs": [
        {
          "output_type": "execute_result",
          "data": {
            "text/plain": [
              "    mpg  cylinders  displacement  horsepower  weight  acceleration  \\\n",
              "0  18.0          8         307.0       130.0    3504          12.0   \n",
              "1  15.0          8         350.0       165.0    3693          11.5   \n",
              "2  18.0          8         318.0       150.0    3436          11.0   \n",
              "3  16.0          8         304.0       150.0    3433          12.0   \n",
              "4  17.0          8         302.0       140.0    3449          10.5   \n",
              "\n",
              "   model year  origin  \n",
              "0          70       1  \n",
              "1          70       1  \n",
              "2          70       1  \n",
              "3          70       1  \n",
              "4          70       1  "
            ],
            "text/html": [
              "\n",
              "  <div id=\"df-bf6736e9-65f4-4275-9403-fda823ef80d7\">\n",
              "    <div class=\"colab-df-container\">\n",
              "      <div>\n",
              "<style scoped>\n",
              "    .dataframe tbody tr th:only-of-type {\n",
              "        vertical-align: middle;\n",
              "    }\n",
              "\n",
              "    .dataframe tbody tr th {\n",
              "        vertical-align: top;\n",
              "    }\n",
              "\n",
              "    .dataframe thead th {\n",
              "        text-align: right;\n",
              "    }\n",
              "</style>\n",
              "<table border=\"1\" class=\"dataframe\">\n",
              "  <thead>\n",
              "    <tr style=\"text-align: right;\">\n",
              "      <th></th>\n",
              "      <th>mpg</th>\n",
              "      <th>cylinders</th>\n",
              "      <th>displacement</th>\n",
              "      <th>horsepower</th>\n",
              "      <th>weight</th>\n",
              "      <th>acceleration</th>\n",
              "      <th>model year</th>\n",
              "      <th>origin</th>\n",
              "    </tr>\n",
              "  </thead>\n",
              "  <tbody>\n",
              "    <tr>\n",
              "      <th>0</th>\n",
              "      <td>18.0</td>\n",
              "      <td>8</td>\n",
              "      <td>307.0</td>\n",
              "      <td>130.0</td>\n",
              "      <td>3504</td>\n",
              "      <td>12.0</td>\n",
              "      <td>70</td>\n",
              "      <td>1</td>\n",
              "    </tr>\n",
              "    <tr>\n",
              "      <th>1</th>\n",
              "      <td>15.0</td>\n",
              "      <td>8</td>\n",
              "      <td>350.0</td>\n",
              "      <td>165.0</td>\n",
              "      <td>3693</td>\n",
              "      <td>11.5</td>\n",
              "      <td>70</td>\n",
              "      <td>1</td>\n",
              "    </tr>\n",
              "    <tr>\n",
              "      <th>2</th>\n",
              "      <td>18.0</td>\n",
              "      <td>8</td>\n",
              "      <td>318.0</td>\n",
              "      <td>150.0</td>\n",
              "      <td>3436</td>\n",
              "      <td>11.0</td>\n",
              "      <td>70</td>\n",
              "      <td>1</td>\n",
              "    </tr>\n",
              "    <tr>\n",
              "      <th>3</th>\n",
              "      <td>16.0</td>\n",
              "      <td>8</td>\n",
              "      <td>304.0</td>\n",
              "      <td>150.0</td>\n",
              "      <td>3433</td>\n",
              "      <td>12.0</td>\n",
              "      <td>70</td>\n",
              "      <td>1</td>\n",
              "    </tr>\n",
              "    <tr>\n",
              "      <th>4</th>\n",
              "      <td>17.0</td>\n",
              "      <td>8</td>\n",
              "      <td>302.0</td>\n",
              "      <td>140.0</td>\n",
              "      <td>3449</td>\n",
              "      <td>10.5</td>\n",
              "      <td>70</td>\n",
              "      <td>1</td>\n",
              "    </tr>\n",
              "  </tbody>\n",
              "</table>\n",
              "</div>\n",
              "      <button class=\"colab-df-convert\" onclick=\"convertToInteractive('df-bf6736e9-65f4-4275-9403-fda823ef80d7')\"\n",
              "              title=\"Convert this dataframe to an interactive table.\"\n",
              "              style=\"display:none;\">\n",
              "        \n",
              "  <svg xmlns=\"http://www.w3.org/2000/svg\" height=\"24px\"viewBox=\"0 0 24 24\"\n",
              "       width=\"24px\">\n",
              "    <path d=\"M0 0h24v24H0V0z\" fill=\"none\"/>\n",
              "    <path d=\"M18.56 5.44l.94 2.06.94-2.06 2.06-.94-2.06-.94-.94-2.06-.94 2.06-2.06.94zm-11 1L8.5 8.5l.94-2.06 2.06-.94-2.06-.94L8.5 2.5l-.94 2.06-2.06.94zm10 10l.94 2.06.94-2.06 2.06-.94-2.06-.94-.94-2.06-.94 2.06-2.06.94z\"/><path d=\"M17.41 7.96l-1.37-1.37c-.4-.4-.92-.59-1.43-.59-.52 0-1.04.2-1.43.59L10.3 9.45l-7.72 7.72c-.78.78-.78 2.05 0 2.83L4 21.41c.39.39.9.59 1.41.59.51 0 1.02-.2 1.41-.59l7.78-7.78 2.81-2.81c.8-.78.8-2.07 0-2.86zM5.41 20L4 18.59l7.72-7.72 1.47 1.35L5.41 20z\"/>\n",
              "  </svg>\n",
              "      </button>\n",
              "      \n",
              "  <style>\n",
              "    .colab-df-container {\n",
              "      display:flex;\n",
              "      flex-wrap:wrap;\n",
              "      gap: 12px;\n",
              "    }\n",
              "\n",
              "    .colab-df-convert {\n",
              "      background-color: #E8F0FE;\n",
              "      border: none;\n",
              "      border-radius: 50%;\n",
              "      cursor: pointer;\n",
              "      display: none;\n",
              "      fill: #1967D2;\n",
              "      height: 32px;\n",
              "      padding: 0 0 0 0;\n",
              "      width: 32px;\n",
              "    }\n",
              "\n",
              "    .colab-df-convert:hover {\n",
              "      background-color: #E2EBFA;\n",
              "      box-shadow: 0px 1px 2px rgba(60, 64, 67, 0.3), 0px 1px 3px 1px rgba(60, 64, 67, 0.15);\n",
              "      fill: #174EA6;\n",
              "    }\n",
              "\n",
              "    [theme=dark] .colab-df-convert {\n",
              "      background-color: #3B4455;\n",
              "      fill: #D2E3FC;\n",
              "    }\n",
              "\n",
              "    [theme=dark] .colab-df-convert:hover {\n",
              "      background-color: #434B5C;\n",
              "      box-shadow: 0px 1px 3px 1px rgba(0, 0, 0, 0.15);\n",
              "      filter: drop-shadow(0px 1px 2px rgba(0, 0, 0, 0.3));\n",
              "      fill: #FFFFFF;\n",
              "    }\n",
              "  </style>\n",
              "\n",
              "      <script>\n",
              "        const buttonEl =\n",
              "          document.querySelector('#df-bf6736e9-65f4-4275-9403-fda823ef80d7 button.colab-df-convert');\n",
              "        buttonEl.style.display =\n",
              "          google.colab.kernel.accessAllowed ? 'block' : 'none';\n",
              "\n",
              "        async function convertToInteractive(key) {\n",
              "          const element = document.querySelector('#df-bf6736e9-65f4-4275-9403-fda823ef80d7');\n",
              "          const dataTable =\n",
              "            await google.colab.kernel.invokeFunction('convertToInteractive',\n",
              "                                                     [key], {});\n",
              "          if (!dataTable) return;\n",
              "\n",
              "          const docLinkHtml = 'Like what you see? Visit the ' +\n",
              "            '<a target=\"_blank\" href=https://colab.research.google.com/notebooks/data_table.ipynb>data table notebook</a>'\n",
              "            + ' to learn more about interactive tables.';\n",
              "          element.innerHTML = '';\n",
              "          dataTable['output_type'] = 'display_data';\n",
              "          await google.colab.output.renderOutput(dataTable, element);\n",
              "          const docLink = document.createElement('div');\n",
              "          docLink.innerHTML = docLinkHtml;\n",
              "          element.appendChild(docLink);\n",
              "        }\n",
              "      </script>\n",
              "    </div>\n",
              "  </div>\n",
              "  "
            ]
          },
          "metadata": {},
          "execution_count": 40
        }
      ]
    },
    {
      "cell_type": "markdown",
      "source": [
        "###3.Exploratory Data Analysis"
      ],
      "metadata": {
        "id": "s1jvoOIHJVGG"
      }
    },
    {
      "cell_type": "code",
      "source": [
        "correlation = data.corr()\n",
        "plt.figure(figsize=(10,10))\n",
        "sns.heatmap(correlation, vmax=1, square=True,annot=True,cmap='cubehelix')\n",
        "\n",
        "plt.title('Correlation between different fearures')"
      ],
      "metadata": {
        "colab": {
          "base_uri": "https://localhost:8080/",
          "height": 621
        },
        "id": "gXGwl3Z7JXES",
        "outputId": "faca6f71-fd93-4e63-8eb0-ec5385be1a32"
      },
      "execution_count": null,
      "outputs": [
        {
          "output_type": "execute_result",
          "data": {
            "text/plain": [
              "Text(0.5, 1.0, 'Correlation between different fearures')"
            ]
          },
          "metadata": {},
          "execution_count": 41
        },
        {
          "output_type": "display_data",
          "data": {
            "text/plain": [
              "<Figure size 720x720 with 2 Axes>"
            ],
            "image/png": "[encoded data removed]"
          },
          "metadata": {
            "needs_background": "light"
          }
        }
      ]
    },
    {
      "cell_type": "code",
      "source": [
        "X = data.drop(columns=['mpg'])\n",
        "y = data['mpg']\n",
        "X"
      ],
      "metadata": {
        "colab": {
          "base_uri": "https://localhost:8080/",
          "height": 424
        },
        "id": "OBtoRzahSESK",
        "outputId": "2a97c2fb-200d-4962-e27d-5d753446be8e"
      },
      "execution_count": null,
      "outputs": [
        {
          "output_type": "execute_result",
          "data": {
            "text/plain": [
              "     cylinders  displacement  horsepower  weight  acceleration  model year  \\\n",
              "0            8         307.0       130.0    3504          12.0          70   \n",
              "1            8         350.0       165.0    3693          11.5          70   \n",
              "2            8         318.0       150.0    3436          11.0          70   \n",
              "3            8         304.0       150.0    3433          12.0          70   \n",
              "4            8         302.0       140.0    3449          10.5          70   \n",
              "..         ...           ...         ...     ...           ...         ...   \n",
              "393          4         140.0        86.0    2790          15.6          82   \n",
              "394          4          97.0        52.0    2130          24.6          82   \n",
              "395          4         135.0        84.0    2295          11.6          82   \n",
              "396          4         120.0        79.0    2625          18.6          82   \n",
              "397          4         119.0        82.0    2720          19.4          82   \n",
              "\n",
              "     origin  \n",
              "0         1  \n",
              "1         1  \n",
              "2         1  \n",
              "3         1  \n",
              "4         1  \n",
              "..      ...  \n",
              "393       1  \n",
              "394       2  \n",
              "395       1  \n",
              "396       1  \n",
              "397       1  \n",
              "\n",
              "[398 rows x 7 columns]"
            ],
            "text/html": [
              "\n",
              "  <div id=\"df-16b5f428-89e0-4bd6-8e2b-77fb2398f869\">\n",
              "    <div class=\"colab-df-container\">\n",
              "      <div>\n",
              "<style scoped>\n",
              "    .dataframe tbody tr th:only-of-type {\n",
              "        vertical-align: middle;\n",
              "    }\n",
              "\n",
              "    .dataframe tbody tr th {\n",
              "        vertical-align: top;\n",
              "    }\n",
              "\n",
              "    .dataframe thead th {\n",
              "        text-align: right;\n",
              "    }\n",
              "</style>\n",
              "<table border=\"1\" class=\"dataframe\">\n",
              "  <thead>\n",
              "    <tr style=\"text-align: right;\">\n",
              "      <th></th>\n",
              "      <th>cylinders</th>\n",
              "      <th>displacement</th>\n",
              "      <th>horsepower</th>\n",
              "      <th>weight</th>\n",
              "      <th>acceleration</th>\n",
              "      <th>model year</th>\n",
              "      <th>origin</th>\n",
              "    </tr>\n",
              "  </thead>\n",
              "  <tbody>\n",
              "    <tr>\n",
              "      <th>0</th>\n",
              "      <td>8</td>\n",
              "      <td>307.0</td>\n",
              "      <td>130.0</td>\n",
              "      <td>3504</td>\n",
              "      <td>12.0</td>\n",
              "      <td>70</td>\n",
              "      <td>1</td>\n",
              "    </tr>\n",
              "    <tr>\n",
              "      <th>1</th>\n",
              "      <td>8</td>\n",
              "      <td>350.0</td>\n",
              "      <td>165.0</td>\n",
              "      <td>3693</td>\n",
              "      <td>11.5</td>\n",
              "      <td>70</td>\n",
              "      <td>1</td>\n",
              "    </tr>\n",
              "    <tr>\n",
              "      <th>2</th>\n",
              "      <td>8</td>\n",
              "      <td>318.0</td>\n",
              "      <td>150.0</td>\n",
              "      <td>3436</td>\n",
              "      <td>11.0</td>\n",
              "      <td>70</td>\n",
              "      <td>1</td>\n",
              "    </tr>\n",
              "    <tr>\n",
              "      <th>3</th>\n",
              "      <td>8</td>\n",
              "      <td>304.0</td>\n",
              "      <td>150.0</td>\n",
              "      <td>3433</td>\n",
              "      <td>12.0</td>\n",
              "      <td>70</td>\n",
              "      <td>1</td>\n",
              "    </tr>\n",
              "    <tr>\n",
              "      <th>4</th>\n",
              "      <td>8</td>\n",
              "      <td>302.0</td>\n",
              "      <td>140.0</td>\n",
              "      <td>3449</td>\n",
              "      <td>10.5</td>\n",
              "      <td>70</td>\n",
              "      <td>1</td>\n",
              "    </tr>\n",
              "    <tr>\n",
              "      <th>...</th>\n",
              "      <td>...</td>\n",
              "      <td>...</td>\n",
              "      <td>...</td>\n",
              "      <td>...</td>\n",
              "      <td>...</td>\n",
              "      <td>...</td>\n",
              "      <td>...</td>\n",
              "    </tr>\n",
              "    <tr>\n",
              "      <th>393</th>\n",
              "      <td>4</td>\n",
              "      <td>140.0</td>\n",
              "      <td>86.0</td>\n",
              "      <td>2790</td>\n",
              "      <td>15.6</td>\n",
              "      <td>82</td>\n",
              "      <td>1</td>\n",
              "    </tr>\n",
              "    <tr>\n",
              "      <th>394</th>\n",
              "      <td>4</td>\n",
              "      <td>97.0</td>\n",
              "      <td>52.0</td>\n",
              "      <td>2130</td>\n",
              "      <td>24.6</td>\n",
              "      <td>82</td>\n",
              "      <td>2</td>\n",
              "    </tr>\n",
              "    <tr>\n",
              "      <th>395</th>\n",
              "      <td>4</td>\n",
              "      <td>135.0</td>\n",
              "      <td>84.0</td>\n",
              "      <td>2295</td>\n",
              "      <td>11.6</td>\n",
              "      <td>82</td>\n",
              "      <td>1</td>\n",
              "    </tr>\n",
              "    <tr>\n",
              "      <th>396</th>\n",
              "      <td>4</td>\n",
              "      <td>120.0</td>\n",
              "      <td>79.0</td>\n",
              "      <td>2625</td>\n",
              "      <td>18.6</td>\n",
              "      <td>82</td>\n",
              "      <td>1</td>\n",
              "    </tr>\n",
              "    <tr>\n",
              "      <th>397</th>\n",
              "      <td>4</td>\n",
              "      <td>119.0</td>\n",
              "      <td>82.0</td>\n",
              "      <td>2720</td>\n",
              "      <td>19.4</td>\n",
              "      <td>82</td>\n",
              "      <td>1</td>\n",
              "    </tr>\n",
              "  </tbody>\n",
              "</table>\n",
              "<p>398 rows × 7 columns</p>\n",
              "</div>\n",
              "      <button class=\"colab-df-convert\" onclick=\"convertToInteractive('df-16b5f428-89e0-4bd6-8e2b-77fb2398f869')\"\n",
              "              title=\"Convert this dataframe to an interactive table.\"\n",
              "              style=\"display:none;\">\n",
              "        \n",
              "  <svg xmlns=\"http://www.w3.org/2000/svg\" height=\"24px\"viewBox=\"0 0 24 24\"\n",
              "       width=\"24px\">\n",
              "    <path d=\"M0 0h24v24H0V0z\" fill=\"none\"/>\n",
              "    <path d=\"M18.56 5.44l.94 2.06.94-2.06 2.06-.94-2.06-.94-.94-2.06-.94 2.06-2.06.94zm-11 1L8.5 8.5l.94-2.06 2.06-.94-2.06-.94L8.5 2.5l-.94 2.06-2.06.94zm10 10l.94 2.06.94-2.06 2.06-.94-2.06-.94-.94-2.06-.94 2.06-2.06.94z\"/><path d=\"M17.41 7.96l-1.37-1.37c-.4-.4-.92-.59-1.43-.59-.52 0-1.04.2-1.43.59L10.3 9.45l-7.72 7.72c-.78.78-.78 2.05 0 2.83L4 21.41c.39.39.9.59 1.41.59.51 0 1.02-.2 1.41-.59l7.78-7.78 2.81-2.81c.8-.78.8-2.07 0-2.86zM5.41 20L4 18.59l7.72-7.72 1.47 1.35L5.41 20z\"/>\n",
              "  </svg>\n",
              "      </button>\n",
              "      \n",
              "  <style>\n",
              "    .colab-df-container {\n",
              "      display:flex;\n",
              "      flex-wrap:wrap;\n",
              "      gap: 12px;\n",
              "    }\n",
              "\n",
              "    .colab-df-convert {\n",
              "      background-color: #E8F0FE;\n",
              "      border: none;\n",
              "      border-radius: 50%;\n",
              "      cursor: pointer;\n",
              "      display: none;\n",
              "      fill: #1967D2;\n",
              "      height: 32px;\n",
              "      padding: 0 0 0 0;\n",
              "      width: 32px;\n",
              "    }\n",
              "\n",
              "    .colab-df-convert:hover {\n",
              "      background-color: #E2EBFA;\n",
              "      box-shadow: 0px 1px 2px rgba(60, 64, 67, 0.3), 0px 1px 3px 1px rgba(60, 64, 67, 0.15);\n",
              "      fill: #174EA6;\n",
              "    }\n",
              "\n",
              "    [theme=dark] .colab-df-convert {\n",
              "      background-color: #3B4455;\n",
              "      fill: #D2E3FC;\n",
              "    }\n",
              "\n",
              "    [theme=dark] .colab-df-convert:hover {\n",
              "      background-color: #434B5C;\n",
              "      box-shadow: 0px 1px 3px 1px rgba(0, 0, 0, 0.15);\n",
              "      filter: drop-shadow(0px 1px 2px rgba(0, 0, 0, 0.3));\n",
              "      fill: #FFFFFF;\n",
              "    }\n",
              "  </style>\n",
              "\n",
              "      <script>\n",
              "        const buttonEl =\n",
              "          document.querySelector('#df-16b5f428-89e0-4bd6-8e2b-77fb2398f869 button.colab-df-convert');\n",
              "        buttonEl.style.display =\n",
              "          google.colab.kernel.accessAllowed ? 'block' : 'none';\n",
              "\n",
              "        async function convertToInteractive(key) {\n",
              "          const element = document.querySelector('#df-16b5f428-89e0-4bd6-8e2b-77fb2398f869');\n",
              "          const dataTable =\n",
              "            await google.colab.kernel.invokeFunction('convertToInteractive',\n",
              "                                                     [key], {});\n",
              "          if (!dataTable) return;\n",
              "\n",
              "          const docLinkHtml = 'Like what you see? Visit the ' +\n",
              "            '<a target=\"_blank\" href=https://colab.research.google.com/notebooks/data_table.ipynb>data table notebook</a>'\n",
              "            + ' to learn more about interactive tables.';\n",
              "          element.innerHTML = '';\n",
              "          dataTable['output_type'] = 'display_data';\n",
              "          await google.colab.output.renderOutput(dataTable, element);\n",
              "          const docLink = document.createElement('div');\n",
              "          docLink.innerHTML = docLinkHtml;\n",
              "          element.appendChild(docLink);\n",
              "        }\n",
              "      </script>\n",
              "    </div>\n",
              "  </div>\n",
              "  "
            ]
          },
          "metadata": {},
          "execution_count": 42
        }
      ]
    },
    {
      "cell_type": "code",
      "source": [
        "y"
      ],
      "metadata": {
        "colab": {
          "base_uri": "https://localhost:8080/"
        },
        "id": "Yr2oSgncSXCl",
        "outputId": "0b6df8ed-1129-4f65-e169-4460a6d5bc77"
      },
      "execution_count": null,
      "outputs": [
        {
          "output_type": "execute_result",
          "data": {
            "text/plain": [
              "0      18.0\n",
              "1      15.0\n",
              "2      18.0\n",
              "3      16.0\n",
              "4      17.0\n",
              "       ... \n",
              "393    27.0\n",
              "394    44.0\n",
              "395    32.0\n",
              "396    28.0\n",
              "397    31.0\n",
              "Name: mpg, Length: 398, dtype: float64"
            ]
          },
          "metadata": {},
          "execution_count": 43
        }
      ]
    },
    {
      "cell_type": "markdown",
      "source": [
        "###4.Apply Normalization and Generate Covariance Matrix"
      ],
      "metadata": {
        "id": "qfcS6odqJVJp"
      }
    },
    {
      "cell_type": "code",
      "source": [
        "from sklearn.preprocessing import StandardScaler\n",
        "X_std = StandardScaler().fit_transform(X)"
      ],
      "metadata": {
        "id": "1DmUXh-ZJX4B"
      },
      "execution_count": null,
      "outputs": []
    },
    {
      "cell_type": "code",
      "source": [
        "##Covariance Matrix\n",
        "mean_vec = np.mean(X_std, axis=0)\n",
        "cov_mat = (X_std - mean_vec).T.dot((X_std - mean_vec)) / (X_std.shape[0]-1)\n",
        "print('Covariance matrix \\n%s' %cov_mat)"
      ],
      "metadata": {
        "id": "rc8Os4LlJX6n",
        "colab": {
          "base_uri": "https://localhost:8080/"
        },
        "outputId": "36acfe31-495d-46fa-b0b4-4602d109b321"
      },
      "execution_count": null,
      "outputs": [
        {
          "output_type": "stream",
          "name": "stdout",
          "text": [
            "Covariance matrix \n",
            "[[ 1.00251889  0.95311615  0.84105256  0.89827376 -0.50669259 -0.34962425\n",
            "  -0.56396033]\n",
            " [ 0.95311615  1.00251889  0.89589723  0.93517383 -0.54505356 -0.37109656\n",
            "  -0.61094444]\n",
            " [ 0.84105256  0.89589723  1.00251889  0.86274199 -0.6859827  -0.4126879\n",
            "  -0.45481206]\n",
            " [ 0.89827376  0.93517383  0.86274199  1.00251889 -0.41850885 -0.30733654\n",
            "  -0.58248745]\n",
            " [-0.50669259 -0.54505356 -0.6859827  -0.41850885  1.00251889  0.28886274\n",
            "   0.20639158]\n",
            " [-0.34962425 -0.37109656 -0.4126879  -0.30733654  0.28886274  1.00251889\n",
            "   0.18111726]\n",
            " [-0.56396033 -0.61094444 -0.45481206 -0.58248745  0.20639158  0.18111726\n",
            "   1.00251889]]\n"
          ]
        }
      ]
    },
    {
      "cell_type": "code",
      "source": [
        "print('NumPy covariance matrix: \\n%s' %np.cov(X_std.T))"
      ],
      "metadata": {
        "colab": {
          "base_uri": "https://localhost:8080/"
        },
        "id": "0GP8-RS6VVS7",
        "outputId": "1ad76da5-2d4b-435f-ab21-0231bf1a100b"
      },
      "execution_count": null,
      "outputs": [
        {
          "output_type": "stream",
          "name": "stdout",
          "text": [
            "NumPy covariance matrix: \n",
            "[[ 1.00251889  0.95311615  0.84105256  0.89827376 -0.50669259 -0.34962425\n",
            "  -0.56396033]\n",
            " [ 0.95311615  1.00251889  0.89589723  0.93517383 -0.54505356 -0.37109656\n",
            "  -0.61094444]\n",
            " [ 0.84105256  0.89589723  1.00251889  0.86274199 -0.6859827  -0.4126879\n",
            "  -0.45481206]\n",
            " [ 0.89827376  0.93517383  0.86274199  1.00251889 -0.41850885 -0.30733654\n",
            "  -0.58248745]\n",
            " [-0.50669259 -0.54505356 -0.6859827  -0.41850885  1.00251889  0.28886274\n",
            "   0.20639158]\n",
            " [-0.34962425 -0.37109656 -0.4126879  -0.30733654  0.28886274  1.00251889\n",
            "   0.18111726]\n",
            " [-0.56396033 -0.61094444 -0.45481206 -0.58248745  0.20639158  0.18111726\n",
            "   1.00251889]]\n"
          ]
        }
      ]
    },
    {
      "cell_type": "code",
      "source": [
        "plt.figure(figsize=(8,8))\n",
        "sns.heatmap(cov_mat, vmax=1, square=True,annot=True,cmap='cubehelix')\n",
        "\n",
        "plt.title('Correlation between different features')"
      ],
      "metadata": {
        "colab": {
          "base_uri": "https://localhost:8080/",
          "height": 487
        },
        "id": "R91v9oxOVaz0",
        "outputId": "c0cb3435-41b3-4d79-ba58-5e8a0e2aed08"
      },
      "execution_count": null,
      "outputs": [
        {
          "output_type": "execute_result",
          "data": {
            "text/plain": [
              "Text(0.5, 1.0, 'Correlation between different features')"
            ]
          },
          "metadata": {},
          "execution_count": 47
        },
        {
          "output_type": "display_data",
          "data": {
            "text/plain": [
              "<Figure size 576x576 with 2 Axes>"
            ],
            "image/png": "[encoded data removed]"
          },
          "metadata": {
            "needs_background": "light"
          }
        }
      ]
    },
    {
      "cell_type": "code",
      "source": [
        "#eigen decomposition of covariance matrix\n",
        "eig_vals, eig_vecs = np.linalg.eig(cov_mat)\n",
        "\n",
        "print('Eigenvectors \\n%s' %eig_vecs)\n",
        "print('\\nEigenvalues \\n%s' %eig_vals)"
      ],
      "metadata": {
        "colab": {
          "base_uri": "https://localhost:8080/"
        },
        "id": "5cFpT5d0ViNZ",
        "outputId": "32b8fd22-b85c-46d4-a667-dea71b4c46f7"
      },
      "execution_count": null,
      "outputs": [
        {
          "output_type": "stream",
          "name": "stdout",
          "text": [
            "Eigenvectors \n",
            "[[-0.43862683 -0.11407739  0.02634794  0.24370468  0.68491672 -0.45261713\n",
            "  -0.24603555]\n",
            " [-0.45396453 -0.10535161  0.02428128  0.16138957  0.17977894  0.84975536\n",
            "  -0.04214764]\n",
            " [-0.43706212  0.13929117  0.17683559  0.11617996 -0.61194248 -0.14321108\n",
            "  -0.5914584 ]\n",
            " [-0.43230831 -0.20307205 -0.00510785  0.33523041 -0.31622223 -0.21724932\n",
            "   0.71573178]\n",
            " [ 0.29765673 -0.48625222 -0.55053864  0.53307937 -0.13422769  0.02860109\n",
            "  -0.26240759]\n",
            " [ 0.21479741 -0.63524052  0.73828912  0.02598658 -0.02117057  0.0113014\n",
            "  -0.06332078]\n",
            " [ 0.2981132   0.5246669   0.34533416  0.70981357  0.07505502  0.06634103\n",
            "   0.05222826]]\n",
            "\n",
            "Eigenvalues \n",
            "[4.61070498 0.94195348 0.7504296  0.48207565 0.13483114 0.03379454\n",
            " 0.06384286]\n"
          ]
        }
      ]
    },
    {
      "cell_type": "markdown",
      "source": [
        "###5. Apply PCA"
      ],
      "metadata": {
        "id": "2Qo1Fsh1JVMk"
      }
    },
    {
      "cell_type": "markdown",
      "source": [
        "In order to decide which eigenvector(s) can dropped without losing too much information for the construction of lower-dimensional subspace, we need to inspect the corresponding eigenvalues: The eigenvectors with the lowest eigenvalues bear the least information about the distribution of the data; those are the ones can be dropped.\n"
      ],
      "metadata": {
        "id": "qifXCdkgX71o"
      }
    },
    {
      "cell_type": "code",
      "source": [
        "# Make a list of (eigenvalue, eigenvector) tuples\n",
        "eig_pairs = [(np.abs(eig_vals[i]), eig_vecs[:,i]) for i in range(len(eig_vals))]\n",
        "\n",
        "# Sort the (eigenvalue, eigenvector) tuples from high to low\n",
        "eig_pairs.sort(key=lambda x: x[0], reverse=True)\n",
        "\n",
        "# Visually confirm that the list is correctly sorted by decreasing eigenvalues\n",
        "print('Eigenvalues in descending order:')\n",
        "for i in eig_pairs:\n",
        "    print(i[0])"
      ],
      "metadata": {
        "id": "PHMhUMnFJc7F",
        "colab": {
          "base_uri": "https://localhost:8080/"
        },
        "outputId": "01962c3b-e3d7-4115-e426-0114f2c43d0f"
      },
      "execution_count": null,
      "outputs": [
        {
          "output_type": "stream",
          "name": "stdout",
          "text": [
            "Eigenvalues in descending order:\n",
            "4.610704983135298\n",
            "0.941953476112717\n",
            "0.7504295981946147\n",
            "0.4820756498790898\n",
            "0.1348311351882661\n",
            "0.06384285819434009\n",
            "0.033794541109280346\n"
          ]
        }
      ]
    },
    {
      "cell_type": "code",
      "source": [
        "tot = sum(eig_vals)\n",
        "var_exp = [(i / tot)*100 for i in sorted(eig_vals, reverse=True)]"
      ],
      "metadata": {
        "id": "_r6HAsM1JdBx"
      },
      "execution_count": null,
      "outputs": []
    },
    {
      "cell_type": "code",
      "source": [
        "with plt.style.context('dark_background'):\n",
        "    plt.figure(figsize=(8, 6))\n",
        "\n",
        "    plt.bar(range(7), var_exp, alpha=0.5, align='center',label='individual explained variance')\n",
        "    plt.ylabel('Explained variance ratio')\n",
        "    plt.xlabel('Principal components')\n",
        "    plt.legend(loc='best')\n",
        "    plt.tight_layout()"
      ],
      "metadata": {
        "colab": {
          "base_uri": "https://localhost:8080/",
          "height": 441
        },
        "id": "um5oq6KRV3gs",
        "outputId": "7d2ed19f-3959-47cd-80da-14c211cea952"
      },
      "execution_count": null,
      "outputs": [
        {
          "output_type": "display_data",
          "data": {
            "text/plain": [
              "<Figure size 576x432 with 1 Axes>"
            ],
            "image/png": "[encoded data removed]"
          },
          "metadata": {}
        }
      ]
    },
    {
      "cell_type": "code",
      "source": [
        "matrix_w = np.hstack((eig_pairs[0][1].reshape(7,1), \n",
        "                      eig_pairs[1][1].reshape(7,1)\n",
        "                    ))\n",
        "print('Matrix W:\\n', matrix_w)"
      ],
      "metadata": {
        "colab": {
          "base_uri": "https://localhost:8080/"
        },
        "id": "D8gjVnBVZnVc",
        "outputId": "8652dc27-9027-4039-a8b9-1b051138097b"
      },
      "execution_count": null,
      "outputs": [
        {
          "output_type": "stream",
          "name": "stdout",
          "text": [
            "Matrix W:\n",
            " [[-0.43862683 -0.11407739]\n",
            " [-0.45396453 -0.10535161]\n",
            " [-0.43706212  0.13929117]\n",
            " [-0.43230831 -0.20307205]\n",
            " [ 0.29765673 -0.48625222]\n",
            " [ 0.21479741 -0.63524052]\n",
            " [ 0.2981132   0.5246669 ]]\n"
          ]
        }
      ]
    },
    {
      "cell_type": "code",
      "source": [
        "Y = X_std.dot(matrix_w)\n",
        "Y"
      ],
      "metadata": {
        "colab": {
          "base_uri": "https://localhost:8080/"
        },
        "id": "PZ9wHPvrZoeE",
        "outputId": "3b9f3607-3a0a-48bd-a8b1-945825823c63"
      },
      "execution_count": null,
      "outputs": [
        {
          "output_type": "execute_result",
          "data": {
            "text/plain": [
              "array([[-2.66582768e+00,  9.67827740e-01],\n",
              "       [-3.40487799e+00,  1.09500795e+00],\n",
              "       [-3.01621594e+00,  1.22259508e+00],\n",
              "       [-2.84558047e+00,  1.06093052e+00],\n",
              "       [-2.89258892e+00,  1.28742374e+00],\n",
              "       [-4.62063326e+00,  1.24480833e+00],\n",
              "       [-5.09636495e+00,  1.47326650e+00],\n",
              "       [-5.01062413e+00,  1.56753259e+00],\n",
              "       [-5.08622236e+00,  1.29691491e+00],\n",
              "       [-4.27011580e+00,  1.63776580e+00],\n",
              "       [-3.70167426e+00,  1.37591380e+00],\n",
              "       [-3.63932494e+00,  1.72495546e+00],\n",
              "       [-3.70190152e+00,  1.32642910e+00],\n",
              "       [-4.40180948e+00,  1.61841030e+00],\n",
              "       [ 1.26071190e+00,  2.35700170e+00],\n",
              "       [-5.52105523e-01,  6.27799453e-01],\n",
              "       [-5.49219771e-01,  6.48255838e-01],\n",
              "       [-2.66487145e-01,  5.60056743e-01],\n",
              "       [ 1.48031076e+00,  2.49400924e+00],\n",
              "       [ 2.38853350e+00,  6.97231436e-01],\n",
              "       [ 1.11012446e+00,  1.16245152e+00],\n",
              "       [ 8.88310559e-01,  1.76418779e+00],\n",
              "       [ 1.19643912e+00,  1.26903969e+00],\n",
              "       [ 4.47829129e-01,  2.23415415e+00],\n",
              "       [-4.58660478e-01,  7.41225308e-01],\n",
              "       [-4.22235974e+00,  6.04700103e-01],\n",
              "       [-3.58924508e+00,  4.84388116e-01],\n",
              "       [-3.91693333e+00,  7.73151609e-01],\n",
              "       [-3.29968478e+00, -2.41527894e-01],\n",
              "       [ 1.53847449e+00,  2.32199618e+00],\n",
              "       [ 6.23386859e-01,  7.67122537e-01],\n",
              "       [ 1.28440653e+00,  2.39611112e+00],\n",
              "       [ 1.13039522e+00,  2.96864219e-01],\n",
              "       [-8.67901690e-01,  9.28795504e-01],\n",
              "       [-1.03595076e+00,  3.19480997e-01],\n",
              "       [-1.03142603e+00,  3.02345793e-01],\n",
              "       [-8.80152583e-01,  2.65016128e-01],\n",
              "       [-9.32003305e-01,  3.30399575e-01],\n",
              "       [-3.55642467e+00,  7.10828755e-01],\n",
              "       [-4.07332310e+00,  7.23804939e-01],\n",
              "       [-3.23308930e+00,  4.14388393e-01],\n",
              "       [-3.07925709e+00,  5.39019452e-01],\n",
              "       [-4.30746497e+00,  6.41368448e-01],\n",
              "       [-4.10614708e+00,  5.49567300e-01],\n",
              "       [-4.36481549e+00,  4.73222628e-01],\n",
              "       [-1.20941881e+00,  7.71975900e-01],\n",
              "       [ 1.13424726e+00,  4.89116607e-02],\n",
              "       [-1.06143901e+00,  4.01904506e-01],\n",
              "       [-9.04910077e-01,  4.80700530e-01],\n",
              "       [ 6.08057920e-01,  1.04611437e+00],\n",
              "       [ 1.01012397e+00,  1.74505491e+00],\n",
              "       [ 2.01998315e+00,  7.50216561e-01],\n",
              "       [ 1.37624959e+00,  1.64791846e+00],\n",
              "       [ 2.58410778e+00,  1.55557568e+00],\n",
              "       [ 2.50763340e+00,  1.78413227e+00],\n",
              "       [ 2.12471419e+00,  8.41394822e-01],\n",
              "       [ 1.76441604e+00, -6.48758070e-02],\n",
              "       [ 1.47912271e+00,  1.94727113e+00],\n",
              "       [ 1.21402463e+00,  3.69906196e-01],\n",
              "       [ 2.52326457e+00, -2.47832544e-01],\n",
              "       [ 1.04023833e+00, -1.45656764e-01],\n",
              "       [ 9.33337023e-01,  4.31290905e-01],\n",
              "       [-3.53148487e+00,  5.23209125e-01],\n",
              "       [-3.92074308e+00,  4.82485908e-01],\n",
              "       [-2.98699127e+00,  2.69368490e-01],\n",
              "       [-3.21618357e+00,  3.36651823e-01],\n",
              "       [-2.90545127e+00,  7.47794197e-01],\n",
              "       [-4.66004563e+00,  6.90635094e-01],\n",
              "       [-3.37135425e+00,  1.67133861e-01],\n",
              "       [-3.40512224e+00,  1.96433677e-01],\n",
              "       [-4.05745964e+00,  4.40093701e-01],\n",
              "       [ 1.65912048e+00,  2.40583371e+00],\n",
              "       [-2.90982860e+00,  5.18424032e-01],\n",
              "       [-2.63697003e+00,  1.28085723e-01],\n",
              "       [-2.61377166e+00, -2.30501375e-01],\n",
              "       [-2.90330887e+00,  1.95020394e-01],\n",
              "       [ 4.34473422e-01,  1.36555049e+00],\n",
              "       [ 1.44084665e+00,  7.17518246e-01],\n",
              "       [ 1.24208625e+00,  3.81502054e-01],\n",
              "       [ 1.79460598e+00,  7.94564734e-01],\n",
              "       [ 7.92918376e-01,  4.78987778e-01],\n",
              "       [ 1.74023647e+00,  1.68528148e+00],\n",
              "       [ 1.20108381e+00,  2.06929653e+00],\n",
              "       [ 9.76276041e-01,  7.13372373e-01],\n",
              "       [ 1.82811810e+00,  1.80409032e+00],\n",
              "       [-3.39087098e+00,  2.52936069e-01],\n",
              "       [-2.84728753e+00,  5.75781139e-01],\n",
              "       [-2.98994176e+00,  1.70296405e-01],\n",
              "       [-2.55454246e+00, -8.81401702e-02],\n",
              "       [-2.85391326e+00,  3.59859551e-01],\n",
              "       [-4.59633765e+00,  3.17245492e-01],\n",
              "       [-3.61655767e+00,  2.00229039e-01],\n",
              "       [-3.33490628e+00,  1.26710270e-01],\n",
              "       [-2.87289067e+00, -1.03682802e-01],\n",
              "       [-4.78216183e+00,  5.08560842e-01],\n",
              "       [-5.07251651e+00,  4.78034635e-01],\n",
              "       [-3.50800169e+00,  6.62903656e-01],\n",
              "       [-6.49008746e-01, -1.24740886e-01],\n",
              "       [-6.18848364e-01, -4.70804968e-01],\n",
              "       [-5.86319300e-01, -1.95458204e-02],\n",
              "       [-5.12122654e-01, -1.88089497e-01],\n",
              "       [-3.59868638e-01,  6.43914016e-03],\n",
              "       [ 2.55828034e+00,  6.53066742e-02],\n",
              "       [-3.67284811e+00, -2.80840695e-01],\n",
              "       [-3.98319697e+00,  6.78979477e-02],\n",
              "       [-3.66035302e+00,  9.15484245e-02],\n",
              "       [-3.70613151e+00,  2.63664851e-01],\n",
              "       [-6.14654756e-01,  1.94457874e-01],\n",
              "       [ 2.06497044e+00,  1.14772936e+00],\n",
              "       [ 1.30818912e+00, -3.81707708e-01],\n",
              "       [ 1.62698665e+00,  1.57586713e+00],\n",
              "       [ 1.90277093e+00,  2.25772425e+00],\n",
              "       [ 1.17616704e+00, -1.17637521e-01],\n",
              "       [-3.05229033e-01,  5.50571855e-01],\n",
              "       [ 1.29444534e+00,  1.12032219e+00],\n",
              "       [-3.03798867e+00,  1.47726900e-01],\n",
              "       [-4.70815322e+00,  9.78340284e-01],\n",
              "       [ 2.53064483e+00,  3.90347794e-01],\n",
              "       [ 1.44251186e+00,  1.07303788e+00],\n",
              "       [ 8.89101792e-01,  1.29649671e+00],\n",
              "       [ 6.33933958e-01,  1.03259608e+00],\n",
              "       [-2.82281267e+00,  7.15439652e-01],\n",
              "       [ 6.01053327e-01,  1.34005693e+00],\n",
              "       [ 3.76125920e-02,  1.92211923e+00],\n",
              "       [-3.44144116e+00,  7.28971160e-01],\n",
              "       [-3.48873657e-01, -3.01387898e-01],\n",
              "       [-2.96009386e-01, -3.02609153e-01],\n",
              "       [-5.05665526e-01, -1.80994429e-01],\n",
              "       [-6.98403474e-01, -4.80195970e-01],\n",
              "       [ 2.61034173e+00,  9.96247508e-01],\n",
              "       [ 1.00339496e+00,  1.13358420e-02],\n",
              "       [ 2.94254308e+00,  6.71314299e-01],\n",
              "       [ 9.89732115e-01, -1.35252121e-01],\n",
              "       [-9.25859582e-01, -5.87040964e-01],\n",
              "       [-8.91061674e-01, -6.99396661e-01],\n",
              "       [-8.42324576e-01, -4.14883690e-01],\n",
              "       [-2.63538595e+00, -1.84696179e-01],\n",
              "       [-3.19036765e+00, -4.18995259e-01],\n",
              "       [-3.03525003e+00, -1.51970183e-01],\n",
              "       [-2.67327544e+00, -6.57122272e-01],\n",
              "       [-2.65584762e+00, -4.42882752e-01],\n",
              "       [ 1.56438669e+00,  7.57248635e-01],\n",
              "       [ 1.85328727e+00,  9.56067196e-01],\n",
              "       [ 1.36847835e+00,  1.07365277e+00],\n",
              "       [ 2.67893047e+00,  1.45815719e+00],\n",
              "       [ 2.63455091e+00,  9.57569366e-01],\n",
              "       [ 1.15065555e+00,  4.56822168e-01],\n",
              "       [ 1.63957236e+00,  9.39332687e-01],\n",
              "       [ 1.29358619e+00,  1.14471781e+00],\n",
              "       [ 1.38013705e+00,  1.64107818e+00],\n",
              "       [ 1.58239992e+00,  1.57386975e+00],\n",
              "       [ 1.88841162e+00,  8.58909494e-01],\n",
              "       [-5.45249745e-01, -4.51337830e-01],\n",
              "       [-8.68462816e-01, -4.86938378e-01],\n",
              "       [ 6.37523007e-02, -1.48367934e+00],\n",
              "       [ 4.16946104e-02, -1.15306976e+00],\n",
              "       [-3.88765988e+00, -3.14830838e-02],\n",
              "       [-2.99657549e+00, -4.58803334e-01],\n",
              "       [-2.88997005e+00, -5.10375307e-01],\n",
              "       [-3.20025613e+00, -4.12689862e-01],\n",
              "       [-5.31542937e-01, -1.43976683e+00],\n",
              "       [-8.22158769e-01, -1.03347247e+00],\n",
              "       [-7.74916522e-01, -1.07148755e+00],\n",
              "       [-4.87333657e-01, -1.10607427e+00],\n",
              "       [-7.36313007e-01, -1.72071543e-01],\n",
              "       [-1.64296139e+00, -1.16607385e-01],\n",
              "       [-2.17052582e+00,  1.89603522e-01],\n",
              "       [ 2.06121090e+00,  1.31181450e+00],\n",
              "       [ 9.06667037e-01, -3.01346722e-01],\n",
              "       [-4.54146579e-01, -3.56128802e-01],\n",
              "       [ 1.15008011e+00, -5.73139017e-01],\n",
              "       [ 1.11774609e+00,  1.66493138e+00],\n",
              "       [ 1.79285243e+00,  5.48555949e-01],\n",
              "       [ 1.63018207e+00,  1.10353526e+00],\n",
              "       [-3.51754463e-01, -5.73566623e-02],\n",
              "       [ 1.68031157e+00,  1.05494364e+00],\n",
              "       [-3.83320874e-01, -6.40497082e-01],\n",
              "       [ 1.00607128e+00,  7.62623837e-01],\n",
              "       [ 1.14618421e+00,  3.15765940e-01],\n",
              "       [ 7.63215827e-01,  7.95515639e-01],\n",
              "       [ 6.00441535e-01,  1.09991882e+00],\n",
              "       [ 2.69369656e+00,  1.06301779e+00],\n",
              "       [ 1.37381141e+00,  5.32793949e-01],\n",
              "       [ 1.66787820e+00,  3.16851548e-01],\n",
              "       [ 6.69019375e-01, -5.36630752e-02],\n",
              "       [ 1.46567030e+00, -4.76859479e-01],\n",
              "       [ 1.54663836e+00,  6.26126804e-01],\n",
              "       [-2.67803320e+00, -3.72976795e-01],\n",
              "       [-2.83648534e+00, -3.43615341e-01],\n",
              "       [-2.21796942e+00, -5.43133355e-01],\n",
              "       [-3.03764497e+00, -3.40390552e-01],\n",
              "       [-5.93364789e-01, -4.91723836e-01],\n",
              "       [-9.18227845e-01, -3.68678837e-01],\n",
              "       [ 8.40027348e-02, -8.71145381e-01],\n",
              "       [-1.95910112e-01, -8.88186152e-01],\n",
              "       [ 2.43043207e+00, -1.30392937e+00],\n",
              "       [ 2.20536963e+00, -1.30119076e+00],\n",
              "       [ 1.76008988e+00,  8.47620994e-01],\n",
              "       [ 2.74105301e+00,  9.08659519e-01],\n",
              "       [-5.58452571e-01, -9.98146318e-01],\n",
              "       [-1.94018344e-02, -1.66788056e+00],\n",
              "       [-9.41036357e-01, -7.20664662e-01],\n",
              "       [-4.00118582e-01, -9.57474300e-01],\n",
              "       [ 1.55922085e+00,  1.22417767e+00],\n",
              "       [ 2.42955440e+00,  1.00059641e+00],\n",
              "       [ 2.17078198e+00,  1.07302389e+00],\n",
              "       [ 7.61223820e-01,  1.04509271e-01],\n",
              "       [ 7.61226572e-01,  3.67923662e-01],\n",
              "       [-2.68708643e+00, -3.18899648e-01],\n",
              "       [ 1.57391906e+00, -7.96483578e-01],\n",
              "       [ 5.25764510e-01,  9.72337321e-01],\n",
              "       [-3.61398322e-01, -7.65142556e-02],\n",
              "       [-3.51404413e+00, -1.53183122e-01],\n",
              "       [-2.95776964e+00, -1.85281622e-01],\n",
              "       [-2.15790678e+00, -6.76713144e-01],\n",
              "       [-2.50606772e+00, -4.15719280e-01],\n",
              "       [ 2.58795706e+00,  5.30102440e-01],\n",
              "       [ 1.19341041e+00, -1.22373826e-01],\n",
              "       [ 2.53644588e+00, -1.06995876e-01],\n",
              "       [ 9.63698031e-01, -2.33483615e-01],\n",
              "       [ 2.48910473e+00,  8.74697487e-01],\n",
              "       [-2.55995521e+00, -3.58026855e-01],\n",
              "       [-1.35235886e+00, -1.63106860e+00],\n",
              "       [-2.61983342e+00, -6.45462053e-01],\n",
              "       [-2.32778369e+00, -9.33114381e-01],\n",
              "       [-7.97365884e-01, -8.97974665e-01],\n",
              "       [-5.54665776e-01, -9.62472902e-01],\n",
              "       [-4.89554955e-01, -1.16511725e+00],\n",
              "       [-3.81459354e-01, -1.40201216e+00],\n",
              "       [-3.70013266e+00, -1.60814404e-01],\n",
              "       [-3.30707627e+00, -1.86501226e-01],\n",
              "       [-3.74948253e+00, -3.43717404e-01],\n",
              "       [-2.82272564e+00, -8.52300308e-01],\n",
              "       [ 1.72697898e+00,  6.44049995e-01],\n",
              "       [ 7.58064948e-01, -4.85948076e-01],\n",
              "       [ 2.36725179e+00,  5.56813449e-01],\n",
              "       [ 7.65278751e-01, -4.39460864e-01],\n",
              "       [ 1.73575202e+00, -5.34724893e-01],\n",
              "       [ 1.37548333e+00, -2.73263947e-01],\n",
              "       [ 2.40748755e+00,  9.12619754e-01],\n",
              "       [ 1.55596550e+00,  6.54643886e-01],\n",
              "       [ 7.04245103e-01,  9.74438914e-01],\n",
              "       [ 7.34689041e-01,  8.78268268e-01],\n",
              "       [ 1.55807451e+00,  1.48947596e+00],\n",
              "       [ 2.89284810e+00, -8.77052523e-01],\n",
              "       [ 1.60685355e+00, -1.76494879e-01],\n",
              "       [ 3.04453615e+00,  1.75418722e-01],\n",
              "       [ 2.67790748e+00,  3.54885532e-01],\n",
              "       [ 2.66655948e+00,  7.65538050e-01],\n",
              "       [-1.31720976e+00, -1.01829367e+00],\n",
              "       [-2.35141520e+00, -6.50215366e-01],\n",
              "       [-2.22910300e+00, -5.27444204e-01],\n",
              "       [-3.04159530e-01, -1.56695730e+00],\n",
              "       [ 3.16964313e-02, -1.30432025e+00],\n",
              "       [-1.60017717e-02, -8.71496355e-01],\n",
              "       [ 8.09559200e-01, -5.36102248e-01],\n",
              "       [-3.83200197e-01, -1.20083613e+00],\n",
              "       [-1.86703965e-01, -1.19160574e+00],\n",
              "       [-5.92381030e-01, -9.29478697e-01],\n",
              "       [ 2.75943994e-02, -1.05560010e+00],\n",
              "       [-4.32767584e-01, -1.47476689e+00],\n",
              "       [-9.72906218e-01, -7.85647146e-01],\n",
              "       [-2.19357298e+00, -5.44377453e-01],\n",
              "       [-1.57234354e+00, -3.02308281e-01],\n",
              "       [-2.21545448e+00, -1.57330625e-01],\n",
              "       [-2.47372114e+00, -8.21324209e-01],\n",
              "       [ 1.62944072e+00, -6.25179341e-01],\n",
              "       [ 1.45192587e+00,  1.05575199e+00],\n",
              "       [ 1.68133429e+00,  1.05238108e+00],\n",
              "       [ 1.26425265e+00, -2.71615377e-01],\n",
              "       [ 1.53977077e+00,  9.60627785e-01],\n",
              "       [ 6.72774831e-01, -7.25735856e-01],\n",
              "       [ 9.64732676e-01, -9.79002534e-01],\n",
              "       [ 1.64927945e+00,  9.91860878e-01],\n",
              "       [ 7.88729252e-01,  9.10563745e-04],\n",
              "       [-2.68007569e-01,  3.13340336e-01],\n",
              "       [ 9.49312035e-01,  1.65701687e-01],\n",
              "       [-2.59902805e-01, -1.10684126e-01],\n",
              "       [ 1.91788124e+00,  3.71948654e-01],\n",
              "       [ 2.39477997e+00,  6.71921332e-01],\n",
              "       [-6.23003522e-01, -9.61948607e-01],\n",
              "       [ 2.88758434e-01, -1.47322695e+00],\n",
              "       [ 9.86168055e-01, -1.08437354e+00],\n",
              "       [-4.85799076e-02, -1.55337228e+00],\n",
              "       [-4.68661192e-01, -1.21360303e+00],\n",
              "       [-1.93792999e+00, -1.25920339e+00],\n",
              "       [-2.07076121e+00, -8.79112016e-01],\n",
              "       [-2.52664406e+00, -9.15737067e-01],\n",
              "       [-2.06838345e+00, -1.21638904e+00],\n",
              "       [-2.74032459e+00, -1.25003028e+00],\n",
              "       [-2.50419073e+00, -1.11910566e+00],\n",
              "       [-1.63811093e+00, -1.11197306e+00],\n",
              "       [-2.71729735e+00, -8.42118389e-01],\n",
              "       [ 1.91200331e+00,  3.74435298e-01],\n",
              "       [ 2.47010255e+00,  7.86678200e-01],\n",
              "       [ 1.44585163e+00, -3.25005103e-01],\n",
              "       [ 1.02452445e+00, -6.35478062e-01],\n",
              "       [ 1.01418072e+00, -1.22820701e+00],\n",
              "       [-1.89133739e+00, -1.69048456e+00],\n",
              "       [ 2.20592186e+00, -1.88861577e+00],\n",
              "       [-3.33949072e-01, -2.45940402e+00],\n",
              "       [ 1.25453606e+00, -2.25168269e-01],\n",
              "       [ 1.46381682e+00, -5.13294679e-01],\n",
              "       [ 2.88375211e+00,  7.06936126e-02],\n",
              "       [ 1.89706484e+00,  1.92305666e-01],\n",
              "       [ 8.87259902e-01, -8.05865048e-01],\n",
              "       [-4.81027882e-01, -2.33609143e-02],\n",
              "       [-3.61780696e-01, -3.31048204e-01],\n",
              "       [ 6.42925499e-01, -2.84159342e-01],\n",
              "       [ 1.83736563e+00,  3.54068985e-02],\n",
              "       [ 2.96510923e+00, -4.05167698e-02],\n",
              "       [ 1.63267299e+00, -7.76951931e-01],\n",
              "       [ 2.63546370e+00,  3.92243188e-01],\n",
              "       [ 9.95370975e-01, -1.06807287e+00],\n",
              "       [ 1.14101284e+00, -1.39282292e+00],\n",
              "       [ 1.21831370e+00, -1.78167825e+00],\n",
              "       [ 3.48429246e-02, -1.83442950e+00],\n",
              "       [ 1.91520286e+00, -1.61046551e-01],\n",
              "       [ 1.68884664e+00,  4.27703142e-01],\n",
              "       [ 2.22424470e+00,  7.45819442e-02],\n",
              "       [ 1.81887153e+00,  6.04961873e-01],\n",
              "       [ 2.16957285e+00,  5.59289928e-01],\n",
              "       [ 2.75105952e+00,  1.05572106e-01],\n",
              "       [ 5.12422123e-01, -6.76907314e-01],\n",
              "       [ 2.89591349e+00, -1.22928545e-01],\n",
              "       [ 2.97967641e+00, -1.28039833e+00],\n",
              "       [ 3.06803784e+00, -1.69351945e+00],\n",
              "       [ 1.73202223e+00, -1.19944009e+00],\n",
              "       [ 1.93322683e+00, -1.56505350e+00],\n",
              "       [ 2.39614816e+00,  8.94088704e-01],\n",
              "       [ 2.00681945e+00, -2.32332376e-01],\n",
              "       [ 2.67311338e+00,  7.56877295e-02],\n",
              "       [ 2.25465732e+00, -4.07412653e-02],\n",
              "       [-1.71280996e-03,  1.08841862e+00],\n",
              "       [ 1.93598691e+00,  1.19562117e+00],\n",
              "       [ 1.45653571e+00, -1.01155385e-01],\n",
              "       [ 5.23771779e-01, -6.70214078e-01],\n",
              "       [ 2.39005301e+00,  2.25559690e-01],\n",
              "       [ 1.20165422e+00, -1.05942844e+00],\n",
              "       [ 1.13344269e+00, -1.23401299e+00],\n",
              "       [ 8.11519370e-01, -8.53165601e-01],\n",
              "       [-2.33373222e-01, -6.46367636e-01],\n",
              "       [ 9.52719586e-01, -5.39883646e-01],\n",
              "       [ 2.99331114e+00,  1.76867157e-01],\n",
              "       [ 2.03437805e+00, -1.05879979e+00],\n",
              "       [ 2.87266657e+00,  3.22183762e-01],\n",
              "       [ 2.75055352e+00, -4.18076553e-02],\n",
              "       [ 3.04469533e+00, -2.97837537e-01],\n",
              "       [ 2.79633826e+00,  3.99058288e-02],\n",
              "       [ 2.61161263e+00,  3.04907603e-01],\n",
              "       [ 1.62711279e+00, -8.98484597e-01],\n",
              "       [ 1.86210334e+00, -1.07279611e+00],\n",
              "       [ 2.17720029e+00, -1.94769563e+00],\n",
              "       [ 1.81037814e+00, -7.37604410e-02],\n",
              "       [ 1.58958386e+00, -2.71147288e-01],\n",
              "       [ 2.17375006e+00,  5.42732414e-01],\n",
              "       [ 2.35720651e+00,  8.43916018e-02],\n",
              "       [ 1.67125634e+00,  4.54008362e-01],\n",
              "       [ 2.33278703e+00, -2.64649887e-01],\n",
              "       [ 1.72317862e+00, -1.43257578e+00],\n",
              "       [ 1.18451124e+00, -1.42747936e+00],\n",
              "       [ 3.74546728e-01,  6.48532542e-01],\n",
              "       [ 5.38978816e-01,  4.66332358e-01],\n",
              "       [-4.93059946e-01, -1.43566624e+00],\n",
              "       [-1.28352307e+00, -2.34799031e+00],\n",
              "       [ 2.16057936e-01, -1.62890433e+00],\n",
              "       [-1.19601615e-01, -1.67411558e+00],\n",
              "       [ 1.67695937e+00, -1.90971802e+00],\n",
              "       [ 1.55099669e+00, -1.74157364e+00],\n",
              "       [ 1.61138160e+00, -1.57682011e+00],\n",
              "       [ 1.35921389e+00, -1.31320515e+00],\n",
              "       [ 1.27435001e+00, -1.29280941e+00],\n",
              "       [ 1.24467293e+00, -1.69060664e+00],\n",
              "       [ 1.03034785e+00, -1.42091293e+00],\n",
              "       [ 1.19575173e+00, -2.15117856e+00],\n",
              "       [ 2.09476088e+00, -3.89554979e-01],\n",
              "       [ 2.88709120e+00, -2.65114925e-01],\n",
              "       [ 2.85036002e+00, -1.45980612e-01],\n",
              "       [ 1.70966430e+00, -1.01357897e+00],\n",
              "       [ 1.94097595e+00, -1.43996481e+00],\n",
              "       [ 2.06267920e+00,  3.99381644e-01],\n",
              "       [ 2.24527677e+00,  3.54265070e-01],\n",
              "       [ 2.53712726e+00, -9.83207963e-02],\n",
              "       [ 2.58338229e+00,  3.10593455e-01],\n",
              "       [ 2.65903330e+00,  1.87009911e-01],\n",
              "       [ 2.69773562e+00,  9.15329170e-02],\n",
              "       [ 8.81434166e-02, -1.55017821e+00],\n",
              "       [ 5.05116550e-02, -1.84613323e+00],\n",
              "       [ 8.98380196e-01, -1.03442991e+00],\n",
              "       [-2.84588082e-01, -1.26792753e+00],\n",
              "       [ 1.54344118e+00,  3.88988085e-01],\n",
              "       [ 1.02935767e+00, -7.25949979e-01],\n",
              "       [ 1.05912739e+00, -1.61864483e+00],\n",
              "       [ 1.05096121e+00, -1.28357321e+00],\n",
              "       [ 3.31007521e+00, -2.13969536e+00],\n",
              "       [ 9.16390936e-01, -4.60775307e-01],\n",
              "       [ 1.62689448e+00, -1.77892459e+00],\n",
              "       [ 1.63478578e+00, -1.93100778e+00]])"
            ]
          },
          "metadata": {},
          "execution_count": 53
        }
      ]
    },
    {
      "cell_type": "code",
      "source": [
        "from sklearn.decomposition import PCA\n",
        "pca = PCA().fit(X_std)\n",
        "plt.plot(np.cumsum(pca.explained_variance_ratio_))\n",
        "plt.xlim(0,9,1)\n",
        "plt.xlabel('Number of components')\n",
        "plt.ylabel('Cumulative explained variance')"
      ],
      "metadata": {
        "colab": {
          "base_uri": "https://localhost:8080/",
          "height": 296
        },
        "id": "-4Eb7ga-N-Mj",
        "outputId": "0628e095-065d-4e31-87d4-c883ede98430"
      },
      "execution_count": null,
      "outputs": [
        {
          "output_type": "execute_result",
          "data": {
            "text/plain": [
              "Text(0, 0.5, 'Cumulative explained variance')"
            ]
          },
          "metadata": {},
          "execution_count": 54
        },
        {
          "output_type": "display_data",
          "data": {
            "text/plain": [
              "<Figure size 432x288 with 1 Axes>"
            ],
            "image/png": "[encoded data removed]"
          },
          "metadata": {
            "needs_background": "light"
          }
        }
      ]
    },
    {
      "cell_type": "code",
      "source": [
        "from sklearn.decomposition import PCA \n",
        "sklearn_pca = PCA(n_components=2)\n",
        "Y_sklearn = sklearn_pca.fit_transform(X_std)\n",
        "print(Y_sklearn)"
      ],
      "metadata": {
        "colab": {
          "base_uri": "https://localhost:8080/"
        },
        "id": "29j2ucjnQiF_",
        "outputId": "d2803a6b-eb04-49ef-ecec-8c325bec8f9a"
      },
      "execution_count": null,
      "outputs": [
        {
          "output_type": "stream",
          "name": "stdout",
          "text": [
            "[[ 2.66582768e+00  9.67827740e-01]\n",
            " [ 3.40487799e+00  1.09500795e+00]\n",
            " [ 3.01621594e+00  1.22259508e+00]\n",
            " [ 2.84558047e+00  1.06093052e+00]\n",
            " [ 2.89258892e+00  1.28742374e+00]\n",
            " [ 4.62063326e+00  1.24480833e+00]\n",
            " [ 5.09636495e+00  1.47326650e+00]\n",
            " [ 5.01062413e+00  1.56753259e+00]\n",
            " [ 5.08622236e+00  1.29691491e+00]\n",
            " [ 4.27011580e+00  1.63776580e+00]\n",
            " [ 3.70167426e+00  1.37591380e+00]\n",
            " [ 3.63932494e+00  1.72495546e+00]\n",
            " [ 3.70190152e+00  1.32642910e+00]\n",
            " [ 4.40180948e+00  1.61841030e+00]\n",
            " [-1.26071190e+00  2.35700170e+00]\n",
            " [ 5.52105523e-01  6.27799453e-01]\n",
            " [ 5.49219771e-01  6.48255838e-01]\n",
            " [ 2.66487145e-01  5.60056743e-01]\n",
            " [-1.48031076e+00  2.49400924e+00]\n",
            " [-2.38853350e+00  6.97231436e-01]\n",
            " [-1.11012446e+00  1.16245152e+00]\n",
            " [-8.88310559e-01  1.76418779e+00]\n",
            " [-1.19643912e+00  1.26903969e+00]\n",
            " [-4.47829129e-01  2.23415415e+00]\n",
            " [ 4.58660478e-01  7.41225308e-01]\n",
            " [ 4.22235974e+00  6.04700103e-01]\n",
            " [ 3.58924508e+00  4.84388116e-01]\n",
            " [ 3.91693333e+00  7.73151609e-01]\n",
            " [ 3.29968478e+00 -2.41527894e-01]\n",
            " [-1.53847449e+00  2.32199618e+00]\n",
            " [-6.23386859e-01  7.67122537e-01]\n",
            " [-1.28440653e+00  2.39611112e+00]\n",
            " [-1.13039522e+00  2.96864219e-01]\n",
            " [ 8.67901690e-01  9.28795504e-01]\n",
            " [ 1.03595076e+00  3.19480997e-01]\n",
            " [ 1.03142603e+00  3.02345793e-01]\n",
            " [ 8.80152583e-01  2.65016128e-01]\n",
            " [ 9.32003305e-01  3.30399575e-01]\n",
            " [ 3.55642467e+00  7.10828755e-01]\n",
            " [ 4.07332310e+00  7.23804939e-01]\n",
            " [ 3.23308930e+00  4.14388393e-01]\n",
            " [ 3.07925709e+00  5.39019452e-01]\n",
            " [ 4.30746497e+00  6.41368448e-01]\n",
            " [ 4.10614708e+00  5.49567300e-01]\n",
            " [ 4.36481549e+00  4.73222628e-01]\n",
            " [ 1.20941881e+00  7.71975900e-01]\n",
            " [-1.13424726e+00  4.89116607e-02]\n",
            " [ 1.06143901e+00  4.01904506e-01]\n",
            " [ 9.04910077e-01  4.80700530e-01]\n",
            " [-6.08057920e-01  1.04611437e+00]\n",
            " [-1.01012397e+00  1.74505491e+00]\n",
            " [-2.01998315e+00  7.50216561e-01]\n",
            " [-1.37624959e+00  1.64791846e+00]\n",
            " [-2.58410778e+00  1.55557568e+00]\n",
            " [-2.50763340e+00  1.78413227e+00]\n",
            " [-2.12471419e+00  8.41394822e-01]\n",
            " [-1.76441604e+00 -6.48758070e-02]\n",
            " [-1.47912271e+00  1.94727113e+00]\n",
            " [-1.21402463e+00  3.69906196e-01]\n",
            " [-2.52326457e+00 -2.47832544e-01]\n",
            " [-1.04023833e+00 -1.45656764e-01]\n",
            " [-9.33337023e-01  4.31290905e-01]\n",
            " [ 3.53148487e+00  5.23209125e-01]\n",
            " [ 3.92074308e+00  4.82485908e-01]\n",
            " [ 2.98699127e+00  2.69368490e-01]\n",
            " [ 3.21618357e+00  3.36651823e-01]\n",
            " [ 2.90545127e+00  7.47794197e-01]\n",
            " [ 4.66004563e+00  6.90635094e-01]\n",
            " [ 3.37135425e+00  1.67133861e-01]\n",
            " [ 3.40512224e+00  1.96433677e-01]\n",
            " [ 4.05745964e+00  4.40093701e-01]\n",
            " [-1.65912048e+00  2.40583371e+00]\n",
            " [ 2.90982860e+00  5.18424032e-01]\n",
            " [ 2.63697003e+00  1.28085723e-01]\n",
            " [ 2.61377166e+00 -2.30501375e-01]\n",
            " [ 2.90330887e+00  1.95020394e-01]\n",
            " [-4.34473422e-01  1.36555049e+00]\n",
            " [-1.44084665e+00  7.17518246e-01]\n",
            " [-1.24208625e+00  3.81502054e-01]\n",
            " [-1.79460598e+00  7.94564734e-01]\n",
            " [-7.92918376e-01  4.78987778e-01]\n",
            " [-1.74023647e+00  1.68528148e+00]\n",
            " [-1.20108381e+00  2.06929653e+00]\n",
            " [-9.76276041e-01  7.13372373e-01]\n",
            " [-1.82811810e+00  1.80409032e+00]\n",
            " [ 3.39087098e+00  2.52936069e-01]\n",
            " [ 2.84728753e+00  5.75781139e-01]\n",
            " [ 2.98994176e+00  1.70296405e-01]\n",
            " [ 2.55454246e+00 -8.81401702e-02]\n",
            " [ 2.85391326e+00  3.59859551e-01]\n",
            " [ 4.59633765e+00  3.17245492e-01]\n",
            " [ 3.61655767e+00  2.00229039e-01]\n",
            " [ 3.33490628e+00  1.26710270e-01]\n",
            " [ 2.87289067e+00 -1.03682802e-01]\n",
            " [ 4.78216183e+00  5.08560842e-01]\n",
            " [ 5.07251651e+00  4.78034635e-01]\n",
            " [ 3.50800169e+00  6.62903656e-01]\n",
            " [ 6.49008746e-01 -1.24740886e-01]\n",
            " [ 6.18848364e-01 -4.70804968e-01]\n",
            " [ 5.86319300e-01 -1.95458204e-02]\n",
            " [ 5.12122654e-01 -1.88089497e-01]\n",
            " [ 3.59868638e-01  6.43914016e-03]\n",
            " [-2.55828034e+00  6.53066742e-02]\n",
            " [ 3.67284811e+00 -2.80840695e-01]\n",
            " [ 3.98319697e+00  6.78979477e-02]\n",
            " [ 3.66035302e+00  9.15484245e-02]\n",
            " [ 3.70613151e+00  2.63664851e-01]\n",
            " [ 6.14654756e-01  1.94457874e-01]\n",
            " [-2.06497044e+00  1.14772936e+00]\n",
            " [-1.30818912e+00 -3.81707708e-01]\n",
            " [-1.62698665e+00  1.57586713e+00]\n",
            " [-1.90277093e+00  2.25772425e+00]\n",
            " [-1.17616704e+00 -1.17637521e-01]\n",
            " [ 3.05229033e-01  5.50571855e-01]\n",
            " [-1.29444534e+00  1.12032219e+00]\n",
            " [ 3.03798867e+00  1.47726900e-01]\n",
            " [ 4.70815322e+00  9.78340284e-01]\n",
            " [-2.53064483e+00  3.90347794e-01]\n",
            " [-1.44251186e+00  1.07303788e+00]\n",
            " [-8.89101792e-01  1.29649671e+00]\n",
            " [-6.33933958e-01  1.03259608e+00]\n",
            " [ 2.82281267e+00  7.15439652e-01]\n",
            " [-6.01053327e-01  1.34005693e+00]\n",
            " [-3.76125920e-02  1.92211923e+00]\n",
            " [ 3.44144116e+00  7.28971160e-01]\n",
            " [ 3.48873657e-01 -3.01387898e-01]\n",
            " [ 2.96009386e-01 -3.02609153e-01]\n",
            " [ 5.05665526e-01 -1.80994429e-01]\n",
            " [ 6.98403474e-01 -4.80195970e-01]\n",
            " [-2.61034173e+00  9.96247508e-01]\n",
            " [-1.00339496e+00  1.13358420e-02]\n",
            " [-2.94254308e+00  6.71314299e-01]\n",
            " [-9.89732115e-01 -1.35252121e-01]\n",
            " [ 9.25859582e-01 -5.87040964e-01]\n",
            " [ 8.91061674e-01 -6.99396661e-01]\n",
            " [ 8.42324576e-01 -4.14883690e-01]\n",
            " [ 2.63538595e+00 -1.84696179e-01]\n",
            " [ 3.19036765e+00 -4.18995259e-01]\n",
            " [ 3.03525003e+00 -1.51970183e-01]\n",
            " [ 2.67327544e+00 -6.57122272e-01]\n",
            " [ 2.65584762e+00 -4.42882752e-01]\n",
            " [-1.56438669e+00  7.57248635e-01]\n",
            " [-1.85328727e+00  9.56067196e-01]\n",
            " [-1.36847835e+00  1.07365277e+00]\n",
            " [-2.67893047e+00  1.45815719e+00]\n",
            " [-2.63455091e+00  9.57569366e-01]\n",
            " [-1.15065555e+00  4.56822168e-01]\n",
            " [-1.63957236e+00  9.39332687e-01]\n",
            " [-1.29358619e+00  1.14471781e+00]\n",
            " [-1.38013705e+00  1.64107818e+00]\n",
            " [-1.58239992e+00  1.57386975e+00]\n",
            " [-1.88841162e+00  8.58909494e-01]\n",
            " [ 5.45249745e-01 -4.51337830e-01]\n",
            " [ 8.68462816e-01 -4.86938378e-01]\n",
            " [-6.37523007e-02 -1.48367934e+00]\n",
            " [-4.16946104e-02 -1.15306976e+00]\n",
            " [ 3.88765988e+00 -3.14830838e-02]\n",
            " [ 2.99657549e+00 -4.58803334e-01]\n",
            " [ 2.88997005e+00 -5.10375307e-01]\n",
            " [ 3.20025613e+00 -4.12689862e-01]\n",
            " [ 5.31542937e-01 -1.43976683e+00]\n",
            " [ 8.22158769e-01 -1.03347247e+00]\n",
            " [ 7.74916522e-01 -1.07148755e+00]\n",
            " [ 4.87333657e-01 -1.10607427e+00]\n",
            " [ 7.36313007e-01 -1.72071543e-01]\n",
            " [ 1.64296139e+00 -1.16607385e-01]\n",
            " [ 2.17052582e+00  1.89603522e-01]\n",
            " [-2.06121090e+00  1.31181450e+00]\n",
            " [-9.06667037e-01 -3.01346722e-01]\n",
            " [ 4.54146579e-01 -3.56128802e-01]\n",
            " [-1.15008011e+00 -5.73139017e-01]\n",
            " [-1.11774609e+00  1.66493138e+00]\n",
            " [-1.79285243e+00  5.48555949e-01]\n",
            " [-1.63018207e+00  1.10353526e+00]\n",
            " [ 3.51754463e-01 -5.73566623e-02]\n",
            " [-1.68031157e+00  1.05494364e+00]\n",
            " [ 3.83320874e-01 -6.40497082e-01]\n",
            " [-1.00607128e+00  7.62623837e-01]\n",
            " [-1.14618421e+00  3.15765940e-01]\n",
            " [-7.63215827e-01  7.95515639e-01]\n",
            " [-6.00441535e-01  1.09991882e+00]\n",
            " [-2.69369656e+00  1.06301779e+00]\n",
            " [-1.37381141e+00  5.32793949e-01]\n",
            " [-1.66787820e+00  3.16851548e-01]\n",
            " [-6.69019375e-01 -5.36630752e-02]\n",
            " [-1.46567030e+00 -4.76859479e-01]\n",
            " [-1.54663836e+00  6.26126804e-01]\n",
            " [ 2.67803320e+00 -3.72976795e-01]\n",
            " [ 2.83648534e+00 -3.43615341e-01]\n",
            " [ 2.21796942e+00 -5.43133355e-01]\n",
            " [ 3.03764497e+00 -3.40390552e-01]\n",
            " [ 5.93364789e-01 -4.91723836e-01]\n",
            " [ 9.18227845e-01 -3.68678837e-01]\n",
            " [-8.40027348e-02 -8.71145381e-01]\n",
            " [ 1.95910112e-01 -8.88186152e-01]\n",
            " [-2.43043207e+00 -1.30392937e+00]\n",
            " [-2.20536963e+00 -1.30119076e+00]\n",
            " [-1.76008988e+00  8.47620994e-01]\n",
            " [-2.74105301e+00  9.08659519e-01]\n",
            " [ 5.58452571e-01 -9.98146318e-01]\n",
            " [ 1.94018344e-02 -1.66788056e+00]\n",
            " [ 9.41036357e-01 -7.20664662e-01]\n",
            " [ 4.00118582e-01 -9.57474300e-01]\n",
            " [-1.55922085e+00  1.22417767e+00]\n",
            " [-2.42955440e+00  1.00059641e+00]\n",
            " [-2.17078198e+00  1.07302389e+00]\n",
            " [-7.61223820e-01  1.04509271e-01]\n",
            " [-7.61226572e-01  3.67923662e-01]\n",
            " [ 2.68708643e+00 -3.18899648e-01]\n",
            " [-1.57391906e+00 -7.96483578e-01]\n",
            " [-5.25764510e-01  9.72337321e-01]\n",
            " [ 3.61398322e-01 -7.65142556e-02]\n",
            " [ 3.51404413e+00 -1.53183122e-01]\n",
            " [ 2.95776964e+00 -1.85281622e-01]\n",
            " [ 2.15790678e+00 -6.76713144e-01]\n",
            " [ 2.50606772e+00 -4.15719280e-01]\n",
            " [-2.58795706e+00  5.30102440e-01]\n",
            " [-1.19341041e+00 -1.22373826e-01]\n",
            " [-2.53644588e+00 -1.06995876e-01]\n",
            " [-9.63698031e-01 -2.33483615e-01]\n",
            " [-2.48910473e+00  8.74697487e-01]\n",
            " [ 2.55995521e+00 -3.58026855e-01]\n",
            " [ 1.35235886e+00 -1.63106860e+00]\n",
            " [ 2.61983342e+00 -6.45462053e-01]\n",
            " [ 2.32778369e+00 -9.33114381e-01]\n",
            " [ 7.97365884e-01 -8.97974665e-01]\n",
            " [ 5.54665776e-01 -9.62472902e-01]\n",
            " [ 4.89554955e-01 -1.16511725e+00]\n",
            " [ 3.81459354e-01 -1.40201216e+00]\n",
            " [ 3.70013266e+00 -1.60814404e-01]\n",
            " [ 3.30707627e+00 -1.86501226e-01]\n",
            " [ 3.74948253e+00 -3.43717404e-01]\n",
            " [ 2.82272564e+00 -8.52300308e-01]\n",
            " [-1.72697898e+00  6.44049995e-01]\n",
            " [-7.58064948e-01 -4.85948076e-01]\n",
            " [-2.36725179e+00  5.56813449e-01]\n",
            " [-7.65278751e-01 -4.39460864e-01]\n",
            " [-1.73575202e+00 -5.34724893e-01]\n",
            " [-1.37548333e+00 -2.73263947e-01]\n",
            " [-2.40748755e+00  9.12619754e-01]\n",
            " [-1.55596550e+00  6.54643886e-01]\n",
            " [-7.04245103e-01  9.74438914e-01]\n",
            " [-7.34689041e-01  8.78268268e-01]\n",
            " [-1.55807451e+00  1.48947596e+00]\n",
            " [-2.89284810e+00 -8.77052523e-01]\n",
            " [-1.60685355e+00 -1.76494879e-01]\n",
            " [-3.04453615e+00  1.75418722e-01]\n",
            " [-2.67790748e+00  3.54885532e-01]\n",
            " [-2.66655948e+00  7.65538050e-01]\n",
            " [ 1.31720976e+00 -1.01829367e+00]\n",
            " [ 2.35141520e+00 -6.50215366e-01]\n",
            " [ 2.22910300e+00 -5.27444204e-01]\n",
            " [ 3.04159530e-01 -1.56695730e+00]\n",
            " [-3.16964313e-02 -1.30432025e+00]\n",
            " [ 1.60017717e-02 -8.71496355e-01]\n",
            " [-8.09559200e-01 -5.36102248e-01]\n",
            " [ 3.83200197e-01 -1.20083613e+00]\n",
            " [ 1.86703965e-01 -1.19160574e+00]\n",
            " [ 5.92381030e-01 -9.29478697e-01]\n",
            " [-2.75943994e-02 -1.05560010e+00]\n",
            " [ 4.32767584e-01 -1.47476689e+00]\n",
            " [ 9.72906218e-01 -7.85647146e-01]\n",
            " [ 2.19357298e+00 -5.44377453e-01]\n",
            " [ 1.57234354e+00 -3.02308281e-01]\n",
            " [ 2.21545448e+00 -1.57330625e-01]\n",
            " [ 2.47372114e+00 -8.21324209e-01]\n",
            " [-1.62944072e+00 -6.25179341e-01]\n",
            " [-1.45192587e+00  1.05575199e+00]\n",
            " [-1.68133429e+00  1.05238108e+00]\n",
            " [-1.26425265e+00 -2.71615377e-01]\n",
            " [-1.53977077e+00  9.60627785e-01]\n",
            " [-6.72774831e-01 -7.25735856e-01]\n",
            " [-9.64732676e-01 -9.79002534e-01]\n",
            " [-1.64927945e+00  9.91860878e-01]\n",
            " [-7.88729252e-01  9.10563745e-04]\n",
            " [ 2.68007569e-01  3.13340336e-01]\n",
            " [-9.49312035e-01  1.65701687e-01]\n",
            " [ 2.59902805e-01 -1.10684126e-01]\n",
            " [-1.91788124e+00  3.71948654e-01]\n",
            " [-2.39477997e+00  6.71921332e-01]\n",
            " [ 6.23003522e-01 -9.61948607e-01]\n",
            " [-2.88758434e-01 -1.47322695e+00]\n",
            " [-9.86168055e-01 -1.08437354e+00]\n",
            " [ 4.85799076e-02 -1.55337228e+00]\n",
            " [ 4.68661192e-01 -1.21360303e+00]\n",
            " [ 1.93792999e+00 -1.25920339e+00]\n",
            " [ 2.07076121e+00 -8.79112016e-01]\n",
            " [ 2.52664406e+00 -9.15737067e-01]\n",
            " [ 2.06838345e+00 -1.21638904e+00]\n",
            " [ 2.74032459e+00 -1.25003028e+00]\n",
            " [ 2.50419073e+00 -1.11910566e+00]\n",
            " [ 1.63811093e+00 -1.11197306e+00]\n",
            " [ 2.71729735e+00 -8.42118389e-01]\n",
            " [-1.91200331e+00  3.74435298e-01]\n",
            " [-2.47010255e+00  7.86678200e-01]\n",
            " [-1.44585163e+00 -3.25005103e-01]\n",
            " [-1.02452445e+00 -6.35478062e-01]\n",
            " [-1.01418072e+00 -1.22820701e+00]\n",
            " [ 1.89133739e+00 -1.69048456e+00]\n",
            " [-2.20592186e+00 -1.88861577e+00]\n",
            " [ 3.33949072e-01 -2.45940402e+00]\n",
            " [-1.25453606e+00 -2.25168269e-01]\n",
            " [-1.46381682e+00 -5.13294679e-01]\n",
            " [-2.88375211e+00  7.06936126e-02]\n",
            " [-1.89706484e+00  1.92305666e-01]\n",
            " [-8.87259902e-01 -8.05865048e-01]\n",
            " [ 4.81027882e-01 -2.33609143e-02]\n",
            " [ 3.61780696e-01 -3.31048204e-01]\n",
            " [-6.42925499e-01 -2.84159342e-01]\n",
            " [-1.83736563e+00  3.54068985e-02]\n",
            " [-2.96510923e+00 -4.05167698e-02]\n",
            " [-1.63267299e+00 -7.76951931e-01]\n",
            " [-2.63546370e+00  3.92243188e-01]\n",
            " [-9.95370975e-01 -1.06807287e+00]\n",
            " [-1.14101284e+00 -1.39282292e+00]\n",
            " [-1.21831370e+00 -1.78167825e+00]\n",
            " [-3.48429246e-02 -1.83442950e+00]\n",
            " [-1.91520286e+00 -1.61046551e-01]\n",
            " [-1.68884664e+00  4.27703142e-01]\n",
            " [-2.22424470e+00  7.45819442e-02]\n",
            " [-1.81887153e+00  6.04961873e-01]\n",
            " [-2.16957285e+00  5.59289928e-01]\n",
            " [-2.75105952e+00  1.05572106e-01]\n",
            " [-5.12422123e-01 -6.76907314e-01]\n",
            " [-2.89591349e+00 -1.22928545e-01]\n",
            " [-2.97967641e+00 -1.28039833e+00]\n",
            " [-3.06803784e+00 -1.69351945e+00]\n",
            " [-1.73202223e+00 -1.19944009e+00]\n",
            " [-1.93322683e+00 -1.56505350e+00]\n",
            " [-2.39614816e+00  8.94088704e-01]\n",
            " [-2.00681945e+00 -2.32332376e-01]\n",
            " [-2.67311338e+00  7.56877295e-02]\n",
            " [-2.25465732e+00 -4.07412653e-02]\n",
            " [ 1.71280996e-03  1.08841862e+00]\n",
            " [-1.93598691e+00  1.19562117e+00]\n",
            " [-1.45653571e+00 -1.01155385e-01]\n",
            " [-5.23771779e-01 -6.70214078e-01]\n",
            " [-2.39005301e+00  2.25559690e-01]\n",
            " [-1.20165422e+00 -1.05942844e+00]\n",
            " [-1.13344269e+00 -1.23401299e+00]\n",
            " [-8.11519370e-01 -8.53165601e-01]\n",
            " [ 2.33373222e-01 -6.46367636e-01]\n",
            " [-9.52719586e-01 -5.39883646e-01]\n",
            " [-2.99331114e+00  1.76867157e-01]\n",
            " [-2.03437805e+00 -1.05879979e+00]\n",
            " [-2.87266657e+00  3.22183762e-01]\n",
            " [-2.75055352e+00 -4.18076553e-02]\n",
            " [-3.04469533e+00 -2.97837537e-01]\n",
            " [-2.79633826e+00  3.99058288e-02]\n",
            " [-2.61161263e+00  3.04907603e-01]\n",
            " [-1.62711279e+00 -8.98484597e-01]\n",
            " [-1.86210334e+00 -1.07279611e+00]\n",
            " [-2.17720029e+00 -1.94769563e+00]\n",
            " [-1.81037814e+00 -7.37604410e-02]\n",
            " [-1.58958386e+00 -2.71147288e-01]\n",
            " [-2.17375006e+00  5.42732414e-01]\n",
            " [-2.35720651e+00  8.43916018e-02]\n",
            " [-1.67125634e+00  4.54008362e-01]\n",
            " [-2.33278703e+00 -2.64649887e-01]\n",
            " [-1.72317862e+00 -1.43257578e+00]\n",
            " [-1.18451124e+00 -1.42747936e+00]\n",
            " [-3.74546728e-01  6.48532542e-01]\n",
            " [-5.38978816e-01  4.66332358e-01]\n",
            " [ 4.93059946e-01 -1.43566624e+00]\n",
            " [ 1.28352307e+00 -2.34799031e+00]\n",
            " [-2.16057936e-01 -1.62890433e+00]\n",
            " [ 1.19601615e-01 -1.67411558e+00]\n",
            " [-1.67695937e+00 -1.90971802e+00]\n",
            " [-1.55099669e+00 -1.74157364e+00]\n",
            " [-1.61138160e+00 -1.57682011e+00]\n",
            " [-1.35921389e+00 -1.31320515e+00]\n",
            " [-1.27435001e+00 -1.29280941e+00]\n",
            " [-1.24467293e+00 -1.69060664e+00]\n",
            " [-1.03034785e+00 -1.42091293e+00]\n",
            " [-1.19575173e+00 -2.15117856e+00]\n",
            " [-2.09476088e+00 -3.89554979e-01]\n",
            " [-2.88709120e+00 -2.65114925e-01]\n",
            " [-2.85036002e+00 -1.45980612e-01]\n",
            " [-1.70966430e+00 -1.01357897e+00]\n",
            " [-1.94097595e+00 -1.43996481e+00]\n",
            " [-2.06267920e+00  3.99381644e-01]\n",
            " [-2.24527677e+00  3.54265070e-01]\n",
            " [-2.53712726e+00 -9.83207963e-02]\n",
            " [-2.58338229e+00  3.10593455e-01]\n",
            " [-2.65903330e+00  1.87009911e-01]\n",
            " [-2.69773562e+00  9.15329170e-02]\n",
            " [-8.81434166e-02 -1.55017821e+00]\n",
            " [-5.05116550e-02 -1.84613323e+00]\n",
            " [-8.98380196e-01 -1.03442991e+00]\n",
            " [ 2.84588082e-01 -1.26792753e+00]\n",
            " [-1.54344118e+00  3.88988085e-01]\n",
            " [-1.02935767e+00 -7.25949979e-01]\n",
            " [-1.05912739e+00 -1.61864483e+00]\n",
            " [-1.05096121e+00 -1.28357321e+00]\n",
            " [-3.31007521e+00 -2.13969536e+00]\n",
            " [-9.16390936e-01 -4.60775307e-01]\n",
            " [-1.62689448e+00 -1.77892459e+00]\n",
            " [-1.63478578e+00 -1.93100778e+00]]\n"
          ]
        }
      ]
    },
    {
      "cell_type": "code",
      "source": [
        "Y.shape"
      ],
      "metadata": {
        "id": "91iKZOarOgeE",
        "colab": {
          "base_uri": "https://localhost:8080/"
        },
        "outputId": "6a3d6850-90c0-4de3-f1cc-93e842a911ed"
      },
      "execution_count": null,
      "outputs": [
        {
          "output_type": "execute_result",
          "data": {
            "text/plain": [
              "(398, 2)"
            ]
          },
          "metadata": {},
          "execution_count": 56
        }
      ]
    },
    {
      "cell_type": "code",
      "source": [
        "Y_sklearn.shape"
      ],
      "metadata": {
        "id": "rOIkojdtOgfG",
        "colab": {
          "base_uri": "https://localhost:8080/"
        },
        "outputId": "33458c2a-d562-4baa-8d2b-53f3ba329914"
      },
      "execution_count": null,
      "outputs": [
        {
          "output_type": "execute_result",
          "data": {
            "text/plain": [
              "(398, 2)"
            ]
          },
          "metadata": {},
          "execution_count": 57
        }
      ]
    },
    {
      "cell_type": "code",
      "source": [
        "X_std.shape"
      ],
      "metadata": {
        "id": "KXC6tl2SOgiB",
        "colab": {
          "base_uri": "https://localhost:8080/"
        },
        "outputId": "180179a3-afe4-4452-abca-fde46102b1ed"
      },
      "execution_count": null,
      "outputs": [
        {
          "output_type": "execute_result",
          "data": {
            "text/plain": [
              "(398, 7)"
            ]
          },
          "metadata": {},
          "execution_count": 58
        }
      ]
    },
    {
      "cell_type": "code",
      "source": [
        "y.shape"
      ],
      "metadata": {
        "id": "QTDv-L9dOgk9",
        "colab": {
          "base_uri": "https://localhost:8080/"
        },
        "outputId": "ccf0a9c9-e73a-4859-a542-74d155df002f"
      },
      "execution_count": null,
      "outputs": [
        {
          "output_type": "execute_result",
          "data": {
            "text/plain": [
              "(398,)"
            ]
          },
          "metadata": {},
          "execution_count": 59
        }
      ]
    },
    {
      "cell_type": "markdown",
      "source": [
        "###6. Build Model and Evaluate Model"
      ],
      "metadata": {
        "id": "sF5gZFFIJVSL"
      }
    },
    {
      "cell_type": "code",
      "source": [
        "# Splitting dataset into training and testing set\n",
        "X_train, X_test, y_train, y_test = train_test_split(Y_sklearn, y, test_size=0.20, random_state=2)\n",
        "X_train_normal, X_test_normal, y_train_normal, y_test_normal = train_test_split(X, y, test_size=0.20, random_state=2)"
      ],
      "metadata": {
        "id": "T5JBWoQ1JdnC"
      },
      "execution_count": null,
      "outputs": []
    },
    {
      "cell_type": "code",
      "source": [
        "print(X_test.shape)\n",
        "print(y_test.shape)"
      ],
      "metadata": {
        "colab": {
          "base_uri": "https://localhost:8080/"
        },
        "id": "O7jqw6sqVj70",
        "outputId": "6c430d46-9a2a-4607-be0c-33ef39d65c6d"
      },
      "execution_count": null,
      "outputs": [
        {
          "output_type": "stream",
          "name": "stdout",
          "text": [
            "(80, 2)\n",
            "(80,)\n"
          ]
        }
      ]
    },
    {
      "cell_type": "code",
      "source": [
        "# Building Linear Regression model\n",
        "regressor = LinearRegression()\n",
        "regressor.fit(X_train, y_train)"
      ],
      "metadata": {
        "id": "UVhQNDKpJdpf",
        "colab": {
          "base_uri": "https://localhost:8080/"
        },
        "outputId": "acd660c7-7ded-4cbf-b23c-ea64aa10cab7"
      },
      "execution_count": null,
      "outputs": [
        {
          "output_type": "execute_result",
          "data": {
            "text/plain": [
              "LinearRegression()"
            ]
          },
          "metadata": {},
          "execution_count": 62
        }
      ]
    },
    {
      "cell_type": "code",
      "source": [
        "regressor.get_params()"
      ],
      "metadata": {
        "colab": {
          "base_uri": "https://localhost:8080/"
        },
        "id": "ZMDcL6gz8_T0",
        "outputId": "1d498022-2332-4120-951b-016748c545e1"
      },
      "execution_count": null,
      "outputs": [
        {
          "output_type": "execute_result",
          "data": {
            "text/plain": [
              "{'copy_X': True,\n",
              " 'fit_intercept': True,\n",
              " 'n_jobs': None,\n",
              " 'normalize': 'deprecated',\n",
              " 'positive': False}"
            ]
          },
          "metadata": {},
          "execution_count": 63
        }
      ]
    },
    {
      "cell_type": "code",
      "source": [
        "y_pred = regressor.predict(X_test)\n",
        "regressor.score(X_train,y_train) "
      ],
      "metadata": {
        "colab": {
          "base_uri": "https://localhost:8080/"
        },
        "id": "4Ssfpy219CFP",
        "outputId": "ce7fa33f-d48f-44f2-e3f7-4eee29c47d1a"
      },
      "execution_count": null,
      "outputs": [
        {
          "output_type": "execute_result",
          "data": {
            "text/plain": [
              "0.7121740286663955"
            ]
          },
          "metadata": {},
          "execution_count": 64
        }
      ]
    },
    {
      "cell_type": "code",
      "source": [
        "print(\"Root Mean Squared Error (RMSE): \", round(math.sqrt(mean_squared_error(y_test, y_pred)),5))"
      ],
      "metadata": {
        "colab": {
          "base_uri": "https://localhost:8080/"
        },
        "id": "uHpnknrk9FQ5",
        "outputId": "98e003f0-a607-4d00-9312-40f839e249d4"
      },
      "execution_count": null,
      "outputs": [
        {
          "output_type": "stream",
          "name": "stdout",
          "text": [
            "Root Mean Squared Error (RMSE):  3.88849\n"
          ]
        }
      ]
    },
    {
      "cell_type": "code",
      "source": [
        "regressor_score = regressor.score(X_test, y_test)\n",
        "print(\"Score of Linear Regression Model: \", round(regressor_score, 5))"
      ],
      "metadata": {
        "colab": {
          "base_uri": "https://localhost:8080/"
        },
        "id": "GEg8PBRsSdP9",
        "outputId": "f4f7ce1e-ce48-4911-8657-8ee56d543a2c"
      },
      "execution_count": null,
      "outputs": [
        {
          "output_type": "stream",
          "name": "stdout",
          "text": [
            "Score of Linear Regression Model:  0.75418\n"
          ]
        }
      ]
    },
    {
      "cell_type": "markdown",
      "source": [
        "##Conclusion: \n",
        "I implemented dimensionaity reduction technique Principal Component Analysis (PCA). I understood why PCA is required and how to form principal components and thus implemented it. PCA reduces high dimensional data to lower dimensions while capturing maximum variability of the dataset.\n",
        "It makes the training of algorithm faster by reducing the number of dimensions of the data.\n",
        "\n",
        "\n"
      ],
      "metadata": {
        "id": "1BhxVf14KW0w"
      }
    }
  ]
}