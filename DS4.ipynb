{
  "nbformat": 4,
  "nbformat_minor": 0,
  "metadata": {
    "colab": {
      "name": "DS4.ipynb",
      "provenance": []
    },
    "kernelspec": {
      "name": "python3",
      "display_name": "Python 3"
    },
    "language_info": {
      "name": "python"
    }
  },
  "cells": [
    {
      "cell_type": "markdown",
      "source": [
        "Jahnvi Shah\n",
        "\n",
        "2018130047\n",
        "\n"
      ],
      "metadata": {
        "id": "dEc1-j-vTsgZ"
      }
    },
    {
      "cell_type": "markdown",
      "source": [
        "**Objective:**\n",
        "\n",
        "Perform statistical data analysis such as: Estimators of the main statistical measures (mean, variance, standard deviation, covariance correlation, standard error), Main distributions ( Normal distribution, chi-square distribution), Hypothesis testing, pair-wise association (Pearson correlation test, t-test, ANOVA), Non-parametric test (Spearman rank0 etc)\n",
        "\n",
        "**Statistical Analysis**\n",
        "\n",
        "Statistical analysis is done for three reasons:\n",
        "\n",
        "1. Descriptive Statistics - What does the data tell us?\n",
        "\n",
        "2. Building and Using Models - Can the data be used to estimate values or predict the future?\n",
        "\n",
        "3. Hypothesis Testing - Are the descriptive statistics and models just coincidence for this sample?\n",
        "\n",
        "**Descriptive Statistics**\n",
        "\n",
        "Descriptive Statistics are calculations used to describe or summarize a collection of data. This is, by far, the most common type of statistical analysis that a practicing engineer will ever do\n",
        "\n",
        "Descriptive Statistics can be grouped into few categories, each seeking to answer a certain question based on the data.\n",
        "\n",
        "· Amount and Frequency Statistics - How much and how often? sum, count, and percent\n",
        "\n",
        "· Central Tendency Statistics - What is typical? mean, median, and mode.\n",
        "\n",
        "· Dispersion Statistics - What is the variation? minimum, maximum, variance, standard deviaion, skew, and quantile (also called percentile).\n",
        "\n",
        "**Hypothesis Testing**\n",
        "\n",
        "Hypothesis tests are calculation to determine if Descriptive Statistics and Statistical Models are just coincidence for the data sample. For example, suppose we want to know the difference in average height for male and female college students. We can collect a sample of data and compare the mean values. But is the result the true difference or is it just a coincidence of the sample that we happened to observe? In other words, if we were to collect more data might we get a different result? Statisticians have devised a way to calculate the probability of whether the observed descriptive statistic or model is merely a coincidence through hypothesis. The\n",
        "\n",
        "hypothesis calculation is based on the data sample itself, so hypothesis conclusions must be qualified with nuanced words of probability, such as maybe, likely, and probably.\n",
        "\n",
        "Example for Hypothesis testing:\n",
        "\n",
        "Researchers are interested in the mean age of a certain population.\n",
        "\n",
        "1. A random sample of 10 individuals drawn fromthe population of interest has a mean of 27.\n",
        "\n",
        "2. Assuming that the population is approximately normally distributed with variance 20,can we conclude that the mean is different from 30 years ? (α=0.05) .\n",
        "\n",
        "3. If the p - value is 0.0340 how can we use it in making a decision?\n",
        "\n",
        "For further work you follow following assumptions:\n",
        "\n",
        "Assumptions: the population is approximately normally distributed with variance 20\n",
        "\n",
        "Referring to above example, Suppose that the researchers have asked: Can we conclude\n",
        "\n",
        "that μ<30.? Other data and assumptions remains as above ."
      ],
      "metadata": {
        "id": "nIq0bzfATa3U"
      }
    },
    {
      "cell_type": "markdown",
      "source": [
        "**Steps**\n",
        "\n",
        "1. Model the data\n",
        "\n",
        "2. Fit: estimate the model parameters (frequency, mean, correlation, regression coeficient)\n",
        "\n",
        "3. Compute a test statistic from model the parameters.\n",
        "\n",
        "4. Formulate the null hypothesis: What would be the (distribution of the) test statistic if the observations are the result of pure chance.\n",
        "\n",
        "5. Compute the probability (𝑝-value) to obtain a larger value for the test statistic by chance (under the null hypothesis).\n"
      ],
      "metadata": {
        "id": "1-5taQMkT1Um"
      }
    },
    {
      "cell_type": "code",
      "source": [
        "import numpy as np\n",
        "import pandas as pd\n",
        "import matplotlib.pyplot as plt\n",
        "from matplotlib import pyplot\n",
        "import seaborn as sns\n",
        "from statsmodels.graphics.gofplots import qqplot\n",
        "import scipy.stats as stats\n",
        "from sklearn.preprocessing import LabelEncoder\n",
        "from sklearn import feature_selection\n",
        "from sklearn.preprocessing import PowerTransformer\n",
        "import itertools\n",
        "\n",
        "import warnings\n",
        "warnings.filterwarnings('ignore')"
      ],
      "metadata": {
        "id": "OCB9poupdjxA",
        "colab": {
          "base_uri": "https://localhost:8080/"
        },
        "outputId": "31642cc9-0680-4eaf-84dd-cf9dd97e3bab"
      },
      "execution_count": null,
      "outputs": [
        {
          "output_type": "stream",
          "name": "stderr",
          "text": [
            "/usr/local/lib/python3.7/dist-packages/statsmodels/tools/_testing.py:19: FutureWarning: pandas.util.testing is deprecated. Use the functions in the public API at pandas.testing instead.\n",
            "  import pandas.util.testing as tm\n"
          ]
        }
      ]
    },
    {
      "cell_type": "markdown",
      "source": [
        "## 1. Load the dataset (Use pandas)\n",
        "\n",
        "\n",
        "\n",
        " \n",
        "\n",
        " \n"
      ],
      "metadata": {
        "id": "NmJymunTatr_"
      }
    },
    {
      "cell_type": "code",
      "source": [
        "# importing dataset\n",
        "from google.colab import drive\n",
        "drive.mount('/content/drive', force_remount=True) \n",
        "data = pd.read_csv('drive/MyDrive/Datasets/Car/auto-mpg.csv', na_values = \"?\", comment = \"\\t\", skipinitialspace = True) \n",
        "\n",
        "auto_data=pd.DataFrame(data)"
      ],
      "metadata": {
        "id": "4xa87ZWsbW2p",
        "colab": {
          "base_uri": "https://localhost:8080/"
        },
        "outputId": "ba794d08-05df-4457-e58c-b8abd2c32f8a"
      },
      "execution_count": null,
      "outputs": [
        {
          "output_type": "stream",
          "name": "stdout",
          "text": [
            "Mounted at /content/drive\n"
          ]
        }
      ]
    },
    {
      "cell_type": "code",
      "source": [
        "auto_data"
      ],
      "metadata": {
        "colab": {
          "base_uri": "https://localhost:8080/",
          "height": 423
        },
        "id": "oA1t9VJVcdUq",
        "outputId": "a7b707f7-f01a-416d-9811-5cd5635b2708"
      },
      "execution_count": null,
      "outputs": [
        {
          "output_type": "execute_result",
          "data": {
            "text/plain": [
              "      mpg  cylinders  displacement  horsepower  weight  acceleration  \\\n",
              "0    18.0          8         307.0       130.0    3504          12.0   \n",
              "1    15.0          8         350.0       165.0    3693          11.5   \n",
              "2    18.0          8         318.0       150.0    3436          11.0   \n",
              "3    16.0          8         304.0       150.0    3433          12.0   \n",
              "4    17.0          8         302.0       140.0    3449          10.5   \n",
              "..    ...        ...           ...         ...     ...           ...   \n",
              "393  27.0          4         140.0        86.0    2790          15.6   \n",
              "394  44.0          4          97.0        52.0    2130          24.6   \n",
              "395  32.0          4         135.0        84.0    2295          11.6   \n",
              "396  28.0          4         120.0        79.0    2625          18.6   \n",
              "397  31.0          4         119.0        82.0    2720          19.4   \n",
              "\n",
              "     model year  origin                   car name  \n",
              "0            70       1  chevrolet chevelle malibu  \n",
              "1            70       1          buick skylark 320  \n",
              "2            70       1         plymouth satellite  \n",
              "3            70       1              amc rebel sst  \n",
              "4            70       1                ford torino  \n",
              "..          ...     ...                        ...  \n",
              "393          82       1            ford mustang gl  \n",
              "394          82       2                  vw pickup  \n",
              "395          82       1              dodge rampage  \n",
              "396          82       1                ford ranger  \n",
              "397          82       1                 chevy s-10  \n",
              "\n",
              "[398 rows x 9 columns]"
            ],
            "text/html": [
              "\n",
              "  <div id=\"df-0b4c484c-3f12-4de7-a2a9-a7e2d8560156\">\n",
              "    <div class=\"colab-df-container\">\n",
              "      <div>\n",
              "<style scoped>\n",
              "    .dataframe tbody tr th:only-of-type {\n",
              "        vertical-align: middle;\n",
              "    }\n",
              "\n",
              "    .dataframe tbody tr th {\n",
              "        vertical-align: top;\n",
              "    }\n",
              "\n",
              "    .dataframe thead th {\n",
              "        text-align: right;\n",
              "    }\n",
              "</style>\n",
              "<table border=\"1\" class=\"dataframe\">\n",
              "  <thead>\n",
              "    <tr style=\"text-align: right;\">\n",
              "      <th></th>\n",
              "      <th>mpg</th>\n",
              "      <th>cylinders</th>\n",
              "      <th>displacement</th>\n",
              "      <th>horsepower</th>\n",
              "      <th>weight</th>\n",
              "      <th>acceleration</th>\n",
              "      <th>model year</th>\n",
              "      <th>origin</th>\n",
              "      <th>car name</th>\n",
              "    </tr>\n",
              "  </thead>\n",
              "  <tbody>\n",
              "    <tr>\n",
              "      <th>0</th>\n",
              "      <td>18.0</td>\n",
              "      <td>8</td>\n",
              "      <td>307.0</td>\n",
              "      <td>130.0</td>\n",
              "      <td>3504</td>\n",
              "      <td>12.0</td>\n",
              "      <td>70</td>\n",
              "      <td>1</td>\n",
              "      <td>chevrolet chevelle malibu</td>\n",
              "    </tr>\n",
              "    <tr>\n",
              "      <th>1</th>\n",
              "      <td>15.0</td>\n",
              "      <td>8</td>\n",
              "      <td>350.0</td>\n",
              "      <td>165.0</td>\n",
              "      <td>3693</td>\n",
              "      <td>11.5</td>\n",
              "      <td>70</td>\n",
              "      <td>1</td>\n",
              "      <td>buick skylark 320</td>\n",
              "    </tr>\n",
              "    <tr>\n",
              "      <th>2</th>\n",
              "      <td>18.0</td>\n",
              "      <td>8</td>\n",
              "      <td>318.0</td>\n",
              "      <td>150.0</td>\n",
              "      <td>3436</td>\n",
              "      <td>11.0</td>\n",
              "      <td>70</td>\n",
              "      <td>1</td>\n",
              "      <td>plymouth satellite</td>\n",
              "    </tr>\n",
              "    <tr>\n",
              "      <th>3</th>\n",
              "      <td>16.0</td>\n",
              "      <td>8</td>\n",
              "      <td>304.0</td>\n",
              "      <td>150.0</td>\n",
              "      <td>3433</td>\n",
              "      <td>12.0</td>\n",
              "      <td>70</td>\n",
              "      <td>1</td>\n",
              "      <td>amc rebel sst</td>\n",
              "    </tr>\n",
              "    <tr>\n",
              "      <th>4</th>\n",
              "      <td>17.0</td>\n",
              "      <td>8</td>\n",
              "      <td>302.0</td>\n",
              "      <td>140.0</td>\n",
              "      <td>3449</td>\n",
              "      <td>10.5</td>\n",
              "      <td>70</td>\n",
              "      <td>1</td>\n",
              "      <td>ford torino</td>\n",
              "    </tr>\n",
              "    <tr>\n",
              "      <th>...</th>\n",
              "      <td>...</td>\n",
              "      <td>...</td>\n",
              "      <td>...</td>\n",
              "      <td>...</td>\n",
              "      <td>...</td>\n",
              "      <td>...</td>\n",
              "      <td>...</td>\n",
              "      <td>...</td>\n",
              "      <td>...</td>\n",
              "    </tr>\n",
              "    <tr>\n",
              "      <th>393</th>\n",
              "      <td>27.0</td>\n",
              "      <td>4</td>\n",
              "      <td>140.0</td>\n",
              "      <td>86.0</td>\n",
              "      <td>2790</td>\n",
              "      <td>15.6</td>\n",
              "      <td>82</td>\n",
              "      <td>1</td>\n",
              "      <td>ford mustang gl</td>\n",
              "    </tr>\n",
              "    <tr>\n",
              "      <th>394</th>\n",
              "      <td>44.0</td>\n",
              "      <td>4</td>\n",
              "      <td>97.0</td>\n",
              "      <td>52.0</td>\n",
              "      <td>2130</td>\n",
              "      <td>24.6</td>\n",
              "      <td>82</td>\n",
              "      <td>2</td>\n",
              "      <td>vw pickup</td>\n",
              "    </tr>\n",
              "    <tr>\n",
              "      <th>395</th>\n",
              "      <td>32.0</td>\n",
              "      <td>4</td>\n",
              "      <td>135.0</td>\n",
              "      <td>84.0</td>\n",
              "      <td>2295</td>\n",
              "      <td>11.6</td>\n",
              "      <td>82</td>\n",
              "      <td>1</td>\n",
              "      <td>dodge rampage</td>\n",
              "    </tr>\n",
              "    <tr>\n",
              "      <th>396</th>\n",
              "      <td>28.0</td>\n",
              "      <td>4</td>\n",
              "      <td>120.0</td>\n",
              "      <td>79.0</td>\n",
              "      <td>2625</td>\n",
              "      <td>18.6</td>\n",
              "      <td>82</td>\n",
              "      <td>1</td>\n",
              "      <td>ford ranger</td>\n",
              "    </tr>\n",
              "    <tr>\n",
              "      <th>397</th>\n",
              "      <td>31.0</td>\n",
              "      <td>4</td>\n",
              "      <td>119.0</td>\n",
              "      <td>82.0</td>\n",
              "      <td>2720</td>\n",
              "      <td>19.4</td>\n",
              "      <td>82</td>\n",
              "      <td>1</td>\n",
              "      <td>chevy s-10</td>\n",
              "    </tr>\n",
              "  </tbody>\n",
              "</table>\n",
              "<p>398 rows × 9 columns</p>\n",
              "</div>\n",
              "      <button class=\"colab-df-convert\" onclick=\"convertToInteractive('df-0b4c484c-3f12-4de7-a2a9-a7e2d8560156')\"\n",
              "              title=\"Convert this dataframe to an interactive table.\"\n",
              "              style=\"display:none;\">\n",
              "        \n",
              "  <svg xmlns=\"http://www.w3.org/2000/svg\" height=\"24px\"viewBox=\"0 0 24 24\"\n",
              "       width=\"24px\">\n",
              "    <path d=\"M0 0h24v24H0V0z\" fill=\"none\"/>\n",
              "    <path d=\"M18.56 5.44l.94 2.06.94-2.06 2.06-.94-2.06-.94-.94-2.06-.94 2.06-2.06.94zm-11 1L8.5 8.5l.94-2.06 2.06-.94-2.06-.94L8.5 2.5l-.94 2.06-2.06.94zm10 10l.94 2.06.94-2.06 2.06-.94-2.06-.94-.94-2.06-.94 2.06-2.06.94z\"/><path d=\"M17.41 7.96l-1.37-1.37c-.4-.4-.92-.59-1.43-.59-.52 0-1.04.2-1.43.59L10.3 9.45l-7.72 7.72c-.78.78-.78 2.05 0 2.83L4 21.41c.39.39.9.59 1.41.59.51 0 1.02-.2 1.41-.59l7.78-7.78 2.81-2.81c.8-.78.8-2.07 0-2.86zM5.41 20L4 18.59l7.72-7.72 1.47 1.35L5.41 20z\"/>\n",
              "  </svg>\n",
              "      </button>\n",
              "      \n",
              "  <style>\n",
              "    .colab-df-container {\n",
              "      display:flex;\n",
              "      flex-wrap:wrap;\n",
              "      gap: 12px;\n",
              "    }\n",
              "\n",
              "    .colab-df-convert {\n",
              "      background-color: #E8F0FE;\n",
              "      border: none;\n",
              "      border-radius: 50%;\n",
              "      cursor: pointer;\n",
              "      display: none;\n",
              "      fill: #1967D2;\n",
              "      height: 32px;\n",
              "      padding: 0 0 0 0;\n",
              "      width: 32px;\n",
              "    }\n",
              "\n",
              "    .colab-df-convert:hover {\n",
              "      background-color: #E2EBFA;\n",
              "      box-shadow: 0px 1px 2px rgba(60, 64, 67, 0.3), 0px 1px 3px 1px rgba(60, 64, 67, 0.15);\n",
              "      fill: #174EA6;\n",
              "    }\n",
              "\n",
              "    [theme=dark] .colab-df-convert {\n",
              "      background-color: #3B4455;\n",
              "      fill: #D2E3FC;\n",
              "    }\n",
              "\n",
              "    [theme=dark] .colab-df-convert:hover {\n",
              "      background-color: #434B5C;\n",
              "      box-shadow: 0px 1px 3px 1px rgba(0, 0, 0, 0.15);\n",
              "      filter: drop-shadow(0px 1px 2px rgba(0, 0, 0, 0.3));\n",
              "      fill: #FFFFFF;\n",
              "    }\n",
              "  </style>\n",
              "\n",
              "      <script>\n",
              "        const buttonEl =\n",
              "          document.querySelector('#df-0b4c484c-3f12-4de7-a2a9-a7e2d8560156 button.colab-df-convert');\n",
              "        buttonEl.style.display =\n",
              "          google.colab.kernel.accessAllowed ? 'block' : 'none';\n",
              "\n",
              "        async function convertToInteractive(key) {\n",
              "          const element = document.querySelector('#df-0b4c484c-3f12-4de7-a2a9-a7e2d8560156');\n",
              "          const dataTable =\n",
              "            await google.colab.kernel.invokeFunction('convertToInteractive',\n",
              "                                                     [key], {});\n",
              "          if (!dataTable) return;\n",
              "\n",
              "          const docLinkHtml = 'Like what you see? Visit the ' +\n",
              "            '<a target=\"_blank\" href=https://colab.research.google.com/notebooks/data_table.ipynb>data table notebook</a>'\n",
              "            + ' to learn more about interactive tables.';\n",
              "          element.innerHTML = '';\n",
              "          dataTable['output_type'] = 'display_data';\n",
              "          await google.colab.output.renderOutput(dataTable, element);\n",
              "          const docLink = document.createElement('div');\n",
              "          docLink.innerHTML = docLinkHtml;\n",
              "          element.appendChild(docLink);\n",
              "        }\n",
              "      </script>\n",
              "    </div>\n",
              "  </div>\n",
              "  "
            ]
          },
          "metadata": {},
          "execution_count": 3
        }
      ]
    },
    {
      "cell_type": "code",
      "source": [
        "auto_data.rename(columns ={'model year':'model_year'}, inplace = True)"
      ],
      "metadata": {
        "id": "LAARa9OU9riS"
      },
      "execution_count": null,
      "outputs": []
    },
    {
      "cell_type": "code",
      "source": [
        "auto_data.info()"
      ],
      "metadata": {
        "colab": {
          "base_uri": "https://localhost:8080/"
        },
        "id": "2Ypy_A3GstuA",
        "outputId": "b317bf5a-c354-4ccd-9f23-66c94b4cd12c"
      },
      "execution_count": null,
      "outputs": [
        {
          "output_type": "stream",
          "name": "stdout",
          "text": [
            "<class 'pandas.core.frame.DataFrame'>\n",
            "RangeIndex: 398 entries, 0 to 397\n",
            "Data columns (total 9 columns):\n",
            " #   Column        Non-Null Count  Dtype  \n",
            "---  ------        --------------  -----  \n",
            " 0   mpg           398 non-null    float64\n",
            " 1   cylinders     398 non-null    int64  \n",
            " 2   displacement  398 non-null    float64\n",
            " 3   horsepower    392 non-null    float64\n",
            " 4   weight        398 non-null    int64  \n",
            " 5   acceleration  398 non-null    float64\n",
            " 6   model_year    398 non-null    int64  \n",
            " 7   origin        398 non-null    int64  \n",
            " 8   car name      398 non-null    object \n",
            "dtypes: float64(4), int64(4), object(1)\n",
            "memory usage: 28.1+ KB\n"
          ]
        }
      ]
    },
    {
      "cell_type": "markdown",
      "source": [
        "The info given above gives the insights about automobile's data read using csv. It contains 398 samples and 9 features."
      ],
      "metadata": {
        "id": "k43VCCm53Mg6"
      }
    },
    {
      "cell_type": "markdown",
      "source": [
        "## 2. Data Preprocessing (Handling NA values)"
      ],
      "metadata": {
        "id": "tLiZU9ddbKzt"
      }
    },
    {
      "cell_type": "code",
      "source": [
        "# count of null values in each column\n",
        "print(auto_data.isnull().sum())"
      ],
      "metadata": {
        "colab": {
          "base_uri": "https://localhost:8080/"
        },
        "id": "EjKItk_u3c8D",
        "outputId": "65963a40-e4df-44fa-8f24-0636e3425468"
      },
      "execution_count": null,
      "outputs": [
        {
          "output_type": "stream",
          "name": "stdout",
          "text": [
            "mpg             0\n",
            "cylinders       0\n",
            "displacement    0\n",
            "horsepower      6\n",
            "weight          0\n",
            "acceleration    0\n",
            "model_year      0\n",
            "origin          0\n",
            "car name        0\n",
            "dtype: int64\n"
          ]
        }
      ]
    },
    {
      "cell_type": "code",
      "source": [
        "auto_data['horsepower'] = auto_data['horsepower'].astype(str).astype(float)"
      ],
      "metadata": {
        "id": "7AzNcA8R-Bx2"
      },
      "execution_count": null,
      "outputs": []
    },
    {
      "cell_type": "markdown",
      "source": [
        "### Replacing null values in horsepower column with median"
      ],
      "metadata": {
        "id": "3-A7A7Gffe0w"
      }
    },
    {
      "cell_type": "code",
      "source": [
        "auto_data['horsepower']=auto_data['horsepower'].fillna(auto_data['horsepower'].median())"
      ],
      "metadata": {
        "id": "M4K6BkhifrBc"
      },
      "execution_count": null,
      "outputs": []
    },
    {
      "cell_type": "code",
      "source": [
        "# count of null values in each column\n",
        "print(auto_data.isnull().sum())"
      ],
      "metadata": {
        "colab": {
          "base_uri": "https://localhost:8080/"
        },
        "id": "GBHr-2IGgxs7",
        "outputId": "1e8a295d-b591-471f-bd4d-ce44ccc1ff96"
      },
      "execution_count": null,
      "outputs": [
        {
          "output_type": "stream",
          "name": "stdout",
          "text": [
            "mpg             0\n",
            "cylinders       0\n",
            "displacement    0\n",
            "horsepower      0\n",
            "weight          0\n",
            "acceleration    0\n",
            "model_year      0\n",
            "origin          0\n",
            "car name        0\n",
            "dtype: int64\n"
          ]
        }
      ]
    },
    {
      "cell_type": "code",
      "source": [
        "categorical_features = list(auto_data.select_dtypes(include=['object']).columns)\n",
        "numerical_features = list(auto_data.select_dtypes(exclude=['object']).columns)\n",
        "print(f'categorical variables:  {categorical_features}')\n",
        "print(f'numerical variables:  {numerical_features}')"
      ],
      "metadata": {
        "colab": {
          "base_uri": "https://localhost:8080/"
        },
        "id": "xRjvfouj4m72",
        "outputId": "1a08c572-6b0a-4f75-d6d9-353f23272773"
      },
      "execution_count": null,
      "outputs": [
        {
          "output_type": "stream",
          "name": "stdout",
          "text": [
            "categorical variables:  ['car name']\n",
            "numerical variables:  ['mpg', 'cylinders', 'displacement', 'horsepower', 'weight', 'acceleration', 'model_year', 'origin']\n"
          ]
        }
      ]
    },
    {
      "cell_type": "code",
      "source": [
        "# let's inspect how many unique values are there in each column.\n",
        "auto_data.nunique(axis=0)"
      ],
      "metadata": {
        "colab": {
          "base_uri": "https://localhost:8080/"
        },
        "id": "CBaWn8Xv5DuM",
        "outputId": "1aec4882-af21-4c71-b198-3b73b2dfb14b"
      },
      "execution_count": null,
      "outputs": [
        {
          "output_type": "execute_result",
          "data": {
            "text/plain": [
              "mpg             129\n",
              "cylinders         5\n",
              "displacement     82\n",
              "horsepower       94\n",
              "weight          351\n",
              "acceleration     95\n",
              "model_year       13\n",
              "origin            3\n",
              "car name        305\n",
              "dtype: int64"
            ]
          },
          "metadata": {},
          "execution_count": 11
        }
      ]
    },
    {
      "cell_type": "code",
      "source": [
        "# cylinders and model_year also seems to be categorical so lets update the lists\n",
        "categorical_features.extend(['cylinders', 'model_year'])\n",
        "numerical_features.remove('cylinders')\n",
        "numerical_features.remove('model_year')\n",
        "\n",
        "print(f'categorical variables:  {categorical_features}')\n",
        "print(f'numerical variables:  {numerical_features}')"
      ],
      "metadata": {
        "colab": {
          "base_uri": "https://localhost:8080/"
        },
        "id": "JQN7HcMD5zYJ",
        "outputId": "eff3cf40-0e88-4868-d3e6-fc72876ed493"
      },
      "execution_count": null,
      "outputs": [
        {
          "output_type": "stream",
          "name": "stdout",
          "text": [
            "categorical variables:  ['car name', 'cylinders', 'model_year']\n",
            "numerical variables:  ['mpg', 'displacement', 'horsepower', 'weight', 'acceleration', 'origin']\n"
          ]
        }
      ]
    },
    {
      "cell_type": "markdown",
      "source": [
        "# Descriptive Statistics"
      ],
      "metadata": {
        "id": "44o0JylFM4s4"
      }
    },
    {
      "cell_type": "markdown",
      "source": [
        "## Amount and Frequency Statistics"
      ],
      "metadata": {
        "id": "eWJLarEORHzd"
      }
    },
    {
      "cell_type": "markdown",
      "source": [
        "### Sum"
      ],
      "metadata": {
        "id": "dUwn_XNHRPIT"
      }
    },
    {
      "cell_type": "code",
      "source": [
        "auto_data.sum()"
      ],
      "metadata": {
        "colab": {
          "base_uri": "https://localhost:8080/"
        },
        "id": "5JkMYAxGRRri",
        "outputId": "3caabcdf-0781-4ee8-b69f-b2875d40b5dd"
      },
      "execution_count": null,
      "outputs": [
        {
          "output_type": "execute_result",
          "data": {
            "text/plain": [
              "mpg                                                        9358.8\n",
              "cylinders                                                    2171\n",
              "displacement                                              76983.5\n",
              "horsepower                                                41513.0\n",
              "weight                                                    1182229\n",
              "acceleration                                               6196.1\n",
              "model_year                                                  30252\n",
              "origin                                                        626\n",
              "car name        chevrolet chevelle malibubuick skylark 320plym...\n",
              "dtype: object"
            ]
          },
          "metadata": {},
          "execution_count": 13
        }
      ]
    },
    {
      "cell_type": "markdown",
      "source": [
        "### Count"
      ],
      "metadata": {
        "id": "RanohlcnRMAn"
      }
    },
    {
      "cell_type": "code",
      "source": [
        "auto_data.count()"
      ],
      "metadata": {
        "colab": {
          "base_uri": "https://localhost:8080/"
        },
        "id": "RbLVzHnoRBH9",
        "outputId": "c5aa91b8-09cf-42b0-ced9-71c3ff558044"
      },
      "execution_count": null,
      "outputs": [
        {
          "output_type": "execute_result",
          "data": {
            "text/plain": [
              "mpg             398\n",
              "cylinders       398\n",
              "displacement    398\n",
              "horsepower      398\n",
              "weight          398\n",
              "acceleration    398\n",
              "model_year      398\n",
              "origin          398\n",
              "car name        398\n",
              "dtype: int64"
            ]
          },
          "metadata": {},
          "execution_count": 14
        }
      ]
    },
    {
      "cell_type": "markdown",
      "source": [
        "## Central Tendency Statistics"
      ],
      "metadata": {
        "id": "90pw_PNPRxR4"
      }
    },
    {
      "cell_type": "markdown",
      "source": [
        "### Mean"
      ],
      "metadata": {
        "id": "X2Qq8j3cNBMY"
      }
    },
    {
      "cell_type": "code",
      "source": [
        "auto_data.mean()"
      ],
      "metadata": {
        "colab": {
          "base_uri": "https://localhost:8080/"
        },
        "id": "UereDCYFM8my",
        "outputId": "a1d0ff7d-17c4-45ea-f92b-48fa7a8c8f24"
      },
      "execution_count": null,
      "outputs": [
        {
          "output_type": "execute_result",
          "data": {
            "text/plain": [
              "mpg               23.514573\n",
              "cylinders          5.454774\n",
              "displacement     193.425879\n",
              "horsepower       104.304020\n",
              "weight          2970.424623\n",
              "acceleration      15.568090\n",
              "model_year        76.010050\n",
              "origin             1.572864\n",
              "dtype: float64"
            ]
          },
          "metadata": {},
          "execution_count": 15
        }
      ]
    },
    {
      "cell_type": "markdown",
      "source": [
        "### Median"
      ],
      "metadata": {
        "id": "YBNFQCfZegIC"
      }
    },
    {
      "cell_type": "code",
      "source": [
        "auto_data.median()"
      ],
      "metadata": {
        "colab": {
          "base_uri": "https://localhost:8080/"
        },
        "id": "WrvmNKBxeiY5",
        "outputId": "854e4dea-0132-4902-c589-66e0fac89a71"
      },
      "execution_count": null,
      "outputs": [
        {
          "output_type": "execute_result",
          "data": {
            "text/plain": [
              "mpg               23.0\n",
              "cylinders          4.0\n",
              "displacement     148.5\n",
              "horsepower        93.5\n",
              "weight          2803.5\n",
              "acceleration      15.5\n",
              "model_year        76.0\n",
              "origin             1.0\n",
              "dtype: float64"
            ]
          },
          "metadata": {},
          "execution_count": 16
        }
      ]
    },
    {
      "cell_type": "markdown",
      "source": [
        "### Mode"
      ],
      "metadata": {
        "id": "rNYtbgLdftOB"
      }
    },
    {
      "cell_type": "code",
      "source": [
        "auto_data.mode()"
      ],
      "metadata": {
        "colab": {
          "base_uri": "https://localhost:8080/",
          "height": 112
        },
        "id": "5tIed9BxfmE1",
        "outputId": "35456387-1e4a-4722-ded3-7417afafa707"
      },
      "execution_count": null,
      "outputs": [
        {
          "output_type": "execute_result",
          "data": {
            "text/plain": [
              "    mpg  cylinders  displacement  horsepower  weight  acceleration  \\\n",
              "0  13.0        4.0          97.0       150.0    1985          14.5   \n",
              "1   NaN        NaN           NaN         NaN    2130           NaN   \n",
              "\n",
              "   model_year  origin    car name  \n",
              "0        73.0     1.0  ford pinto  \n",
              "1         NaN     NaN         NaN  "
            ],
            "text/html": [
              "\n",
              "  <div id=\"df-68b765ec-6552-41f3-be82-7deff22b45f8\">\n",
              "    <div class=\"colab-df-container\">\n",
              "      <div>\n",
              "<style scoped>\n",
              "    .dataframe tbody tr th:only-of-type {\n",
              "        vertical-align: middle;\n",
              "    }\n",
              "\n",
              "    .dataframe tbody tr th {\n",
              "        vertical-align: top;\n",
              "    }\n",
              "\n",
              "    .dataframe thead th {\n",
              "        text-align: right;\n",
              "    }\n",
              "</style>\n",
              "<table border=\"1\" class=\"dataframe\">\n",
              "  <thead>\n",
              "    <tr style=\"text-align: right;\">\n",
              "      <th></th>\n",
              "      <th>mpg</th>\n",
              "      <th>cylinders</th>\n",
              "      <th>displacement</th>\n",
              "      <th>horsepower</th>\n",
              "      <th>weight</th>\n",
              "      <th>acceleration</th>\n",
              "      <th>model_year</th>\n",
              "      <th>origin</th>\n",
              "      <th>car name</th>\n",
              "    </tr>\n",
              "  </thead>\n",
              "  <tbody>\n",
              "    <tr>\n",
              "      <th>0</th>\n",
              "      <td>13.0</td>\n",
              "      <td>4.0</td>\n",
              "      <td>97.0</td>\n",
              "      <td>150.0</td>\n",
              "      <td>1985</td>\n",
              "      <td>14.5</td>\n",
              "      <td>73.0</td>\n",
              "      <td>1.0</td>\n",
              "      <td>ford pinto</td>\n",
              "    </tr>\n",
              "    <tr>\n",
              "      <th>1</th>\n",
              "      <td>NaN</td>\n",
              "      <td>NaN</td>\n",
              "      <td>NaN</td>\n",
              "      <td>NaN</td>\n",
              "      <td>2130</td>\n",
              "      <td>NaN</td>\n",
              "      <td>NaN</td>\n",
              "      <td>NaN</td>\n",
              "      <td>NaN</td>\n",
              "    </tr>\n",
              "  </tbody>\n",
              "</table>\n",
              "</div>\n",
              "      <button class=\"colab-df-convert\" onclick=\"convertToInteractive('df-68b765ec-6552-41f3-be82-7deff22b45f8')\"\n",
              "              title=\"Convert this dataframe to an interactive table.\"\n",
              "              style=\"display:none;\">\n",
              "        \n",
              "  <svg xmlns=\"http://www.w3.org/2000/svg\" height=\"24px\"viewBox=\"0 0 24 24\"\n",
              "       width=\"24px\">\n",
              "    <path d=\"M0 0h24v24H0V0z\" fill=\"none\"/>\n",
              "    <path d=\"M18.56 5.44l.94 2.06.94-2.06 2.06-.94-2.06-.94-.94-2.06-.94 2.06-2.06.94zm-11 1L8.5 8.5l.94-2.06 2.06-.94-2.06-.94L8.5 2.5l-.94 2.06-2.06.94zm10 10l.94 2.06.94-2.06 2.06-.94-2.06-.94-.94-2.06-.94 2.06-2.06.94z\"/><path d=\"M17.41 7.96l-1.37-1.37c-.4-.4-.92-.59-1.43-.59-.52 0-1.04.2-1.43.59L10.3 9.45l-7.72 7.72c-.78.78-.78 2.05 0 2.83L4 21.41c.39.39.9.59 1.41.59.51 0 1.02-.2 1.41-.59l7.78-7.78 2.81-2.81c.8-.78.8-2.07 0-2.86zM5.41 20L4 18.59l7.72-7.72 1.47 1.35L5.41 20z\"/>\n",
              "  </svg>\n",
              "      </button>\n",
              "      \n",
              "  <style>\n",
              "    .colab-df-container {\n",
              "      display:flex;\n",
              "      flex-wrap:wrap;\n",
              "      gap: 12px;\n",
              "    }\n",
              "\n",
              "    .colab-df-convert {\n",
              "      background-color: #E8F0FE;\n",
              "      border: none;\n",
              "      border-radius: 50%;\n",
              "      cursor: pointer;\n",
              "      display: none;\n",
              "      fill: #1967D2;\n",
              "      height: 32px;\n",
              "      padding: 0 0 0 0;\n",
              "      width: 32px;\n",
              "    }\n",
              "\n",
              "    .colab-df-convert:hover {\n",
              "      background-color: #E2EBFA;\n",
              "      box-shadow: 0px 1px 2px rgba(60, 64, 67, 0.3), 0px 1px 3px 1px rgba(60, 64, 67, 0.15);\n",
              "      fill: #174EA6;\n",
              "    }\n",
              "\n",
              "    [theme=dark] .colab-df-convert {\n",
              "      background-color: #3B4455;\n",
              "      fill: #D2E3FC;\n",
              "    }\n",
              "\n",
              "    [theme=dark] .colab-df-convert:hover {\n",
              "      background-color: #434B5C;\n",
              "      box-shadow: 0px 1px 3px 1px rgba(0, 0, 0, 0.15);\n",
              "      filter: drop-shadow(0px 1px 2px rgba(0, 0, 0, 0.3));\n",
              "      fill: #FFFFFF;\n",
              "    }\n",
              "  </style>\n",
              "\n",
              "      <script>\n",
              "        const buttonEl =\n",
              "          document.querySelector('#df-68b765ec-6552-41f3-be82-7deff22b45f8 button.colab-df-convert');\n",
              "        buttonEl.style.display =\n",
              "          google.colab.kernel.accessAllowed ? 'block' : 'none';\n",
              "\n",
              "        async function convertToInteractive(key) {\n",
              "          const element = document.querySelector('#df-68b765ec-6552-41f3-be82-7deff22b45f8');\n",
              "          const dataTable =\n",
              "            await google.colab.kernel.invokeFunction('convertToInteractive',\n",
              "                                                     [key], {});\n",
              "          if (!dataTable) return;\n",
              "\n",
              "          const docLinkHtml = 'Like what you see? Visit the ' +\n",
              "            '<a target=\"_blank\" href=https://colab.research.google.com/notebooks/data_table.ipynb>data table notebook</a>'\n",
              "            + ' to learn more about interactive tables.';\n",
              "          element.innerHTML = '';\n",
              "          dataTable['output_type'] = 'display_data';\n",
              "          await google.colab.output.renderOutput(dataTable, element);\n",
              "          const docLink = document.createElement('div');\n",
              "          docLink.innerHTML = docLinkHtml;\n",
              "          element.appendChild(docLink);\n",
              "        }\n",
              "      </script>\n",
              "    </div>\n",
              "  </div>\n",
              "  "
            ]
          },
          "metadata": {},
          "execution_count": 17
        }
      ]
    },
    {
      "cell_type": "markdown",
      "source": [
        "## Dispersion Statistics"
      ],
      "metadata": {
        "id": "HdQo-enVWILc"
      }
    },
    {
      "cell_type": "markdown",
      "source": [
        "### Minimum"
      ],
      "metadata": {
        "id": "RkpjDgWlWPVp"
      }
    },
    {
      "cell_type": "code",
      "source": [
        "auto_data.min()"
      ],
      "metadata": {
        "colab": {
          "base_uri": "https://localhost:8080/"
        },
        "id": "tRvcCNEPWLgs",
        "outputId": "5abdcbdd-a3a1-4e76-e6e2-c97a54e1b440"
      },
      "execution_count": null,
      "outputs": [
        {
          "output_type": "execute_result",
          "data": {
            "text/plain": [
              "mpg                                 9.0\n",
              "cylinders                             3\n",
              "displacement                       68.0\n",
              "horsepower                         46.0\n",
              "weight                             1613\n",
              "acceleration                        8.0\n",
              "model_year                           70\n",
              "origin                                1\n",
              "car name        amc ambassador brougham\n",
              "dtype: object"
            ]
          },
          "metadata": {},
          "execution_count": 18
        }
      ]
    },
    {
      "cell_type": "markdown",
      "source": [
        "### Maximum"
      ],
      "metadata": {
        "id": "KuMS4Ih8WRRf"
      }
    },
    {
      "cell_type": "code",
      "source": [
        "auto_data.max()"
      ],
      "metadata": {
        "colab": {
          "base_uri": "https://localhost:8080/"
        },
        "id": "LV60iMnIWTJB",
        "outputId": "40afeea6-42f1-4997-a1a1-fffb046e0b30"
      },
      "execution_count": null,
      "outputs": [
        {
          "output_type": "execute_result",
          "data": {
            "text/plain": [
              "mpg                         46.6\n",
              "cylinders                      8\n",
              "displacement               455.0\n",
              "horsepower                 230.0\n",
              "weight                      5140\n",
              "acceleration                24.8\n",
              "model_year                    82\n",
              "origin                         3\n",
              "car name        vw rabbit custom\n",
              "dtype: object"
            ]
          },
          "metadata": {},
          "execution_count": 19
        }
      ]
    },
    {
      "cell_type": "markdown",
      "source": [
        "### Variance"
      ],
      "metadata": {
        "id": "kGJkn9mOfCrs"
      }
    },
    {
      "cell_type": "code",
      "source": [
        "auto_data.var()"
      ],
      "metadata": {
        "colab": {
          "base_uri": "https://localhost:8080/"
        },
        "id": "Y23ph9RgfArZ",
        "outputId": "a48ded8a-5d8e-4724-e2ba-5022ed1f30b0"
      },
      "execution_count": null,
      "outputs": [
        {
          "output_type": "execute_result",
          "data": {
            "text/plain": [
              "mpg                 61.089611\n",
              "cylinders            2.893415\n",
              "displacement     10872.199152\n",
              "horsepower        1460.969052\n",
              "weight          717140.990526\n",
              "acceleration         7.604848\n",
              "model_year          13.672443\n",
              "origin               0.643292\n",
              "dtype: float64"
            ]
          },
          "metadata": {},
          "execution_count": 20
        }
      ]
    },
    {
      "cell_type": "markdown",
      "source": [
        "### Standard Deviation"
      ],
      "metadata": {
        "id": "WyN0gZAZNQcC"
      }
    },
    {
      "cell_type": "code",
      "source": [
        "auto_data.std()"
      ],
      "metadata": {
        "colab": {
          "base_uri": "https://localhost:8080/"
        },
        "id": "aryOCQ9pNOHq",
        "outputId": "3732aa65-ae06-4e11-896c-620a892c62de"
      },
      "execution_count": null,
      "outputs": [
        {
          "output_type": "execute_result",
          "data": {
            "text/plain": [
              "mpg               7.815984\n",
              "cylinders         1.701004\n",
              "displacement    104.269838\n",
              "horsepower       38.222625\n",
              "weight          846.841774\n",
              "acceleration      2.757689\n",
              "model_year        3.697627\n",
              "origin            0.802055\n",
              "dtype: float64"
            ]
          },
          "metadata": {},
          "execution_count": 21
        }
      ]
    },
    {
      "cell_type": "markdown",
      "source": [
        "### Skewness"
      ],
      "metadata": {
        "id": "NaeeISZBfkKJ"
      }
    },
    {
      "cell_type": "code",
      "source": [
        "auto_data.skew()"
      ],
      "metadata": {
        "colab": {
          "base_uri": "https://localhost:8080/"
        },
        "id": "AQEGngeRfh14",
        "outputId": "93b2976e-b253-4e2a-f872-bb94e8b0ec89"
      },
      "execution_count": null,
      "outputs": [
        {
          "output_type": "execute_result",
          "data": {
            "text/plain": [
              "mpg             0.457066\n",
              "cylinders       0.526922\n",
              "displacement    0.719645\n",
              "horsepower      1.106224\n",
              "weight          0.531063\n",
              "acceleration    0.278777\n",
              "model_year      0.011535\n",
              "origin          0.923776\n",
              "dtype: float64"
            ]
          },
          "metadata": {},
          "execution_count": 22
        }
      ]
    },
    {
      "cell_type": "markdown",
      "source": [
        "### Describe"
      ],
      "metadata": {
        "id": "ROnPGUOSQybN"
      }
    },
    {
      "cell_type": "code",
      "source": [
        "auto_data.describe()"
      ],
      "metadata": {
        "colab": {
          "base_uri": "https://localhost:8080/",
          "height": 300
        },
        "id": "FOIzheKGQ1-9",
        "outputId": "50b4b7c5-0817-4205-dc2b-a4224ad3fdc7"
      },
      "execution_count": null,
      "outputs": [
        {
          "output_type": "execute_result",
          "data": {
            "text/plain": [
              "              mpg   cylinders  displacement  horsepower       weight  \\\n",
              "count  398.000000  398.000000    398.000000  398.000000   398.000000   \n",
              "mean    23.514573    5.454774    193.425879  104.304020  2970.424623   \n",
              "std      7.815984    1.701004    104.269838   38.222625   846.841774   \n",
              "min      9.000000    3.000000     68.000000   46.000000  1613.000000   \n",
              "25%     17.500000    4.000000    104.250000   76.000000  2223.750000   \n",
              "50%     23.000000    4.000000    148.500000   93.500000  2803.500000   \n",
              "75%     29.000000    8.000000    262.000000  125.000000  3608.000000   \n",
              "max     46.600000    8.000000    455.000000  230.000000  5140.000000   \n",
              "\n",
              "       acceleration  model_year      origin  \n",
              "count    398.000000  398.000000  398.000000  \n",
              "mean      15.568090   76.010050    1.572864  \n",
              "std        2.757689    3.697627    0.802055  \n",
              "min        8.000000   70.000000    1.000000  \n",
              "25%       13.825000   73.000000    1.000000  \n",
              "50%       15.500000   76.000000    1.000000  \n",
              "75%       17.175000   79.000000    2.000000  \n",
              "max       24.800000   82.000000    3.000000  "
            ],
            "text/html": [
              "\n",
              "  <div id=\"df-b9a77659-2850-4721-8c4f-5f832887a424\">\n",
              "    <div class=\"colab-df-container\">\n",
              "      <div>\n",
              "<style scoped>\n",
              "    .dataframe tbody tr th:only-of-type {\n",
              "        vertical-align: middle;\n",
              "    }\n",
              "\n",
              "    .dataframe tbody tr th {\n",
              "        vertical-align: top;\n",
              "    }\n",
              "\n",
              "    .dataframe thead th {\n",
              "        text-align: right;\n",
              "    }\n",
              "</style>\n",
              "<table border=\"1\" class=\"dataframe\">\n",
              "  <thead>\n",
              "    <tr style=\"text-align: right;\">\n",
              "      <th></th>\n",
              "      <th>mpg</th>\n",
              "      <th>cylinders</th>\n",
              "      <th>displacement</th>\n",
              "      <th>horsepower</th>\n",
              "      <th>weight</th>\n",
              "      <th>acceleration</th>\n",
              "      <th>model_year</th>\n",
              "      <th>origin</th>\n",
              "    </tr>\n",
              "  </thead>\n",
              "  <tbody>\n",
              "    <tr>\n",
              "      <th>count</th>\n",
              "      <td>398.000000</td>\n",
              "      <td>398.000000</td>\n",
              "      <td>398.000000</td>\n",
              "      <td>398.000000</td>\n",
              "      <td>398.000000</td>\n",
              "      <td>398.000000</td>\n",
              "      <td>398.000000</td>\n",
              "      <td>398.000000</td>\n",
              "    </tr>\n",
              "    <tr>\n",
              "      <th>mean</th>\n",
              "      <td>23.514573</td>\n",
              "      <td>5.454774</td>\n",
              "      <td>193.425879</td>\n",
              "      <td>104.304020</td>\n",
              "      <td>2970.424623</td>\n",
              "      <td>15.568090</td>\n",
              "      <td>76.010050</td>\n",
              "      <td>1.572864</td>\n",
              "    </tr>\n",
              "    <tr>\n",
              "      <th>std</th>\n",
              "      <td>7.815984</td>\n",
              "      <td>1.701004</td>\n",
              "      <td>104.269838</td>\n",
              "      <td>38.222625</td>\n",
              "      <td>846.841774</td>\n",
              "      <td>2.757689</td>\n",
              "      <td>3.697627</td>\n",
              "      <td>0.802055</td>\n",
              "    </tr>\n",
              "    <tr>\n",
              "      <th>min</th>\n",
              "      <td>9.000000</td>\n",
              "      <td>3.000000</td>\n",
              "      <td>68.000000</td>\n",
              "      <td>46.000000</td>\n",
              "      <td>1613.000000</td>\n",
              "      <td>8.000000</td>\n",
              "      <td>70.000000</td>\n",
              "      <td>1.000000</td>\n",
              "    </tr>\n",
              "    <tr>\n",
              "      <th>25%</th>\n",
              "      <td>17.500000</td>\n",
              "      <td>4.000000</td>\n",
              "      <td>104.250000</td>\n",
              "      <td>76.000000</td>\n",
              "      <td>2223.750000</td>\n",
              "      <td>13.825000</td>\n",
              "      <td>73.000000</td>\n",
              "      <td>1.000000</td>\n",
              "    </tr>\n",
              "    <tr>\n",
              "      <th>50%</th>\n",
              "      <td>23.000000</td>\n",
              "      <td>4.000000</td>\n",
              "      <td>148.500000</td>\n",
              "      <td>93.500000</td>\n",
              "      <td>2803.500000</td>\n",
              "      <td>15.500000</td>\n",
              "      <td>76.000000</td>\n",
              "      <td>1.000000</td>\n",
              "    </tr>\n",
              "    <tr>\n",
              "      <th>75%</th>\n",
              "      <td>29.000000</td>\n",
              "      <td>8.000000</td>\n",
              "      <td>262.000000</td>\n",
              "      <td>125.000000</td>\n",
              "      <td>3608.000000</td>\n",
              "      <td>17.175000</td>\n",
              "      <td>79.000000</td>\n",
              "      <td>2.000000</td>\n",
              "    </tr>\n",
              "    <tr>\n",
              "      <th>max</th>\n",
              "      <td>46.600000</td>\n",
              "      <td>8.000000</td>\n",
              "      <td>455.000000</td>\n",
              "      <td>230.000000</td>\n",
              "      <td>5140.000000</td>\n",
              "      <td>24.800000</td>\n",
              "      <td>82.000000</td>\n",
              "      <td>3.000000</td>\n",
              "    </tr>\n",
              "  </tbody>\n",
              "</table>\n",
              "</div>\n",
              "      <button class=\"colab-df-convert\" onclick=\"convertToInteractive('df-b9a77659-2850-4721-8c4f-5f832887a424')\"\n",
              "              title=\"Convert this dataframe to an interactive table.\"\n",
              "              style=\"display:none;\">\n",
              "        \n",
              "  <svg xmlns=\"http://www.w3.org/2000/svg\" height=\"24px\"viewBox=\"0 0 24 24\"\n",
              "       width=\"24px\">\n",
              "    <path d=\"M0 0h24v24H0V0z\" fill=\"none\"/>\n",
              "    <path d=\"M18.56 5.44l.94 2.06.94-2.06 2.06-.94-2.06-.94-.94-2.06-.94 2.06-2.06.94zm-11 1L8.5 8.5l.94-2.06 2.06-.94-2.06-.94L8.5 2.5l-.94 2.06-2.06.94zm10 10l.94 2.06.94-2.06 2.06-.94-2.06-.94-.94-2.06-.94 2.06-2.06.94z\"/><path d=\"M17.41 7.96l-1.37-1.37c-.4-.4-.92-.59-1.43-.59-.52 0-1.04.2-1.43.59L10.3 9.45l-7.72 7.72c-.78.78-.78 2.05 0 2.83L4 21.41c.39.39.9.59 1.41.59.51 0 1.02-.2 1.41-.59l7.78-7.78 2.81-2.81c.8-.78.8-2.07 0-2.86zM5.41 20L4 18.59l7.72-7.72 1.47 1.35L5.41 20z\"/>\n",
              "  </svg>\n",
              "      </button>\n",
              "      \n",
              "  <style>\n",
              "    .colab-df-container {\n",
              "      display:flex;\n",
              "      flex-wrap:wrap;\n",
              "      gap: 12px;\n",
              "    }\n",
              "\n",
              "    .colab-df-convert {\n",
              "      background-color: #E8F0FE;\n",
              "      border: none;\n",
              "      border-radius: 50%;\n",
              "      cursor: pointer;\n",
              "      display: none;\n",
              "      fill: #1967D2;\n",
              "      height: 32px;\n",
              "      padding: 0 0 0 0;\n",
              "      width: 32px;\n",
              "    }\n",
              "\n",
              "    .colab-df-convert:hover {\n",
              "      background-color: #E2EBFA;\n",
              "      box-shadow: 0px 1px 2px rgba(60, 64, 67, 0.3), 0px 1px 3px 1px rgba(60, 64, 67, 0.15);\n",
              "      fill: #174EA6;\n",
              "    }\n",
              "\n",
              "    [theme=dark] .colab-df-convert {\n",
              "      background-color: #3B4455;\n",
              "      fill: #D2E3FC;\n",
              "    }\n",
              "\n",
              "    [theme=dark] .colab-df-convert:hover {\n",
              "      background-color: #434B5C;\n",
              "      box-shadow: 0px 1px 3px 1px rgba(0, 0, 0, 0.15);\n",
              "      filter: drop-shadow(0px 1px 2px rgba(0, 0, 0, 0.3));\n",
              "      fill: #FFFFFF;\n",
              "    }\n",
              "  </style>\n",
              "\n",
              "      <script>\n",
              "        const buttonEl =\n",
              "          document.querySelector('#df-b9a77659-2850-4721-8c4f-5f832887a424 button.colab-df-convert');\n",
              "        buttonEl.style.display =\n",
              "          google.colab.kernel.accessAllowed ? 'block' : 'none';\n",
              "\n",
              "        async function convertToInteractive(key) {\n",
              "          const element = document.querySelector('#df-b9a77659-2850-4721-8c4f-5f832887a424');\n",
              "          const dataTable =\n",
              "            await google.colab.kernel.invokeFunction('convertToInteractive',\n",
              "                                                     [key], {});\n",
              "          if (!dataTable) return;\n",
              "\n",
              "          const docLinkHtml = 'Like what you see? Visit the ' +\n",
              "            '<a target=\"_blank\" href=https://colab.research.google.com/notebooks/data_table.ipynb>data table notebook</a>'\n",
              "            + ' to learn more about interactive tables.';\n",
              "          element.innerHTML = '';\n",
              "          dataTable['output_type'] = 'display_data';\n",
              "          await google.colab.output.renderOutput(dataTable, element);\n",
              "          const docLink = document.createElement('div');\n",
              "          docLink.innerHTML = docLinkHtml;\n",
              "          element.appendChild(docLink);\n",
              "        }\n",
              "      </script>\n",
              "    </div>\n",
              "  </div>\n",
              "  "
            ]
          },
          "metadata": {},
          "execution_count": 23
        }
      ]
    },
    {
      "cell_type": "markdown",
      "source": [
        "\n",
        "## Correlation Matrix"
      ],
      "metadata": {
        "id": "t1YtsCBGqujB"
      }
    },
    {
      "cell_type": "code",
      "source": [
        "correlation_data = auto_data.corr()\n",
        "plt.subplots(figsize=(10,8))\n",
        "sns.heatmap(correlation_data, annot=True)\n",
        "plt.show()"
      ],
      "metadata": {
        "colab": {
          "base_uri": "https://localhost:8080/",
          "height": 544
        },
        "outputId": "b31fb58d-0cb7-4989-cfff-632e8f44ba6d",
        "id": "kTlh_DoJqujB"
      },
      "execution_count": null,
      "outputs": [
        {
          "output_type": "display_data",
          "data": {
            "text/plain": [
              "<Figure size 720x576 with 2 Axes>"
            ],
            "image/png": "[encoded data removed]"
          },
          "metadata": {
            "needs_background": "light"
          }
        }
      ]
    },
    {
      "cell_type": "code",
      "source": [
        "correlation_values = correlation_data['mpg'].sort_values(ascending=False)\n",
        "correlation_values = abs(correlation_values).sort_values(ascending=False)\n",
        "print(\"Correlation of Features wrt MPG\")\n",
        "print(abs(correlation_values).sort_values(ascending=False))"
      ],
      "metadata": {
        "colab": {
          "base_uri": "https://localhost:8080/"
        },
        "outputId": "50e88e2f-9441-4df7-c202-7f1860ffd6ad",
        "id": "rmI4PZMQqujC"
      },
      "execution_count": null,
      "outputs": [
        {
          "output_type": "stream",
          "name": "stdout",
          "text": [
            "Correlation of Features wrt MPG\n",
            "mpg             1.000000\n",
            "weight          0.831741\n",
            "displacement    0.804203\n",
            "cylinders       0.775396\n",
            "horsepower      0.773453\n",
            "model_year      0.579267\n",
            "origin          0.563450\n",
            "acceleration    0.420289\n",
            "Name: mpg, dtype: float64\n"
          ]
        }
      ]
    },
    {
      "cell_type": "code",
      "source": [
        "auto_data['mpg_level'] = auto_data['mpg'].apply(lambda x: 'low' if x<17 else 'high' if x>29 else 'medium')\n",
        "categorical_features.append('mpg_level')\n",
        "print(f'categorical variables:  {categorical_features}')"
      ],
      "metadata": {
        "colab": {
          "base_uri": "https://localhost:8080/"
        },
        "id": "pgq5bTE_66yS",
        "outputId": "4f472a58-5d96-447b-9bb0-9d56fa64a1ec"
      },
      "execution_count": null,
      "outputs": [
        {
          "output_type": "stream",
          "name": "stdout",
          "text": [
            "categorical variables:  ['car name', 'cylinders', 'model_year', 'mpg_level']\n"
          ]
        }
      ]
    },
    {
      "cell_type": "markdown",
      "source": [
        "# Hypothesis Testing"
      ],
      "metadata": {
        "id": "T44_TrX4Y9JH"
      }
    },
    {
      "cell_type": "code",
      "source": [
        "alpha = 0.05"
      ],
      "metadata": {
        "id": "QTTWqgeKbN_m"
      },
      "execution_count": null,
      "outputs": []
    },
    {
      "cell_type": "markdown",
      "source": [
        "## Tests for independence between two categorical variables\n",
        "\n"
      ],
      "metadata": {
        "id": "VCRPs9Xq7Ojd"
      }
    },
    {
      "cell_type": "markdown",
      "source": [
        "### Pearson's Chi-square test\n",
        "The Chi-square statistic is a **non-parametric statistic** tool designed to analyze group differences when the dependent variable is measured at a nominal level(ordinal data can also be used). It is commonly used to compare observed data with data we would expect to obtain according to a specific hypothesis.\n",
        "\n",
        "$$\\large \\chi ^{2} = \\sum \\frac{(O-E)^{2}}{E}$$\n",
        "\n",
        "Where,<br>\n",
        "&emsp;&emsp;O : Observed (the actual count of cases in each cell of the table)<br>\n",
        "&emsp;&emsp;E : Expected value (calculated below)<br>\n",
        "&emsp;&emsp;$\\chi ^{2}$ : The cell Chi-square value\n",
        "\n",
        "**Assumptions**<br>\n",
        "&emsp;&emsp;&emsp;**1.** The test becomes invalid if any of the expected values are below 5<br>\n",
        "&emsp;&emsp;&emsp;**2.** The p value calculated is not exact but approximate and converges to exact on increasing data(so not good for small sample size)<br>\n",
        "&emsp;&emsp;&emsp;**3.** The number of observations must be 20+<br>\n",
        "\n",
        "So, if the expected cell counts are small, it is better to use an exact test as the chi-squared test is no longer a good approximation in such cases. To overcome this we will be using fisher exact test."
      ],
      "metadata": {
        "id": "82joid1R97hE"
      }
    },
    {
      "cell_type": "code",
      "source": [
        "# Contingency Table (aka frequency table)\n",
        "pd.crosstab(auto_data.origin, auto_data.model_year)"
      ],
      "metadata": {
        "colab": {
          "base_uri": "https://localhost:8080/",
          "height": 174
        },
        "id": "mJ99FFgN7Vv9",
        "outputId": "3ea0c5d9-ec30-4ac9-dc4e-9d2b1cdcfcb1"
      },
      "execution_count": null,
      "outputs": [
        {
          "output_type": "execute_result",
          "data": {
            "text/plain": [
              "model_year  70  71  72  73  74  75  76  77  78  79  80  81  82\n",
              "origin                                                        \n",
              "1           22  20  18  29  15  20  22  18  22  23   7  13  20\n",
              "2            5   4   5   7   6   6   8   4   6   4   9   4   2\n",
              "3            2   4   5   4   6   4   4   6   8   2  13  12   9"
            ],
            "text/html": [
              "\n",
              "  <div id=\"df-b2ecf155-339a-4372-8bbe-8e183f13a556\">\n",
              "    <div class=\"colab-df-container\">\n",
              "      <div>\n",
              "<style scoped>\n",
              "    .dataframe tbody tr th:only-of-type {\n",
              "        vertical-align: middle;\n",
              "    }\n",
              "\n",
              "    .dataframe tbody tr th {\n",
              "        vertical-align: top;\n",
              "    }\n",
              "\n",
              "    .dataframe thead th {\n",
              "        text-align: right;\n",
              "    }\n",
              "</style>\n",
              "<table border=\"1\" class=\"dataframe\">\n",
              "  <thead>\n",
              "    <tr style=\"text-align: right;\">\n",
              "      <th>model_year</th>\n",
              "      <th>70</th>\n",
              "      <th>71</th>\n",
              "      <th>72</th>\n",
              "      <th>73</th>\n",
              "      <th>74</th>\n",
              "      <th>75</th>\n",
              "      <th>76</th>\n",
              "      <th>77</th>\n",
              "      <th>78</th>\n",
              "      <th>79</th>\n",
              "      <th>80</th>\n",
              "      <th>81</th>\n",
              "      <th>82</th>\n",
              "    </tr>\n",
              "    <tr>\n",
              "      <th>origin</th>\n",
              "      <th></th>\n",
              "      <th></th>\n",
              "      <th></th>\n",
              "      <th></th>\n",
              "      <th></th>\n",
              "      <th></th>\n",
              "      <th></th>\n",
              "      <th></th>\n",
              "      <th></th>\n",
              "      <th></th>\n",
              "      <th></th>\n",
              "      <th></th>\n",
              "      <th></th>\n",
              "    </tr>\n",
              "  </thead>\n",
              "  <tbody>\n",
              "    <tr>\n",
              "      <th>1</th>\n",
              "      <td>22</td>\n",
              "      <td>20</td>\n",
              "      <td>18</td>\n",
              "      <td>29</td>\n",
              "      <td>15</td>\n",
              "      <td>20</td>\n",
              "      <td>22</td>\n",
              "      <td>18</td>\n",
              "      <td>22</td>\n",
              "      <td>23</td>\n",
              "      <td>7</td>\n",
              "      <td>13</td>\n",
              "      <td>20</td>\n",
              "    </tr>\n",
              "    <tr>\n",
              "      <th>2</th>\n",
              "      <td>5</td>\n",
              "      <td>4</td>\n",
              "      <td>5</td>\n",
              "      <td>7</td>\n",
              "      <td>6</td>\n",
              "      <td>6</td>\n",
              "      <td>8</td>\n",
              "      <td>4</td>\n",
              "      <td>6</td>\n",
              "      <td>4</td>\n",
              "      <td>9</td>\n",
              "      <td>4</td>\n",
              "      <td>2</td>\n",
              "    </tr>\n",
              "    <tr>\n",
              "      <th>3</th>\n",
              "      <td>2</td>\n",
              "      <td>4</td>\n",
              "      <td>5</td>\n",
              "      <td>4</td>\n",
              "      <td>6</td>\n",
              "      <td>4</td>\n",
              "      <td>4</td>\n",
              "      <td>6</td>\n",
              "      <td>8</td>\n",
              "      <td>2</td>\n",
              "      <td>13</td>\n",
              "      <td>12</td>\n",
              "      <td>9</td>\n",
              "    </tr>\n",
              "  </tbody>\n",
              "</table>\n",
              "</div>\n",
              "      <button class=\"colab-df-convert\" onclick=\"convertToInteractive('df-b2ecf155-339a-4372-8bbe-8e183f13a556')\"\n",
              "              title=\"Convert this dataframe to an interactive table.\"\n",
              "              style=\"display:none;\">\n",
              "        \n",
              "  <svg xmlns=\"http://www.w3.org/2000/svg\" height=\"24px\"viewBox=\"0 0 24 24\"\n",
              "       width=\"24px\">\n",
              "    <path d=\"M0 0h24v24H0V0z\" fill=\"none\"/>\n",
              "    <path d=\"M18.56 5.44l.94 2.06.94-2.06 2.06-.94-2.06-.94-.94-2.06-.94 2.06-2.06.94zm-11 1L8.5 8.5l.94-2.06 2.06-.94-2.06-.94L8.5 2.5l-.94 2.06-2.06.94zm10 10l.94 2.06.94-2.06 2.06-.94-2.06-.94-.94-2.06-.94 2.06-2.06.94z\"/><path d=\"M17.41 7.96l-1.37-1.37c-.4-.4-.92-.59-1.43-.59-.52 0-1.04.2-1.43.59L10.3 9.45l-7.72 7.72c-.78.78-.78 2.05 0 2.83L4 21.41c.39.39.9.59 1.41.59.51 0 1.02-.2 1.41-.59l7.78-7.78 2.81-2.81c.8-.78.8-2.07 0-2.86zM5.41 20L4 18.59l7.72-7.72 1.47 1.35L5.41 20z\"/>\n",
              "  </svg>\n",
              "      </button>\n",
              "      \n",
              "  <style>\n",
              "    .colab-df-container {\n",
              "      display:flex;\n",
              "      flex-wrap:wrap;\n",
              "      gap: 12px;\n",
              "    }\n",
              "\n",
              "    .colab-df-convert {\n",
              "      background-color: #E8F0FE;\n",
              "      border: none;\n",
              "      border-radius: 50%;\n",
              "      cursor: pointer;\n",
              "      display: none;\n",
              "      fill: #1967D2;\n",
              "      height: 32px;\n",
              "      padding: 0 0 0 0;\n",
              "      width: 32px;\n",
              "    }\n",
              "\n",
              "    .colab-df-convert:hover {\n",
              "      background-color: #E2EBFA;\n",
              "      box-shadow: 0px 1px 2px rgba(60, 64, 67, 0.3), 0px 1px 3px 1px rgba(60, 64, 67, 0.15);\n",
              "      fill: #174EA6;\n",
              "    }\n",
              "\n",
              "    [theme=dark] .colab-df-convert {\n",
              "      background-color: #3B4455;\n",
              "      fill: #D2E3FC;\n",
              "    }\n",
              "\n",
              "    [theme=dark] .colab-df-convert:hover {\n",
              "      background-color: #434B5C;\n",
              "      box-shadow: 0px 1px 3px 1px rgba(0, 0, 0, 0.15);\n",
              "      filter: drop-shadow(0px 1px 2px rgba(0, 0, 0, 0.3));\n",
              "      fill: #FFFFFF;\n",
              "    }\n",
              "  </style>\n",
              "\n",
              "      <script>\n",
              "        const buttonEl =\n",
              "          document.querySelector('#df-b2ecf155-339a-4372-8bbe-8e183f13a556 button.colab-df-convert');\n",
              "        buttonEl.style.display =\n",
              "          google.colab.kernel.accessAllowed ? 'block' : 'none';\n",
              "\n",
              "        async function convertToInteractive(key) {\n",
              "          const element = document.querySelector('#df-b2ecf155-339a-4372-8bbe-8e183f13a556');\n",
              "          const dataTable =\n",
              "            await google.colab.kernel.invokeFunction('convertToInteractive',\n",
              "                                                     [key], {});\n",
              "          if (!dataTable) return;\n",
              "\n",
              "          const docLinkHtml = 'Like what you see? Visit the ' +\n",
              "            '<a target=\"_blank\" href=https://colab.research.google.com/notebooks/data_table.ipynb>data table notebook</a>'\n",
              "            + ' to learn more about interactive tables.';\n",
              "          element.innerHTML = '';\n",
              "          dataTable['output_type'] = 'display_data';\n",
              "          await google.colab.output.renderOutput(dataTable, element);\n",
              "          const docLink = document.createElement('div');\n",
              "          docLink.innerHTML = docLinkHtml;\n",
              "          element.appendChild(docLink);\n",
              "        }\n",
              "      </script>\n",
              "    </div>\n",
              "  </div>\n",
              "  "
            ]
          },
          "metadata": {},
          "execution_count": 28
        }
      ]
    },
    {
      "cell_type": "markdown",
      "source": [
        "So chi2 assumption failed for every pair but it's not that it cannot be aplied.\n",
        "\n",
        "The contingency table of origin and model_year is still good to try as most values are >= 5.<br>\n",
        "\n",
        "&emsp;&emsp;&emsp;$H_{0}$: origin and model_year are independent. &emsp;&emsp;&emsp;&emsp;&emsp;&emsp; $\\alpha=0.05$"
      ],
      "metadata": {
        "id": "Y9bBW70-7zz2"
      }
    },
    {
      "cell_type": "code",
      "source": [
        "observed_values = pd.crosstab(auto_data.origin, auto_data.mpg_level).values\n",
        "observed_values"
      ],
      "metadata": {
        "colab": {
          "base_uri": "https://localhost:8080/"
        },
        "id": "CJTE05y77Vsp",
        "outputId": "cff42ff4-bb82-422b-8d12-271eb2610952"
      },
      "execution_count": null,
      "outputs": [
        {
          "output_type": "execute_result",
          "data": {
            "text/plain": [
              "array([[ 24,  90, 135],\n",
              "       [ 24,   2,  44],\n",
              "       [ 49,   0,  30]])"
            ]
          },
          "metadata": {},
          "execution_count": 29
        }
      ]
    },
    {
      "cell_type": "code",
      "source": [
        "chi2, p, dof, expected_values = stats.chi2_contingency(observed_values)\n",
        "chi2, p, dof, expected_values"
      ],
      "metadata": {
        "colab": {
          "base_uri": "https://localhost:8080/"
        },
        "id": "NnJljz6-7VpF",
        "outputId": "732a16df-1cc5-402b-a739-7e246927e6c2"
      },
      "execution_count": null,
      "outputs": [
        {
          "output_type": "execute_result",
          "data": {
            "text/plain": [
              "(124.67602279448344,\n",
              " 5.353157991435908e-26,\n",
              " 4,\n",
              " array([[ 60.68592965,  57.55778894, 130.75628141],\n",
              "        [ 17.06030151,  16.18090452,  36.75879397],\n",
              "        [ 19.25376884,  18.26130653,  41.48492462]]))"
            ]
          },
          "metadata": {},
          "execution_count": 30
        }
      ]
    },
    {
      "cell_type": "code",
      "source": [
        "if p <= alpha:\n",
        "    print(f'Rejected H0 under significance level {alpha} origin and model_year are dependent.')\n",
        "else:\n",
        "    print(f'Fail to reject H0 due to lack of evidence under significance level {alpha} origin and model_year are independent.')"
      ],
      "metadata": {
        "colab": {
          "base_uri": "https://localhost:8080/"
        },
        "id": "6Am-lvX67Vmr",
        "outputId": "f2849701-1803-4ee7-e034-29655b04a6ff"
      },
      "execution_count": null,
      "outputs": [
        {
          "output_type": "stream",
          "name": "stdout",
          "text": [
            "Rejected H0 under significance level 0.05 origin and model_year are dependent.\n"
          ]
        }
      ]
    },
    {
      "cell_type": "markdown",
      "source": [
        "Testing dependency of all categorical attributes with mpg_level"
      ],
      "metadata": {
        "id": "gN1wtSBm8qCA"
      }
    },
    {
      "cell_type": "code",
      "source": [
        "auto_data_categorical_label =  pd.concat([auto_data.loc[:, ['origin', 'mpg_level']].apply(lambda x: LabelEncoder().fit_transform(x)),\n",
        "                           auto_data.loc[: , 'cylinders': 'model_year']], axis=1)\n",
        "\n",
        "auto_data_categorical_label.head()"
      ],
      "metadata": {
        "colab": {
          "base_uri": "https://localhost:8080/",
          "height": 206
        },
        "id": "5SvFDNdA7Vjk",
        "outputId": "0c7f6b8e-341e-48ae-9c0f-4f5cb90f6b53"
      },
      "execution_count": null,
      "outputs": [
        {
          "output_type": "execute_result",
          "data": {
            "text/plain": [
              "   origin  mpg_level  cylinders  displacement  horsepower  weight  \\\n",
              "0       0          2          8         307.0       130.0    3504   \n",
              "1       0          1          8         350.0       165.0    3693   \n",
              "2       0          2          8         318.0       150.0    3436   \n",
              "3       0          1          8         304.0       150.0    3433   \n",
              "4       0          2          8         302.0       140.0    3449   \n",
              "\n",
              "   acceleration  model_year  \n",
              "0          12.0          70  \n",
              "1          11.5          70  \n",
              "2          11.0          70  \n",
              "3          12.0          70  \n",
              "4          10.5          70  "
            ],
            "text/html": [
              "\n",
              "  <div id=\"df-2dc12658-c2d7-4b56-af91-586cbff4c106\">\n",
              "    <div class=\"colab-df-container\">\n",
              "      <div>\n",
              "<style scoped>\n",
              "    .dataframe tbody tr th:only-of-type {\n",
              "        vertical-align: middle;\n",
              "    }\n",
              "\n",
              "    .dataframe tbody tr th {\n",
              "        vertical-align: top;\n",
              "    }\n",
              "\n",
              "    .dataframe thead th {\n",
              "        text-align: right;\n",
              "    }\n",
              "</style>\n",
              "<table border=\"1\" class=\"dataframe\">\n",
              "  <thead>\n",
              "    <tr style=\"text-align: right;\">\n",
              "      <th></th>\n",
              "      <th>origin</th>\n",
              "      <th>mpg_level</th>\n",
              "      <th>cylinders</th>\n",
              "      <th>displacement</th>\n",
              "      <th>horsepower</th>\n",
              "      <th>weight</th>\n",
              "      <th>acceleration</th>\n",
              "      <th>model_year</th>\n",
              "    </tr>\n",
              "  </thead>\n",
              "  <tbody>\n",
              "    <tr>\n",
              "      <th>0</th>\n",
              "      <td>0</td>\n",
              "      <td>2</td>\n",
              "      <td>8</td>\n",
              "      <td>307.0</td>\n",
              "      <td>130.0</td>\n",
              "      <td>3504</td>\n",
              "      <td>12.0</td>\n",
              "      <td>70</td>\n",
              "    </tr>\n",
              "    <tr>\n",
              "      <th>1</th>\n",
              "      <td>0</td>\n",
              "      <td>1</td>\n",
              "      <td>8</td>\n",
              "      <td>350.0</td>\n",
              "      <td>165.0</td>\n",
              "      <td>3693</td>\n",
              "      <td>11.5</td>\n",
              "      <td>70</td>\n",
              "    </tr>\n",
              "    <tr>\n",
              "      <th>2</th>\n",
              "      <td>0</td>\n",
              "      <td>2</td>\n",
              "      <td>8</td>\n",
              "      <td>318.0</td>\n",
              "      <td>150.0</td>\n",
              "      <td>3436</td>\n",
              "      <td>11.0</td>\n",
              "      <td>70</td>\n",
              "    </tr>\n",
              "    <tr>\n",
              "      <th>3</th>\n",
              "      <td>0</td>\n",
              "      <td>1</td>\n",
              "      <td>8</td>\n",
              "      <td>304.0</td>\n",
              "      <td>150.0</td>\n",
              "      <td>3433</td>\n",
              "      <td>12.0</td>\n",
              "      <td>70</td>\n",
              "    </tr>\n",
              "    <tr>\n",
              "      <th>4</th>\n",
              "      <td>0</td>\n",
              "      <td>2</td>\n",
              "      <td>8</td>\n",
              "      <td>302.0</td>\n",
              "      <td>140.0</td>\n",
              "      <td>3449</td>\n",
              "      <td>10.5</td>\n",
              "      <td>70</td>\n",
              "    </tr>\n",
              "  </tbody>\n",
              "</table>\n",
              "</div>\n",
              "      <button class=\"colab-df-convert\" onclick=\"convertToInteractive('df-2dc12658-c2d7-4b56-af91-586cbff4c106')\"\n",
              "              title=\"Convert this dataframe to an interactive table.\"\n",
              "              style=\"display:none;\">\n",
              "        \n",
              "  <svg xmlns=\"http://www.w3.org/2000/svg\" height=\"24px\"viewBox=\"0 0 24 24\"\n",
              "       width=\"24px\">\n",
              "    <path d=\"M0 0h24v24H0V0z\" fill=\"none\"/>\n",
              "    <path d=\"M18.56 5.44l.94 2.06.94-2.06 2.06-.94-2.06-.94-.94-2.06-.94 2.06-2.06.94zm-11 1L8.5 8.5l.94-2.06 2.06-.94-2.06-.94L8.5 2.5l-.94 2.06-2.06.94zm10 10l.94 2.06.94-2.06 2.06-.94-2.06-.94-.94-2.06-.94 2.06-2.06.94z\"/><path d=\"M17.41 7.96l-1.37-1.37c-.4-.4-.92-.59-1.43-.59-.52 0-1.04.2-1.43.59L10.3 9.45l-7.72 7.72c-.78.78-.78 2.05 0 2.83L4 21.41c.39.39.9.59 1.41.59.51 0 1.02-.2 1.41-.59l7.78-7.78 2.81-2.81c.8-.78.8-2.07 0-2.86zM5.41 20L4 18.59l7.72-7.72 1.47 1.35L5.41 20z\"/>\n",
              "  </svg>\n",
              "      </button>\n",
              "      \n",
              "  <style>\n",
              "    .colab-df-container {\n",
              "      display:flex;\n",
              "      flex-wrap:wrap;\n",
              "      gap: 12px;\n",
              "    }\n",
              "\n",
              "    .colab-df-convert {\n",
              "      background-color: #E8F0FE;\n",
              "      border: none;\n",
              "      border-radius: 50%;\n",
              "      cursor: pointer;\n",
              "      display: none;\n",
              "      fill: #1967D2;\n",
              "      height: 32px;\n",
              "      padding: 0 0 0 0;\n",
              "      width: 32px;\n",
              "    }\n",
              "\n",
              "    .colab-df-convert:hover {\n",
              "      background-color: #E2EBFA;\n",
              "      box-shadow: 0px 1px 2px rgba(60, 64, 67, 0.3), 0px 1px 3px 1px rgba(60, 64, 67, 0.15);\n",
              "      fill: #174EA6;\n",
              "    }\n",
              "\n",
              "    [theme=dark] .colab-df-convert {\n",
              "      background-color: #3B4455;\n",
              "      fill: #D2E3FC;\n",
              "    }\n",
              "\n",
              "    [theme=dark] .colab-df-convert:hover {\n",
              "      background-color: #434B5C;\n",
              "      box-shadow: 0px 1px 3px 1px rgba(0, 0, 0, 0.15);\n",
              "      filter: drop-shadow(0px 1px 2px rgba(0, 0, 0, 0.3));\n",
              "      fill: #FFFFFF;\n",
              "    }\n",
              "  </style>\n",
              "\n",
              "      <script>\n",
              "        const buttonEl =\n",
              "          document.querySelector('#df-2dc12658-c2d7-4b56-af91-586cbff4c106 button.colab-df-convert');\n",
              "        buttonEl.style.display =\n",
              "          google.colab.kernel.accessAllowed ? 'block' : 'none';\n",
              "\n",
              "        async function convertToInteractive(key) {\n",
              "          const element = document.querySelector('#df-2dc12658-c2d7-4b56-af91-586cbff4c106');\n",
              "          const dataTable =\n",
              "            await google.colab.kernel.invokeFunction('convertToInteractive',\n",
              "                                                     [key], {});\n",
              "          if (!dataTable) return;\n",
              "\n",
              "          const docLinkHtml = 'Like what you see? Visit the ' +\n",
              "            '<a target=\"_blank\" href=https://colab.research.google.com/notebooks/data_table.ipynb>data table notebook</a>'\n",
              "            + ' to learn more about interactive tables.';\n",
              "          element.innerHTML = '';\n",
              "          dataTable['output_type'] = 'display_data';\n",
              "          await google.colab.output.renderOutput(dataTable, element);\n",
              "          const docLink = document.createElement('div');\n",
              "          docLink.innerHTML = docLinkHtml;\n",
              "          element.appendChild(docLink);\n",
              "        }\n",
              "      </script>\n",
              "    </div>\n",
              "  </div>\n",
              "  "
            ]
          },
          "metadata": {},
          "execution_count": 32
        }
      ]
    },
    {
      "cell_type": "code",
      "source": [
        "chi2_res = feature_selection.chi2(auto_data_categorical_label, auto_data.mpg_level)\n",
        "df_chi2 = pd.DataFrame({\n",
        "    'attr1': 'mpg_level',\n",
        "    'attr2': auto_data_categorical_label.columns,\n",
        "    'chi2': chi2_res[0],\n",
        "    'p': chi2_res[1],\n",
        "    'alpha': alpha\n",
        "})\n",
        "df_chi2['H0'] = df_chi2.p.apply(lambda x: 'rejected' if x <= alpha else 'fail to reject')\n",
        "df_chi2['relation'] = df_chi2.H0.apply(lambda x: 'dependent' if x=='rejected' else 'independent')\n",
        "df_chi2"
      ],
      "metadata": {
        "colab": {
          "base_uri": "https://localhost:8080/",
          "height": 300
        },
        "id": "QQ7QAkpK7VOQ",
        "outputId": "2a38d5d3-6edb-4230-f13b-997719a57d4d"
      },
      "execution_count": null,
      "outputs": [
        {
          "output_type": "execute_result",
          "data": {
            "text/plain": [
              "       attr1         attr2          chi2             p  alpha        H0  \\\n",
              "0  mpg_level        origin    130.266287  5.164582e-29   0.05  rejected   \n",
              "1  mpg_level     mpg_level    214.203922  3.063440e-47   0.05  rejected   \n",
              "2  mpg_level     cylinders    129.030964  9.578163e-29   0.05  rejected   \n",
              "3  mpg_level  displacement  15225.127486  0.000000e+00   0.05  rejected   \n",
              "4  mpg_level    horsepower   3721.271925  0.000000e+00   0.05  rejected   \n",
              "5  mpg_level        weight  66257.958068  0.000000e+00   0.05  rejected   \n",
              "6  mpg_level  acceleration     43.302779  3.952948e-10   0.05  rejected   \n",
              "7  mpg_level    model_year     22.195790  1.514417e-05   0.05  rejected   \n",
              "\n",
              "    relation  \n",
              "0  dependent  \n",
              "1  dependent  \n",
              "2  dependent  \n",
              "3  dependent  \n",
              "4  dependent  \n",
              "5  dependent  \n",
              "6  dependent  \n",
              "7  dependent  "
            ],
            "text/html": [
              "\n",
              "  <div id=\"df-74fbb166-da13-449c-bacc-ad6383f2c075\">\n",
              "    <div class=\"colab-df-container\">\n",
              "      <div>\n",
              "<style scoped>\n",
              "    .dataframe tbody tr th:only-of-type {\n",
              "        vertical-align: middle;\n",
              "    }\n",
              "\n",
              "    .dataframe tbody tr th {\n",
              "        vertical-align: top;\n",
              "    }\n",
              "\n",
              "    .dataframe thead th {\n",
              "        text-align: right;\n",
              "    }\n",
              "</style>\n",
              "<table border=\"1\" class=\"dataframe\">\n",
              "  <thead>\n",
              "    <tr style=\"text-align: right;\">\n",
              "      <th></th>\n",
              "      <th>attr1</th>\n",
              "      <th>attr2</th>\n",
              "      <th>chi2</th>\n",
              "      <th>p</th>\n",
              "      <th>alpha</th>\n",
              "      <th>H0</th>\n",
              "      <th>relation</th>\n",
              "    </tr>\n",
              "  </thead>\n",
              "  <tbody>\n",
              "    <tr>\n",
              "      <th>0</th>\n",
              "      <td>mpg_level</td>\n",
              "      <td>origin</td>\n",
              "      <td>130.266287</td>\n",
              "      <td>5.164582e-29</td>\n",
              "      <td>0.05</td>\n",
              "      <td>rejected</td>\n",
              "      <td>dependent</td>\n",
              "    </tr>\n",
              "    <tr>\n",
              "      <th>1</th>\n",
              "      <td>mpg_level</td>\n",
              "      <td>mpg_level</td>\n",
              "      <td>214.203922</td>\n",
              "      <td>3.063440e-47</td>\n",
              "      <td>0.05</td>\n",
              "      <td>rejected</td>\n",
              "      <td>dependent</td>\n",
              "    </tr>\n",
              "    <tr>\n",
              "      <th>2</th>\n",
              "      <td>mpg_level</td>\n",
              "      <td>cylinders</td>\n",
              "      <td>129.030964</td>\n",
              "      <td>9.578163e-29</td>\n",
              "      <td>0.05</td>\n",
              "      <td>rejected</td>\n",
              "      <td>dependent</td>\n",
              "    </tr>\n",
              "    <tr>\n",
              "      <th>3</th>\n",
              "      <td>mpg_level</td>\n",
              "      <td>displacement</td>\n",
              "      <td>15225.127486</td>\n",
              "      <td>0.000000e+00</td>\n",
              "      <td>0.05</td>\n",
              "      <td>rejected</td>\n",
              "      <td>dependent</td>\n",
              "    </tr>\n",
              "    <tr>\n",
              "      <th>4</th>\n",
              "      <td>mpg_level</td>\n",
              "      <td>horsepower</td>\n",
              "      <td>3721.271925</td>\n",
              "      <td>0.000000e+00</td>\n",
              "      <td>0.05</td>\n",
              "      <td>rejected</td>\n",
              "      <td>dependent</td>\n",
              "    </tr>\n",
              "    <tr>\n",
              "      <th>5</th>\n",
              "      <td>mpg_level</td>\n",
              "      <td>weight</td>\n",
              "      <td>66257.958068</td>\n",
              "      <td>0.000000e+00</td>\n",
              "      <td>0.05</td>\n",
              "      <td>rejected</td>\n",
              "      <td>dependent</td>\n",
              "    </tr>\n",
              "    <tr>\n",
              "      <th>6</th>\n",
              "      <td>mpg_level</td>\n",
              "      <td>acceleration</td>\n",
              "      <td>43.302779</td>\n",
              "      <td>3.952948e-10</td>\n",
              "      <td>0.05</td>\n",
              "      <td>rejected</td>\n",
              "      <td>dependent</td>\n",
              "    </tr>\n",
              "    <tr>\n",
              "      <th>7</th>\n",
              "      <td>mpg_level</td>\n",
              "      <td>model_year</td>\n",
              "      <td>22.195790</td>\n",
              "      <td>1.514417e-05</td>\n",
              "      <td>0.05</td>\n",
              "      <td>rejected</td>\n",
              "      <td>dependent</td>\n",
              "    </tr>\n",
              "  </tbody>\n",
              "</table>\n",
              "</div>\n",
              "      <button class=\"colab-df-convert\" onclick=\"convertToInteractive('df-74fbb166-da13-449c-bacc-ad6383f2c075')\"\n",
              "              title=\"Convert this dataframe to an interactive table.\"\n",
              "              style=\"display:none;\">\n",
              "        \n",
              "  <svg xmlns=\"http://www.w3.org/2000/svg\" height=\"24px\"viewBox=\"0 0 24 24\"\n",
              "       width=\"24px\">\n",
              "    <path d=\"M0 0h24v24H0V0z\" fill=\"none\"/>\n",
              "    <path d=\"M18.56 5.44l.94 2.06.94-2.06 2.06-.94-2.06-.94-.94-2.06-.94 2.06-2.06.94zm-11 1L8.5 8.5l.94-2.06 2.06-.94-2.06-.94L8.5 2.5l-.94 2.06-2.06.94zm10 10l.94 2.06.94-2.06 2.06-.94-2.06-.94-.94-2.06-.94 2.06-2.06.94z\"/><path d=\"M17.41 7.96l-1.37-1.37c-.4-.4-.92-.59-1.43-.59-.52 0-1.04.2-1.43.59L10.3 9.45l-7.72 7.72c-.78.78-.78 2.05 0 2.83L4 21.41c.39.39.9.59 1.41.59.51 0 1.02-.2 1.41-.59l7.78-7.78 2.81-2.81c.8-.78.8-2.07 0-2.86zM5.41 20L4 18.59l7.72-7.72 1.47 1.35L5.41 20z\"/>\n",
              "  </svg>\n",
              "      </button>\n",
              "      \n",
              "  <style>\n",
              "    .colab-df-container {\n",
              "      display:flex;\n",
              "      flex-wrap:wrap;\n",
              "      gap: 12px;\n",
              "    }\n",
              "\n",
              "    .colab-df-convert {\n",
              "      background-color: #E8F0FE;\n",
              "      border: none;\n",
              "      border-radius: 50%;\n",
              "      cursor: pointer;\n",
              "      display: none;\n",
              "      fill: #1967D2;\n",
              "      height: 32px;\n",
              "      padding: 0 0 0 0;\n",
              "      width: 32px;\n",
              "    }\n",
              "\n",
              "    .colab-df-convert:hover {\n",
              "      background-color: #E2EBFA;\n",
              "      box-shadow: 0px 1px 2px rgba(60, 64, 67, 0.3), 0px 1px 3px 1px rgba(60, 64, 67, 0.15);\n",
              "      fill: #174EA6;\n",
              "    }\n",
              "\n",
              "    [theme=dark] .colab-df-convert {\n",
              "      background-color: #3B4455;\n",
              "      fill: #D2E3FC;\n",
              "    }\n",
              "\n",
              "    [theme=dark] .colab-df-convert:hover {\n",
              "      background-color: #434B5C;\n",
              "      box-shadow: 0px 1px 3px 1px rgba(0, 0, 0, 0.15);\n",
              "      filter: drop-shadow(0px 1px 2px rgba(0, 0, 0, 0.3));\n",
              "      fill: #FFFFFF;\n",
              "    }\n",
              "  </style>\n",
              "\n",
              "      <script>\n",
              "        const buttonEl =\n",
              "          document.querySelector('#df-74fbb166-da13-449c-bacc-ad6383f2c075 button.colab-df-convert');\n",
              "        buttonEl.style.display =\n",
              "          google.colab.kernel.accessAllowed ? 'block' : 'none';\n",
              "\n",
              "        async function convertToInteractive(key) {\n",
              "          const element = document.querySelector('#df-74fbb166-da13-449c-bacc-ad6383f2c075');\n",
              "          const dataTable =\n",
              "            await google.colab.kernel.invokeFunction('convertToInteractive',\n",
              "                                                     [key], {});\n",
              "          if (!dataTable) return;\n",
              "\n",
              "          const docLinkHtml = 'Like what you see? Visit the ' +\n",
              "            '<a target=\"_blank\" href=https://colab.research.google.com/notebooks/data_table.ipynb>data table notebook</a>'\n",
              "            + ' to learn more about interactive tables.';\n",
              "          element.innerHTML = '';\n",
              "          dataTable['output_type'] = 'display_data';\n",
              "          await google.colab.output.renderOutput(dataTable, element);\n",
              "          const docLink = document.createElement('div');\n",
              "          docLink.innerHTML = docLinkHtml;\n",
              "          element.appendChild(docLink);\n",
              "        }\n",
              "      </script>\n",
              "    </div>\n",
              "  </div>\n",
              "  "
            ]
          },
          "metadata": {},
          "execution_count": 33
        }
      ]
    },
    {
      "cell_type": "markdown",
      "source": [
        "## Statistical Tests for Numerical Attributes"
      ],
      "metadata": {
        "id": "yr-1n7lu9tea"
      }
    },
    {
      "cell_type": "markdown",
      "source": [
        "### Normality Test\n"
      ],
      "metadata": {
        "id": "g8zXXpbx-Edm"
      }
    },
    {
      "cell_type": "markdown",
      "source": [
        "#### 1. Visual Normality Checks\n",
        "Visual check for normality using -\n",
        "1. Histogram\n",
        "2. Quantile-Quantile plot"
      ],
      "metadata": {
        "id": "ff0Nzpa9-H_w"
      }
    },
    {
      "cell_type": "markdown",
      "source": [
        "##### Histograms for all features"
      ],
      "metadata": {
        "id": "nvFPLb-6rFkv"
      }
    },
    {
      "cell_type": "code",
      "source": [
        "df_plot = auto_data.iloc[:, 0:7]\n",
        "\n",
        "plt.figure(figsize=(15,15))\n",
        "col = df_plot.columns\n",
        "for i in range(0,len(col)):\n",
        "    plt.subplot(len(col)//2+1,2,i+1)\n",
        "    sns.distplot(auto_data[col[i]]);\n",
        "    plt.xlabel(col[i])"
      ],
      "metadata": {
        "colab": {
          "base_uri": "https://localhost:8080/"
        },
        "outputId": "ec1ad034-f062-4802-e081-459218c3bd53",
        "id": "eKTmgduFrFkv"
      },
      "execution_count": null,
      "outputs": [
        {
          "output_type": "display_data",
          "data": {
            "text/plain": [
              "<Figure size 1080x1080 with 7 Axes>"
            ],
            "image/png": "[encoded data removed]"
          },
          "metadata": {
            "needs_background": "light"
          }
        }
      ]
    },
    {
      "cell_type": "markdown",
      "source": [
        "Insights from the above plot:\n",
        "* acceleration is the only distribution which is gaussian. There are few values in acceleration which lie outside the whiskers(the bars extending outwards from the box), these are outliers.\n",
        "* distributions of mpg & weight seems to be right-skewed gaussian.\n",
        "* distributions of displacement & horsepower seems to be far from gaussian."
      ],
      "metadata": {
        "id": "TgDQAtKE_RCX"
      }
    },
    {
      "cell_type": "markdown",
      "source": [
        "Checking whether mpg and weight are log-normal or not.\n",
        "\n",
        "A log-normal distribution is a distribution of a random variable whose logarithm is normally distributed. Thus, if the random variable X is log-normally distributed, then Y = ln(X) has a normal distribution."
      ],
      "metadata": {
        "id": "JJeX566t_7EN"
      }
    },
    {
      "cell_type": "code",
      "source": [
        "fig = plt.figure(1, (10, 4))\n",
        "\n",
        "ax = plt.subplot(1,2,1)\n",
        "sns.distplot(np.log2(auto_data.mpg))\n",
        "plt.tight_layout()\n",
        "\n",
        "ax = plt.subplot(1,2,2)\n",
        "sns.distplot(np.log2(auto_data.weight))\n",
        "plt.tight_layout()\n",
        "\n",
        "plt.show()"
      ],
      "metadata": {
        "colab": {
          "base_uri": "https://localhost:8080/"
        },
        "id": "11tq5NcUbhns",
        "outputId": "579a7dee-319e-4cb9-861c-c20f036e04b7"
      },
      "execution_count": null,
      "outputs": [
        {
          "output_type": "display_data",
          "data": {
            "text/plain": [
              "<Figure size 720x288 with 2 Axes>"
            ],
            "image/png": "[encoded data removed]"
          },
          "metadata": {
            "needs_background": "light"
          }
        }
      ]
    },
    {
      "cell_type": "markdown",
      "source": [
        "So after applying log transformation we find that weight is not log-normal but mpg visually looks like log-normal."
      ],
      "metadata": {
        "id": "uPYLqekPb9hp"
      }
    },
    {
      "cell_type": "markdown",
      "source": [
        "Checking for normality using quantile-quantile plots."
      ],
      "metadata": {
        "id": "zhK6TyPkAQeE"
      }
    },
    {
      "cell_type": "code",
      "source": [
        "# quantile-quantile plots on original data\n",
        "fig = pyplot.figure(1, (18,8))\n",
        "\n",
        "for i,num in enumerate(numerical_features):\n",
        "    ax = pyplot.subplot(2,3,i+1)\n",
        "    qqplot(auto_data[num], line= 's', ax=ax)\n",
        "    ax.set_title(f'qqplot - {num}')\n",
        "    pyplot.tight_layout()"
      ],
      "metadata": {
        "id": "EkiAKORgcEI7",
        "colab": {
          "base_uri": "https://localhost:8080/"
        },
        "outputId": "b978cb30-7299-49c7-fc74-2c5886a25b76"
      },
      "execution_count": null,
      "outputs": [
        {
          "output_type": "display_data",
          "data": {
            "text/plain": [
              "<Figure size 1296x576 with 6 Axes>"
            ],
            "image/png": "[encoded data removed]"
          },
          "metadata": {
            "needs_background": "light"
          }
        }
      ]
    },
    {
      "cell_type": "markdown",
      "source": [
        "Both histplot & qqplot of acceleration indicates that it is indeed close to gaussian."
      ],
      "metadata": {
        "id": "eH2qzd4hAjcX"
      }
    },
    {
      "cell_type": "markdown",
      "source": [
        "#### 2. Statistical Normality Tests\n",
        "\n",
        "Shapiro wilk test.\n",
        "\n",
        "    H0 : Data is drawn from normal distribution.         α=0.05"
      ],
      "metadata": {
        "id": "grvIEdmZ2hi3"
      }
    },
    {
      "cell_type": "code",
      "source": [
        "# function for shapiro walk test\n",
        "def shapiro_wilk_test(df: pd.DataFrame, cols: list, alpha=0.05):\n",
        "    # testing the null hypothesis for columns given in cols of the dataframe auto_data under significance level alpha.\n",
        "    for col in cols:\n",
        "        _,p = stats.shapiro(df[col])\n",
        "        if p <= alpha:\n",
        "            print(f'''\\nRejected H0 under significance level {alpha}\\n{col} doesn't seems to be normally distributed''')\n",
        "        else:\n",
        "            print(f'''\\nFail to reject H0 due to lack of evidence under significance level {alpha}\\n{col} seem to be normally distributed''')"
      ],
      "metadata": {
        "id": "5b8ykh9X2odA"
      },
      "execution_count": null,
      "outputs": []
    },
    {
      "cell_type": "code",
      "source": [
        "shapiro_wilk_test(auto_data, numerical_features)"
      ],
      "metadata": {
        "colab": {
          "base_uri": "https://localhost:8080/"
        },
        "id": "sqBlgngU2eTl",
        "outputId": "bdc08da9-d282-4122-89ee-b47fca656f5d"
      },
      "execution_count": null,
      "outputs": [
        {
          "output_type": "stream",
          "name": "stdout",
          "text": [
            "\n",
            "Rejected H0 under significance level 0.05\n",
            "mpg doesn't seems to be normally distributed\n",
            "\n",
            "Rejected H0 under significance level 0.05\n",
            "displacement doesn't seems to be normally distributed\n",
            "\n",
            "Rejected H0 under significance level 0.05\n",
            "horsepower doesn't seems to be normally distributed\n",
            "\n",
            "Rejected H0 under significance level 0.05\n",
            "weight doesn't seems to be normally distributed\n",
            "\n",
            "Rejected H0 under significance level 0.05\n",
            "acceleration doesn't seems to be normally distributed\n",
            "\n",
            "Rejected H0 under significance level 0.05\n",
            "origin doesn't seems to be normally distributed\n"
          ]
        }
      ]
    },
    {
      "cell_type": "markdown",
      "source": [
        "The acceleration was expected to be normally distributed but test rejected it.\n",
        "\n",
        "Checking the p value"
      ],
      "metadata": {
        "id": "OHCPbvIRBmOL"
      }
    },
    {
      "cell_type": "code",
      "source": [
        "_, p = stats.shapiro(auto_data.acceleration)\n",
        "p"
      ],
      "metadata": {
        "colab": {
          "base_uri": "https://localhost:8080/"
        },
        "id": "oRBO3xe52CZc",
        "outputId": "5fac8337-89d2-4770-83aa-ee0efe319058"
      },
      "execution_count": null,
      "outputs": [
        {
          "output_type": "execute_result",
          "data": {
            "text/plain": [
              "0.039872437715530396"
            ]
          },
          "metadata": {},
          "execution_count": 39
        }
      ]
    },
    {
      "cell_type": "markdown",
      "source": [
        "So the null hypothesis is rejected under the significance level of 5% but if it was 2.5% then the null-hypothesis would not have been rejected. One possible reason for the rejection of $H_{0}$ is maybe  data is not scaled and scaling might help."
      ],
      "metadata": {
        "id": "ZJ0x2aQrB2p3"
      }
    },
    {
      "cell_type": "markdown",
      "source": [
        "Power Transform: It transforms data featurewise to make it more Gaussian-like. Power transforms are a family of parametric, monotonic transformations that are applied to make data more Gaussian-like. This is useful for modeling issues related to heteroscedasticity (non-constant variance), or other situations where normality is desired just like here.\n",
        "\n",
        "Applying power transform to make the data more gaussian like. And after that checking for normality on the transformed data."
      ],
      "metadata": {
        "id": "lBRdqaqLDmVd"
      }
    },
    {
      "cell_type": "code",
      "source": [
        "auto_data_transformed = pd.DataFrame(PowerTransformer().fit_transform(auto_data[numerical_features]), columns=numerical_features)\n",
        "auto_data_transformed.head()"
      ],
      "metadata": {
        "id": "IkOg7ehQ2_gc",
        "colab": {
          "base_uri": "https://localhost:8080/"
        },
        "outputId": "be7154ea-1635-4af3-fbc2-ff84d353f785"
      },
      "execution_count": null,
      "outputs": [
        {
          "output_type": "execute_result",
          "data": {
            "text/plain": [
              "        mpg  displacement  horsepower    weight  acceleration    origin\n",
              "0 -0.645513      1.129793    0.862976  0.754910     -1.327271 -0.766726\n",
              "1 -1.152166      1.332841    1.454628  0.929331     -1.531864 -0.766726\n",
              "2 -0.645513      1.185134    1.225934  0.689074     -1.740270 -0.766726\n",
              "3 -0.975080      1.114248    1.225934  0.686130     -1.327271 -0.766726\n",
              "4 -0.806477      1.103773    1.053950  0.701794     -1.952725 -0.766726"
            ],
            "text/html": [
              "\n",
              "  <div id=\"df-78d1d76e-d63c-4e9d-aed2-31f023aab3c7\">\n",
              "    <div class=\"colab-df-container\">\n",
              "      <div>\n",
              "<style scoped>\n",
              "    .dataframe tbody tr th:only-of-type {\n",
              "        vertical-align: middle;\n",
              "    }\n",
              "\n",
              "    .dataframe tbody tr th {\n",
              "        vertical-align: top;\n",
              "    }\n",
              "\n",
              "    .dataframe thead th {\n",
              "        text-align: right;\n",
              "    }\n",
              "</style>\n",
              "<table border=\"1\" class=\"dataframe\">\n",
              "  <thead>\n",
              "    <tr style=\"text-align: right;\">\n",
              "      <th></th>\n",
              "      <th>mpg</th>\n",
              "      <th>displacement</th>\n",
              "      <th>horsepower</th>\n",
              "      <th>weight</th>\n",
              "      <th>acceleration</th>\n",
              "      <th>origin</th>\n",
              "    </tr>\n",
              "  </thead>\n",
              "  <tbody>\n",
              "    <tr>\n",
              "      <th>0</th>\n",
              "      <td>-0.645513</td>\n",
              "      <td>1.129793</td>\n",
              "      <td>0.862976</td>\n",
              "      <td>0.754910</td>\n",
              "      <td>-1.327271</td>\n",
              "      <td>-0.766726</td>\n",
              "    </tr>\n",
              "    <tr>\n",
              "      <th>1</th>\n",
              "      <td>-1.152166</td>\n",
              "      <td>1.332841</td>\n",
              "      <td>1.454628</td>\n",
              "      <td>0.929331</td>\n",
              "      <td>-1.531864</td>\n",
              "      <td>-0.766726</td>\n",
              "    </tr>\n",
              "    <tr>\n",
              "      <th>2</th>\n",
              "      <td>-0.645513</td>\n",
              "      <td>1.185134</td>\n",
              "      <td>1.225934</td>\n",
              "      <td>0.689074</td>\n",
              "      <td>-1.740270</td>\n",
              "      <td>-0.766726</td>\n",
              "    </tr>\n",
              "    <tr>\n",
              "      <th>3</th>\n",
              "      <td>-0.975080</td>\n",
              "      <td>1.114248</td>\n",
              "      <td>1.225934</td>\n",
              "      <td>0.686130</td>\n",
              "      <td>-1.327271</td>\n",
              "      <td>-0.766726</td>\n",
              "    </tr>\n",
              "    <tr>\n",
              "      <th>4</th>\n",
              "      <td>-0.806477</td>\n",
              "      <td>1.103773</td>\n",
              "      <td>1.053950</td>\n",
              "      <td>0.701794</td>\n",
              "      <td>-1.952725</td>\n",
              "      <td>-0.766726</td>\n",
              "    </tr>\n",
              "  </tbody>\n",
              "</table>\n",
              "</div>\n",
              "      <button class=\"colab-df-convert\" onclick=\"convertToInteractive('df-78d1d76e-d63c-4e9d-aed2-31f023aab3c7')\"\n",
              "              title=\"Convert this dataframe to an interactive table.\"\n",
              "              style=\"display:none;\">\n",
              "        \n",
              "  <svg xmlns=\"http://www.w3.org/2000/svg\" height=\"24px\"viewBox=\"0 0 24 24\"\n",
              "       width=\"24px\">\n",
              "    <path d=\"M0 0h24v24H0V0z\" fill=\"none\"/>\n",
              "    <path d=\"M18.56 5.44l.94 2.06.94-2.06 2.06-.94-2.06-.94-.94-2.06-.94 2.06-2.06.94zm-11 1L8.5 8.5l.94-2.06 2.06-.94-2.06-.94L8.5 2.5l-.94 2.06-2.06.94zm10 10l.94 2.06.94-2.06 2.06-.94-2.06-.94-.94-2.06-.94 2.06-2.06.94z\"/><path d=\"M17.41 7.96l-1.37-1.37c-.4-.4-.92-.59-1.43-.59-.52 0-1.04.2-1.43.59L10.3 9.45l-7.72 7.72c-.78.78-.78 2.05 0 2.83L4 21.41c.39.39.9.59 1.41.59.51 0 1.02-.2 1.41-.59l7.78-7.78 2.81-2.81c.8-.78.8-2.07 0-2.86zM5.41 20L4 18.59l7.72-7.72 1.47 1.35L5.41 20z\"/>\n",
              "  </svg>\n",
              "      </button>\n",
              "      \n",
              "  <style>\n",
              "    .colab-df-container {\n",
              "      display:flex;\n",
              "      flex-wrap:wrap;\n",
              "      gap: 12px;\n",
              "    }\n",
              "\n",
              "    .colab-df-convert {\n",
              "      background-color: #E8F0FE;\n",
              "      border: none;\n",
              "      border-radius: 50%;\n",
              "      cursor: pointer;\n",
              "      display: none;\n",
              "      fill: #1967D2;\n",
              "      height: 32px;\n",
              "      padding: 0 0 0 0;\n",
              "      width: 32px;\n",
              "    }\n",
              "\n",
              "    .colab-df-convert:hover {\n",
              "      background-color: #E2EBFA;\n",
              "      box-shadow: 0px 1px 2px rgba(60, 64, 67, 0.3), 0px 1px 3px 1px rgba(60, 64, 67, 0.15);\n",
              "      fill: #174EA6;\n",
              "    }\n",
              "\n",
              "    [theme=dark] .colab-df-convert {\n",
              "      background-color: #3B4455;\n",
              "      fill: #D2E3FC;\n",
              "    }\n",
              "\n",
              "    [theme=dark] .colab-df-convert:hover {\n",
              "      background-color: #434B5C;\n",
              "      box-shadow: 0px 1px 3px 1px rgba(0, 0, 0, 0.15);\n",
              "      filter: drop-shadow(0px 1px 2px rgba(0, 0, 0, 0.3));\n",
              "      fill: #FFFFFF;\n",
              "    }\n",
              "  </style>\n",
              "\n",
              "      <script>\n",
              "        const buttonEl =\n",
              "          document.querySelector('#df-78d1d76e-d63c-4e9d-aed2-31f023aab3c7 button.colab-df-convert');\n",
              "        buttonEl.style.display =\n",
              "          google.colab.kernel.accessAllowed ? 'block' : 'none';\n",
              "\n",
              "        async function convertToInteractive(key) {\n",
              "          const element = document.querySelector('#df-78d1d76e-d63c-4e9d-aed2-31f023aab3c7');\n",
              "          const dataTable =\n",
              "            await google.colab.kernel.invokeFunction('convertToInteractive',\n",
              "                                                     [key], {});\n",
              "          if (!dataTable) return;\n",
              "\n",
              "          const docLinkHtml = 'Like what you see? Visit the ' +\n",
              "            '<a target=\"_blank\" href=https://colab.research.google.com/notebooks/data_table.ipynb>data table notebook</a>'\n",
              "            + ' to learn more about interactive tables.';\n",
              "          element.innerHTML = '';\n",
              "          dataTable['output_type'] = 'display_data';\n",
              "          await google.colab.output.renderOutput(dataTable, element);\n",
              "          const docLink = document.createElement('div');\n",
              "          docLink.innerHTML = docLinkHtml;\n",
              "          element.appendChild(docLink);\n",
              "        }\n",
              "      </script>\n",
              "    </div>\n",
              "  </div>\n",
              "  "
            ]
          },
          "metadata": {},
          "execution_count": 40
        }
      ]
    },
    {
      "cell_type": "code",
      "source": [
        "fig = pyplot.figure(1, (18,8))\n",
        "\n",
        "for i,num in enumerate(numerical_features):\n",
        "    ax = pyplot.subplot(2,3,i+1)\n",
        "    sns.distplot(auto_data_transformed[num])\n",
        "    ax.set_xlabel(f'transformed {num}')\n",
        "    pyplot.tight_layout()"
      ],
      "metadata": {
        "colab": {
          "base_uri": "https://localhost:8080/"
        },
        "id": "9dsJIIoyFv3d",
        "outputId": "d02aeee3-439a-40b3-f702-1fc6b0519b97"
      },
      "execution_count": null,
      "outputs": [
        {
          "output_type": "display_data",
          "data": {
            "text/plain": [
              "<Figure size 1296x576 with 6 Axes>"
            ],
            "image/png": "[encoded data removed]"
          },
          "metadata": {
            "needs_background": "light"
          }
        }
      ]
    },
    {
      "cell_type": "markdown",
      "source": [
        "Power transforms does two things, first it scaled the data i.e., now data is centered at 0 and also made the distribution more gaussian-like simultaneously preserving the original structure. It does so by applying transformations like square-root, log etc.\n",
        "\n",
        "acceleration is still gaussian, skewness is removed from mpg & weight making mpg gaussian-like. Also the distribution for displacement is improved now it's bimodal which respects the observation.\n",
        "\n",
        "After applying power transform distribution, mpg & weight is quite similar to what we get on applying log transform. \n",
        "\n",
        "Checking for normality using quantile-quantile plots."
      ],
      "metadata": {
        "id": "LIyIu61xvGBX"
      }
    },
    {
      "cell_type": "code",
      "source": [
        "# quantile-quantile plots on transformed data\n",
        "fig = pyplot.figure(1, (18,8))\n",
        "\n",
        "for i,num in enumerate(numerical_features):\n",
        "    ax = pyplot.subplot(2,3,i+1)\n",
        "    qqplot(auto_data_transformed[num], line='s', ax=ax)\n",
        "    ax.set_title(f'qqplot - transformed {num}')\n",
        "    pyplot.tight_layout()"
      ],
      "metadata": {
        "id": "Pvvyos4bt7KP",
        "colab": {
          "base_uri": "https://localhost:8080/"
        },
        "outputId": "723269c0-ba31-46f4-9ea0-8b482feaf3aa"
      },
      "execution_count": null,
      "outputs": [
        {
          "output_type": "display_data",
          "data": {
            "text/plain": [
              "<Figure size 1296x576 with 6 Axes>"
            ],
            "image/png": "[encoded data removed]"
          },
          "metadata": {
            "needs_background": "light"
          }
        }
      ]
    },
    {
      "cell_type": "code",
      "source": [
        "shapiro_wilk_test(auto_data_transformed, numerical_features)"
      ],
      "metadata": {
        "colab": {
          "base_uri": "https://localhost:8080/"
        },
        "id": "sjKDrVyUycZV",
        "outputId": "f88d993d-632d-4822-a95a-8ebd36b5d9c2"
      },
      "execution_count": null,
      "outputs": [
        {
          "output_type": "stream",
          "name": "stdout",
          "text": [
            "\n",
            "Rejected H0 under significance level 0.05\n",
            "mpg doesn't seems to be normally distributed\n",
            "\n",
            "Rejected H0 under significance level 0.05\n",
            "displacement doesn't seems to be normally distributed\n",
            "\n",
            "Rejected H0 under significance level 0.05\n",
            "horsepower doesn't seems to be normally distributed\n",
            "\n",
            "Rejected H0 under significance level 0.05\n",
            "weight doesn't seems to be normally distributed\n",
            "\n",
            "Fail to reject H0 due to lack of evidence under significance level 0.05\n",
            "acceleration seem to be normally distributed\n",
            "\n",
            "Rejected H0 under significance level 0.05\n",
            "origin doesn't seems to be normally distributed\n"
          ]
        }
      ]
    },
    {
      "cell_type": "code",
      "source": [
        "_, p = stats.shapiro(auto_data_transformed.acceleration)\n",
        "p"
      ],
      "metadata": {
        "colab": {
          "base_uri": "https://localhost:8080/"
        },
        "id": "j5D8n-bPytLQ",
        "outputId": "cd04d444-9381-4b75-d907-84067323ed09"
      },
      "execution_count": null,
      "outputs": [
        {
          "output_type": "execute_result",
          "data": {
            "text/plain": [
              "0.4130762815475464"
            ]
          },
          "metadata": {},
          "execution_count": 44
        }
      ]
    },
    {
      "cell_type": "markdown",
      "source": [
        "On normalizing the data, the likelihood of observing acceleration assuming it's normal is very high as compared to earlier.\n",
        "\n",
        "So acceleration is normally distributed both visually and statistically."
      ],
      "metadata": {
        "id": "QPadSfw7y76b"
      }
    },
    {
      "cell_type": "markdown",
      "source": [
        "## Tests for correlation between two continous variables\n",
        "\n",
        "### Covariance\n",
        "\n",
        "$$\\large Cov(x,y) = \\frac{\\sum (x_{_i}-\\bar{x})(y_{_i}-\\bar{y})}{n-1}$$\n",
        "\n",
        "The use of the mean in the calculation suggests the need for each data sample to have a Gaussian or Gaussian-like distribution hence its **parametric statistic**. Also it's hard to interpret because it can take any value.\n",
        "\n",
        "### Linear Association (Pearson's Correlation)\n",
        "\n",
        "$$\\large Corr_{_p}(x,y) = \\frac{Cov(x,y)}{\\sigma _{x}\\sigma _{y}}$$\n",
        "\n",
        "The Pearson correlation coefficient is just a **normalized covariance** between the two variables to give an interpretable score such that $Corr_{p}(x,y)\\in [-1,1]$. It can be used to summarize the strength of the linear relationship between two data samples. The use of mean and standard deviation in the calculation suggests the need for the two data samples to have a Gaussian or Gaussian-like distribution hence it's a **parametric statistic**.\n",
        "\n",
        "As a statistical hypothesis test, the method assumes that the samples are uncorrelated (fail to reject H0).\n",
        "\n",
        "**Assumptions of pearson correlation**:<br>\n",
        "&emsp;&emsp;&emsp;**1.** Both variables should have a Gaussian or Gaussian-like distribution.<br>\n",
        "&emsp;&emsp;&emsp;**2.** Relationship between the variables should be linear.<br>\n",
        "&emsp;&emsp;&emsp;**3.** Homoscedasticity i.e., a sequence of random variables where all its random variables have the same finite variance.<br>\n",
        "\n",
        "Also Pearson is quite sensitive to outliers.<br>\n",
        "\n",
        "Two variables may be related by a nonlinear relationship, such that the relationship is stronger or weaker across the distribution of the variables. In these cases, even when variables have a strong association, Pearson’s correlation would be low. Further, the two variables being considered may have a non-Gaussian distribution. To properly identify association between variables with non-linear relationships, we can use rank-based correlation approaches.\n",
        "\n",
        "### Ordinal Association (Rank correlation)\n",
        "Rank correlation refers to methods that quantify the association between variables using the ordinal relationship between the values rather than the specific values. In this we first sort data in ascending order, then assign integer rank to them and then use it to find the correlation b/w variables. Because no distribution for the values is assumed, rank correlation methods are referred to as distribution-free correlation or nonparametric correlation. \n",
        "\n",
        "### Spearman's Rank Correlation\n",
        "\n",
        "$$\\large Corr_{_s}(x,y) = \\frac{Cov(rank(x), rank(y))}{\\sigma _{rank(x)}\\sigma _{rank(y)}}$$\n",
        "\n",
        "Spearman's Correlation is a **non-parametric rank correlation** and is also interpretable because $Corr_{s}(x,y)\\in [-1,1]$. In this instead of calculating the coefficient using covariance and standard deviations on the samples themselves, these statistics are calculated by converting the raw data into rank data hence non-parametric. **This is a common approach used in non-parametric statistics.**\n",
        "\n",
        "As a statistical hypothesis test, the method assumes that the samples are uncorrelated (fail to reject H0).\n",
        "\n"
      ],
      "metadata": {
        "id": "d0Cr-xad_lel"
      }
    },
    {
      "cell_type": "markdown",
      "source": [
        "Correlation test b/w mpg and other attribute:\n",
        "\n",
        "&emsp;&emsp;&emsp;$H_{0}$: mpg and other attribute are not correlated. &emsp;&emsp;&emsp;&emsp;&emsp;&emsp; $\\alpha=0.05$"
      ],
      "metadata": {
        "id": "fnfNIwVhAkh6"
      }
    },
    {
      "cell_type": "code",
      "source": [
        "for num in numerical_features:\n",
        "    if num == 'mpg':\n",
        "        continue\n",
        "    \n",
        "    corr, p = stats.spearmanr(auto_data.mpg, auto_data[num])\n",
        "\n",
        "    print(f'\\nmpg & {num}\\n')\n",
        "    print(f'Correlation: {round(corr, 4)} \\t p: {p}')\n",
        "\n",
        "    if p <= alpha:\n",
        "        print(f'Rejected H0 under significance level {alpha}, mpg & {num} are correlated\\n')\n",
        "    else:\n",
        "        print(f'Fail to reject H0 due to lack of evidence under significance level {alpha}, mpg & {num} are not correlated\\n')"
      ],
      "metadata": {
        "colab": {
          "base_uri": "https://localhost:8080/"
        },
        "id": "yb2UcI8CAybO",
        "outputId": "93c1a031-3ae6-4b6a-abb1-48f661a152d4"
      },
      "execution_count": null,
      "outputs": [
        {
          "output_type": "stream",
          "name": "stdout",
          "text": [
            "\n",
            "mpg & displacement\n",
            "\n",
            "Correlation: -0.8557 \t p: 2.3646353779685863e-115\n",
            "Rejected H0 under significance level 0.05, mpg & displacement are correlated\n",
            "\n",
            "\n",
            "mpg & horsepower\n",
            "\n",
            "Correlation: -0.848 \t p: 3.1556146766511463e-111\n",
            "Rejected H0 under significance level 0.05, mpg & horsepower are correlated\n",
            "\n",
            "\n",
            "mpg & weight\n",
            "\n",
            "Correlation: -0.8749 \t p: 8.643768710424627e-127\n",
            "Rejected H0 under significance level 0.05, mpg & weight are correlated\n",
            "\n",
            "\n",
            "mpg & acceleration\n",
            "\n",
            "Correlation: 0.4387 \t p: 3.7760574238172543e-20\n",
            "Rejected H0 under significance level 0.05, mpg & acceleration are correlated\n",
            "\n",
            "\n",
            "mpg & origin\n",
            "\n",
            "Correlation: 0.5807 \t p: 2.9499642888408254e-37\n",
            "Rejected H0 under significance level 0.05, mpg & origin are correlated\n",
            "\n"
          ]
        }
      ]
    },
    {
      "cell_type": "markdown",
      "source": [
        "So all the H0 are rejected under the significance level of 5%. Except acceleration all the other correlations are very high.\n"
      ],
      "metadata": {
        "id": "4kZQhatUBVT7"
      }
    },
    {
      "cell_type": "markdown",
      "source": [
        "Correlation between every pair"
      ],
      "metadata": {
        "id": "y3jzR5MJBi_d"
      }
    },
    {
      "cell_type": "code",
      "source": [
        "def test_correlation(x1, x2, method='spearman', alpha=0.05):\n",
        "    # this function returns correlation, p-value and H0 for `x1` & `x2`\n",
        "    \n",
        "    ALLOWED_METHODS = ['pearson', 'spearman', 'kendall']\n",
        "    if method not in ALLOWED_METHODS:\n",
        "        raise ValueError(f'allowed methods are {ALLOWED_METHODS}')\n",
        "        \n",
        "    if method=='pearson':\n",
        "        corr, p = stats.pearsonr(x1,x2)\n",
        "    elif method=='spearman':\n",
        "        corr, p = stats.spearmanr(x1,x2)\n",
        "    else:\n",
        "        corr, p = stats.kendalltau(x1,x2)\n",
        "    \n",
        "    h0 = (\n",
        "    'rejected'\n",
        "    if p<=alpha else\n",
        "    'fail to reject')\n",
        "    \n",
        "    return corr, p, h0"
      ],
      "metadata": {
        "id": "dlQJiC5FBnlO"
      },
      "execution_count": null,
      "outputs": []
    },
    {
      "cell_type": "code",
      "source": [
        "df_corr = pd.DataFrame(columns=['attr1', 'attr2', 'corr', 'p', 'H0'])\n",
        "\n",
        "for combo in itertools.combinations(numerical_features, r=2):\n",
        "    corr, p, h0 = test_correlation(auto_data[combo[0]], auto_data[combo[1]])\n",
        "    df_corr = df_corr.append({'attr1':combo[0], 'attr2':combo[1],'corr':round(corr, 5), 'p':p, 'H0':h0}, ignore_index=True)\n",
        "    \n",
        "df_corr"
      ],
      "metadata": {
        "colab": {
          "base_uri": "https://localhost:8080/",
          "height": 520
        },
        "id": "YluvGLkNBwIb",
        "outputId": "cea12ae4-9743-4298-d49c-1dce22d1da9b"
      },
      "execution_count": null,
      "outputs": [
        {
          "output_type": "execute_result",
          "data": {
            "text/plain": [
              "           attr1         attr2     corr              p        H0\n",
              "0            mpg  displacement -0.85569  2.364635e-115  rejected\n",
              "1            mpg    horsepower -0.84797  3.155615e-111  rejected\n",
              "2            mpg        weight -0.87495  8.643769e-127  rejected\n",
              "3            mpg  acceleration  0.43868   3.776057e-20  rejected\n",
              "4            mpg        origin  0.58069   2.949964e-37  rejected\n",
              "5   displacement    horsepower  0.86994  1.209720e-123  rejected\n",
              "6   displacement        weight  0.94599  8.192161e-196  rejected\n",
              "7   displacement  acceleration -0.49651   3.658901e-26  rejected\n",
              "8   displacement        origin -0.70720   1.337890e-61  rejected\n",
              "9     horsepower        weight  0.87215  5.141212e-125  rejected\n",
              "10    horsepower  acceleration -0.65136   2.046249e-49  rejected\n",
              "11    horsepower        origin -0.50441   4.467154e-27  rejected\n",
              "12        weight  acceleration -0.40455   4.189304e-17  rejected\n",
              "13        weight        origin -0.62843   3.985799e-45  rejected\n",
              "14  acceleration        origin  0.22057   8.936943e-06  rejected"
            ],
            "text/html": [
              "\n",
              "  <div id=\"df-69471dcb-af96-45ca-ade6-ce46b59070d5\">\n",
              "    <div class=\"colab-df-container\">\n",
              "      <div>\n",
              "<style scoped>\n",
              "    .dataframe tbody tr th:only-of-type {\n",
              "        vertical-align: middle;\n",
              "    }\n",
              "\n",
              "    .dataframe tbody tr th {\n",
              "        vertical-align: top;\n",
              "    }\n",
              "\n",
              "    .dataframe thead th {\n",
              "        text-align: right;\n",
              "    }\n",
              "</style>\n",
              "<table border=\"1\" class=\"dataframe\">\n",
              "  <thead>\n",
              "    <tr style=\"text-align: right;\">\n",
              "      <th></th>\n",
              "      <th>attr1</th>\n",
              "      <th>attr2</th>\n",
              "      <th>corr</th>\n",
              "      <th>p</th>\n",
              "      <th>H0</th>\n",
              "    </tr>\n",
              "  </thead>\n",
              "  <tbody>\n",
              "    <tr>\n",
              "      <th>0</th>\n",
              "      <td>mpg</td>\n",
              "      <td>displacement</td>\n",
              "      <td>-0.85569</td>\n",
              "      <td>2.364635e-115</td>\n",
              "      <td>rejected</td>\n",
              "    </tr>\n",
              "    <tr>\n",
              "      <th>1</th>\n",
              "      <td>mpg</td>\n",
              "      <td>horsepower</td>\n",
              "      <td>-0.84797</td>\n",
              "      <td>3.155615e-111</td>\n",
              "      <td>rejected</td>\n",
              "    </tr>\n",
              "    <tr>\n",
              "      <th>2</th>\n",
              "      <td>mpg</td>\n",
              "      <td>weight</td>\n",
              "      <td>-0.87495</td>\n",
              "      <td>8.643769e-127</td>\n",
              "      <td>rejected</td>\n",
              "    </tr>\n",
              "    <tr>\n",
              "      <th>3</th>\n",
              "      <td>mpg</td>\n",
              "      <td>acceleration</td>\n",
              "      <td>0.43868</td>\n",
              "      <td>3.776057e-20</td>\n",
              "      <td>rejected</td>\n",
              "    </tr>\n",
              "    <tr>\n",
              "      <th>4</th>\n",
              "      <td>mpg</td>\n",
              "      <td>origin</td>\n",
              "      <td>0.58069</td>\n",
              "      <td>2.949964e-37</td>\n",
              "      <td>rejected</td>\n",
              "    </tr>\n",
              "    <tr>\n",
              "      <th>5</th>\n",
              "      <td>displacement</td>\n",
              "      <td>horsepower</td>\n",
              "      <td>0.86994</td>\n",
              "      <td>1.209720e-123</td>\n",
              "      <td>rejected</td>\n",
              "    </tr>\n",
              "    <tr>\n",
              "      <th>6</th>\n",
              "      <td>displacement</td>\n",
              "      <td>weight</td>\n",
              "      <td>0.94599</td>\n",
              "      <td>8.192161e-196</td>\n",
              "      <td>rejected</td>\n",
              "    </tr>\n",
              "    <tr>\n",
              "      <th>7</th>\n",
              "      <td>displacement</td>\n",
              "      <td>acceleration</td>\n",
              "      <td>-0.49651</td>\n",
              "      <td>3.658901e-26</td>\n",
              "      <td>rejected</td>\n",
              "    </tr>\n",
              "    <tr>\n",
              "      <th>8</th>\n",
              "      <td>displacement</td>\n",
              "      <td>origin</td>\n",
              "      <td>-0.70720</td>\n",
              "      <td>1.337890e-61</td>\n",
              "      <td>rejected</td>\n",
              "    </tr>\n",
              "    <tr>\n",
              "      <th>9</th>\n",
              "      <td>horsepower</td>\n",
              "      <td>weight</td>\n",
              "      <td>0.87215</td>\n",
              "      <td>5.141212e-125</td>\n",
              "      <td>rejected</td>\n",
              "    </tr>\n",
              "    <tr>\n",
              "      <th>10</th>\n",
              "      <td>horsepower</td>\n",
              "      <td>acceleration</td>\n",
              "      <td>-0.65136</td>\n",
              "      <td>2.046249e-49</td>\n",
              "      <td>rejected</td>\n",
              "    </tr>\n",
              "    <tr>\n",
              "      <th>11</th>\n",
              "      <td>horsepower</td>\n",
              "      <td>origin</td>\n",
              "      <td>-0.50441</td>\n",
              "      <td>4.467154e-27</td>\n",
              "      <td>rejected</td>\n",
              "    </tr>\n",
              "    <tr>\n",
              "      <th>12</th>\n",
              "      <td>weight</td>\n",
              "      <td>acceleration</td>\n",
              "      <td>-0.40455</td>\n",
              "      <td>4.189304e-17</td>\n",
              "      <td>rejected</td>\n",
              "    </tr>\n",
              "    <tr>\n",
              "      <th>13</th>\n",
              "      <td>weight</td>\n",
              "      <td>origin</td>\n",
              "      <td>-0.62843</td>\n",
              "      <td>3.985799e-45</td>\n",
              "      <td>rejected</td>\n",
              "    </tr>\n",
              "    <tr>\n",
              "      <th>14</th>\n",
              "      <td>acceleration</td>\n",
              "      <td>origin</td>\n",
              "      <td>0.22057</td>\n",
              "      <td>8.936943e-06</td>\n",
              "      <td>rejected</td>\n",
              "    </tr>\n",
              "  </tbody>\n",
              "</table>\n",
              "</div>\n",
              "      <button class=\"colab-df-convert\" onclick=\"convertToInteractive('df-69471dcb-af96-45ca-ade6-ce46b59070d5')\"\n",
              "              title=\"Convert this dataframe to an interactive table.\"\n",
              "              style=\"display:none;\">\n",
              "        \n",
              "  <svg xmlns=\"http://www.w3.org/2000/svg\" height=\"24px\"viewBox=\"0 0 24 24\"\n",
              "       width=\"24px\">\n",
              "    <path d=\"M0 0h24v24H0V0z\" fill=\"none\"/>\n",
              "    <path d=\"M18.56 5.44l.94 2.06.94-2.06 2.06-.94-2.06-.94-.94-2.06-.94 2.06-2.06.94zm-11 1L8.5 8.5l.94-2.06 2.06-.94-2.06-.94L8.5 2.5l-.94 2.06-2.06.94zm10 10l.94 2.06.94-2.06 2.06-.94-2.06-.94-.94-2.06-.94 2.06-2.06.94z\"/><path d=\"M17.41 7.96l-1.37-1.37c-.4-.4-.92-.59-1.43-.59-.52 0-1.04.2-1.43.59L10.3 9.45l-7.72 7.72c-.78.78-.78 2.05 0 2.83L4 21.41c.39.39.9.59 1.41.59.51 0 1.02-.2 1.41-.59l7.78-7.78 2.81-2.81c.8-.78.8-2.07 0-2.86zM5.41 20L4 18.59l7.72-7.72 1.47 1.35L5.41 20z\"/>\n",
              "  </svg>\n",
              "      </button>\n",
              "      \n",
              "  <style>\n",
              "    .colab-df-container {\n",
              "      display:flex;\n",
              "      flex-wrap:wrap;\n",
              "      gap: 12px;\n",
              "    }\n",
              "\n",
              "    .colab-df-convert {\n",
              "      background-color: #E8F0FE;\n",
              "      border: none;\n",
              "      border-radius: 50%;\n",
              "      cursor: pointer;\n",
              "      display: none;\n",
              "      fill: #1967D2;\n",
              "      height: 32px;\n",
              "      padding: 0 0 0 0;\n",
              "      width: 32px;\n",
              "    }\n",
              "\n",
              "    .colab-df-convert:hover {\n",
              "      background-color: #E2EBFA;\n",
              "      box-shadow: 0px 1px 2px rgba(60, 64, 67, 0.3), 0px 1px 3px 1px rgba(60, 64, 67, 0.15);\n",
              "      fill: #174EA6;\n",
              "    }\n",
              "\n",
              "    [theme=dark] .colab-df-convert {\n",
              "      background-color: #3B4455;\n",
              "      fill: #D2E3FC;\n",
              "    }\n",
              "\n",
              "    [theme=dark] .colab-df-convert:hover {\n",
              "      background-color: #434B5C;\n",
              "      box-shadow: 0px 1px 3px 1px rgba(0, 0, 0, 0.15);\n",
              "      filter: drop-shadow(0px 1px 2px rgba(0, 0, 0, 0.3));\n",
              "      fill: #FFFFFF;\n",
              "    }\n",
              "  </style>\n",
              "\n",
              "      <script>\n",
              "        const buttonEl =\n",
              "          document.querySelector('#df-69471dcb-af96-45ca-ade6-ce46b59070d5 button.colab-df-convert');\n",
              "        buttonEl.style.display =\n",
              "          google.colab.kernel.accessAllowed ? 'block' : 'none';\n",
              "\n",
              "        async function convertToInteractive(key) {\n",
              "          const element = document.querySelector('#df-69471dcb-af96-45ca-ade6-ce46b59070d5');\n",
              "          const dataTable =\n",
              "            await google.colab.kernel.invokeFunction('convertToInteractive',\n",
              "                                                     [key], {});\n",
              "          if (!dataTable) return;\n",
              "\n",
              "          const docLinkHtml = 'Like what you see? Visit the ' +\n",
              "            '<a target=\"_blank\" href=https://colab.research.google.com/notebooks/data_table.ipynb>data table notebook</a>'\n",
              "            + ' to learn more about interactive tables.';\n",
              "          element.innerHTML = '';\n",
              "          dataTable['output_type'] = 'display_data';\n",
              "          await google.colab.output.renderOutput(dataTable, element);\n",
              "          const docLink = document.createElement('div');\n",
              "          docLink.innerHTML = docLinkHtml;\n",
              "          element.appendChild(docLink);\n",
              "        }\n",
              "      </script>\n",
              "    </div>\n",
              "  </div>\n",
              "  "
            ]
          },
          "metadata": {},
          "execution_count": 47
        }
      ]
    },
    {
      "cell_type": "markdown",
      "source": [
        "Correlation of pairs (mpg, acceleration), (displacement, acceleration) and (weight, acceleration) is moderate whereas remaining all pairs has very high correlation between them."
      ],
      "metadata": {
        "id": "U7QTfbMVCJtG"
      }
    },
    {
      "cell_type": "markdown",
      "source": [
        "## Parametric Statistical Significance Tests"
      ],
      "metadata": {
        "id": "WLcNOEvazdJk"
      }
    },
    {
      "cell_type": "markdown",
      "source": [
        "Student’s t-test - It tests whether the two independent normal distributed samples has the same mean or not."
      ],
      "metadata": {
        "id": "AMCrzKq0zqkP"
      }
    },
    {
      "cell_type": "markdown",
      "source": [
        "Testing whether acceleration in 3(asia) and 1(USA) has the same mean.\n",
        "\n",
        "Check whether acceleration of both 3(asia) and 1(USA) are normally distributed or not and then apply the applicable tests."
      ],
      "metadata": {
        "id": "OAOikVGxzuSi"
      }
    },
    {
      "cell_type": "code",
      "source": [
        "shapiro_wilk_test(auto_data[auto_data.origin==3], ['acceleration'])"
      ],
      "metadata": {
        "colab": {
          "base_uri": "https://localhost:8080/"
        },
        "id": "MAnFjOw3zqMe",
        "outputId": "ce5b3ddd-5282-4cbf-9dbf-2acaac9a7b5f"
      },
      "execution_count": null,
      "outputs": [
        {
          "output_type": "stream",
          "name": "stdout",
          "text": [
            "\n",
            "Fail to reject H0 due to lack of evidence under significance level 0.05\n",
            "acceleration seem to be normally distributed\n"
          ]
        }
      ]
    },
    {
      "cell_type": "code",
      "source": [
        "shapiro_wilk_test(auto_data[auto_data.origin==1], ['acceleration'])"
      ],
      "metadata": {
        "id": "yFZcnKjryxVL",
        "colab": {
          "base_uri": "https://localhost:8080/"
        },
        "outputId": "4edff1b1-3d7b-466e-e114-fa4b63284c25"
      },
      "execution_count": null,
      "outputs": [
        {
          "output_type": "stream",
          "name": "stdout",
          "text": [
            "\n",
            "Fail to reject H0 due to lack of evidence under significance level 0.05\n",
            "acceleration seem to be normally distributed\n"
          ]
        }
      ]
    },
    {
      "cell_type": "markdown",
      "source": [
        "So both are normally distributed so parametric test can be applied."
      ],
      "metadata": {
        "id": "1eVHTHVx0Ipj"
      }
    },
    {
      "cell_type": "markdown",
      "source": [
        "&emsp;&emsp;&emsp;$H_{0}$: acceleration of 3 and acceleration of 1 has same sample mean. &emsp;&emsp;&emsp;&emsp;&emsp;&emsp; $\\alpha=0.05$"
      ],
      "metadata": {
        "id": "B_cs_WwK0P4K"
      }
    },
    {
      "cell_type": "code",
      "source": [
        "_, p = stats.ttest_ind(auto_data[auto_data.origin==3].acceleration, auto_data[auto_data.origin==1].acceleration, equal_var=False)\n",
        "\n",
        "if p <= alpha:\n",
        "    print(f'Rejected H0 under {alpha*100}% significance, Different distributions.')\n",
        "else:\n",
        "    print(f'Fail to Reject H0 under {alpha*100}% significance, Same distributions.')"
      ],
      "metadata": {
        "id": "dYAYRygq0F2_",
        "colab": {
          "base_uri": "https://localhost:8080/"
        },
        "outputId": "6b3fcc2d-42c8-43bf-aca1-32b75c02b4b1"
      },
      "execution_count": null,
      "outputs": [
        {
          "output_type": "stream",
          "name": "stdout",
          "text": [
            "Rejected H0 under 5.0% significance, Different distributions.\n"
          ]
        }
      ]
    },
    {
      "cell_type": "code",
      "source": [
        "_, p = stats.f_oneway(auto_data[auto_data.origin==3].acceleration, auto_data[auto_data.origin==1].acceleration, auto_data[auto_data.origin==2].acceleration)\n",
        "\n",
        "if p <= alpha:\n",
        "    print(f'Rejected H0 under {alpha*100}% significance, Different distributions.')\n",
        "else:\n",
        "    print(f'Fail to Reject H0 under {alpha*100}% significance, Same distributions.')"
      ],
      "metadata": {
        "id": "3eKTdt-P0meP",
        "colab": {
          "base_uri": "https://localhost:8080/"
        },
        "outputId": "95f2e3d3-bac9-40c5-cc58-39af6f963a38"
      },
      "execution_count": null,
      "outputs": [
        {
          "output_type": "stream",
          "name": "stdout",
          "text": [
            "Rejected H0 under 5.0% significance, Different distributions.\n"
          ]
        }
      ]
    },
    {
      "cell_type": "markdown",
      "source": [
        "## Non-Parametric Statistical Significance Tests\n",
        "\n",
        "Kruskal-Wallis H - Non-parameetric equivalent of ANOVA (it's for median)."
      ],
      "metadata": {
        "id": "H6XFaUV3_EJo"
      }
    },
    {
      "cell_type": "markdown",
      "source": [
        "Testing whether horsepower across all the regions has the same distribution or not."
      ],
      "metadata": {
        "id": "RAN5kjyS00Sr"
      }
    },
    {
      "cell_type": "code",
      "source": [
        "shapiro_wilk_test(auto_data[auto_data.origin==3], ['horsepower'])"
      ],
      "metadata": {
        "id": "mOxSxoiS0wOV",
        "colab": {
          "base_uri": "https://localhost:8080/"
        },
        "outputId": "967962fa-287d-467d-ff34-9a078f2d56fe"
      },
      "execution_count": null,
      "outputs": [
        {
          "output_type": "stream",
          "name": "stdout",
          "text": [
            "\n",
            "Rejected H0 under significance level 0.05\n",
            "horsepower doesn't seems to be normally distributed\n"
          ]
        }
      ]
    },
    {
      "cell_type": "code",
      "source": [
        "shapiro_wilk_test(auto_data[auto_data.origin==2], ['horsepower'])"
      ],
      "metadata": {
        "id": "1uPC0j7D06ys",
        "colab": {
          "base_uri": "https://localhost:8080/"
        },
        "outputId": "391861a4-64a0-40df-b228-70bb7e7a5632"
      },
      "execution_count": null,
      "outputs": [
        {
          "output_type": "stream",
          "name": "stdout",
          "text": [
            "\n",
            "Fail to reject H0 due to lack of evidence under significance level 0.05\n",
            "horsepower seem to be normally distributed\n"
          ]
        }
      ]
    },
    {
      "cell_type": "code",
      "source": [
        "shapiro_wilk_test(auto_data[auto_data.origin==1], ['horsepower'])"
      ],
      "metadata": {
        "id": "bxdJQw1C095V",
        "colab": {
          "base_uri": "https://localhost:8080/"
        },
        "outputId": "47d5477d-3ab7-42da-e09c-3dd1a3272172"
      },
      "execution_count": null,
      "outputs": [
        {
          "output_type": "stream",
          "name": "stdout",
          "text": [
            "\n",
            "Rejected H0 under significance level 0.05\n",
            "horsepower doesn't seems to be normally distributed\n"
          ]
        }
      ]
    },
    {
      "cell_type": "markdown",
      "source": [
        "So all of them are not normally distributed so we will apply non-parametric test."
      ],
      "metadata": {
        "id": "dLwpboc7-su4"
      }
    },
    {
      "cell_type": "markdown",
      "source": [
        "&emsp;&emsp;&emsp;$H_{0}$: Sample distributions are equal for horsepower across region. &emsp;&emsp;&emsp;&emsp;&emsp;&emsp; $\\alpha=0.05$"
      ],
      "metadata": {
        "id": "vGvPPT6o-xmF"
      }
    },
    {
      "cell_type": "code",
      "source": [
        "_, p = stats.kruskal(auto_data[auto_data.origin==3].horsepower, auto_data[auto_data.origin==1].horsepower, auto_data[auto_data.origin==2].horsepower)\n",
        "\n",
        "if p <= alpha:\n",
        "    print(f'Rejected H0 under {alpha*100}% significance, Different distributions.')\n",
        "else:\n",
        "    print(f'Fail to Reject H0 under {alpha*100}% significance, Same distributions.')"
      ],
      "metadata": {
        "id": "qhfKWZeq-w6W",
        "colab": {
          "base_uri": "https://localhost:8080/"
        },
        "outputId": "277f741b-97ae-470c-d331-fc8d4017e41e"
      },
      "execution_count": null,
      "outputs": [
        {
          "output_type": "stream",
          "name": "stdout",
          "text": [
            "Rejected H0 under 5.0% significance, Different distributions.\n"
          ]
        }
      ]
    },
    {
      "cell_type": "markdown",
      "source": [
        "# Conclusion\n",
        "Hence descriptive analysis is performed by evaluating mean, variance, standard deviaton, skewness, etc. of features present in the dataset. The hypothesis testing is performed for testing the independence between two categorical variables using Pearson's Chi-square test. Normality test is performed for numerical attributes by using histogram distribution for visual test and shapiro walk test for statistical test.\n"
      ],
      "metadata": {
        "id": "o36AzlzJ9f2U"
      }
    }
  ]
}